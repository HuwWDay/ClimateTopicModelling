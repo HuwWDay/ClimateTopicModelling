{
 "cells": [
  {
   "cell_type": "code",
   "execution_count": 36,
   "metadata": {},
   "outputs": [],
   "source": [
    "import pandas as pd"
   ]
  },
  {
   "cell_type": "markdown",
   "metadata": {},
   "source": [
    "Make sure I've not mucked this up with ordering things! Every doc should have a topic"
   ]
  },
  {
   "cell_type": "code",
   "execution_count": 37,
   "metadata": {},
   "outputs": [
    {
     "data": {
      "text/html": [
       "<div>\n",
       "<style scoped>\n",
       "    .dataframe tbody tr th:only-of-type {\n",
       "        vertical-align: middle;\n",
       "    }\n",
       "\n",
       "    .dataframe tbody tr th {\n",
       "        vertical-align: top;\n",
       "    }\n",
       "\n",
       "    .dataframe thead th {\n",
       "        text-align: right;\n",
       "    }\n",
       "</style>\n",
       "<table border=\"1\" class=\"dataframe\">\n",
       "  <thead>\n",
       "    <tr style=\"text-align: right;\">\n",
       "      <th></th>\n",
       "      <th>Document</th>\n",
       "      <th>Index</th>\n",
       "    </tr>\n",
       "  </thead>\n",
       "  <tbody>\n",
       "    <tr>\n",
       "      <th>0</th>\n",
       "      <td>I moved my outdoor furniture</td>\n",
       "      <td>1</td>\n",
       "    </tr>\n",
       "    <tr>\n",
       "      <th>1</th>\n",
       "      <td>was anxious when I heard the wind</td>\n",
       "      <td>1</td>\n",
       "    </tr>\n",
       "    <tr>\n",
       "      <th>2</th>\n",
       "      <td>No dog walks</td>\n",
       "      <td>2</td>\n",
       "    </tr>\n",
       "    <tr>\n",
       "      <th>3</th>\n",
       "      <td>Our garden flooded so had to fork it to aid dr...</td>\n",
       "      <td>3</td>\n",
       "    </tr>\n",
       "    <tr>\n",
       "      <th>4</th>\n",
       "      <td>Didn’t go out when storms hit</td>\n",
       "      <td>4</td>\n",
       "    </tr>\n",
       "  </tbody>\n",
       "</table>\n",
       "</div>"
      ],
      "text/plain": [
       "                                            Document  Index\n",
       "0                      I moved my outdoor furniture       1\n",
       "1                 was anxious when I heard the wind       1\n",
       "2                                      No dog walks       2\n",
       "3  Our garden flooded so had to fork it to aid dr...      3\n",
       "4                      Didn’t go out when storms hit      4"
      ]
     },
     "execution_count": 37,
     "metadata": {},
     "output_type": "execute_result"
    }
   ],
   "source": [
    "HeatData=pd.read_csv('DocumentProcessing/HeatData.csv')\n",
    "HeatData.head()\n",
    "\n",
    "ColdData=pd.read_csv('DocumentProcessing/ColdData.csv')\n",
    "ColdData.head()\n",
    "\n",
    "FloodData=pd.read_csv('DocumentProcessing/FloodData.csv')\n",
    "FloodData.head()"
   ]
  },
  {
   "cell_type": "code",
   "execution_count": 38,
   "metadata": {},
   "outputs": [
    {
     "data": {
      "text/html": [
       "<div>\n",
       "<style scoped>\n",
       "    .dataframe tbody tr th:only-of-type {\n",
       "        vertical-align: middle;\n",
       "    }\n",
       "\n",
       "    .dataframe tbody tr th {\n",
       "        vertical-align: top;\n",
       "    }\n",
       "\n",
       "    .dataframe thead th {\n",
       "        text-align: right;\n",
       "    }\n",
       "</style>\n",
       "<table border=\"1\" class=\"dataframe\">\n",
       "  <thead>\n",
       "    <tr style=\"text-align: right;\">\n",
       "      <th></th>\n",
       "      <th>Document</th>\n",
       "      <th>Topic_Actual</th>\n",
       "    </tr>\n",
       "  </thead>\n",
       "  <tbody>\n",
       "    <tr>\n",
       "      <th>0</th>\n",
       "      <td>I moved my outdoor furniture</td>\n",
       "      <td>0</td>\n",
       "    </tr>\n",
       "    <tr>\n",
       "      <th>1</th>\n",
       "      <td>was anxious when I heard the wind</td>\n",
       "      <td>1</td>\n",
       "    </tr>\n",
       "    <tr>\n",
       "      <th>2</th>\n",
       "      <td>No dog walks</td>\n",
       "      <td>6</td>\n",
       "    </tr>\n",
       "    <tr>\n",
       "      <th>3</th>\n",
       "      <td>Our garden flooded so had to fork it to aid dr...</td>\n",
       "      <td>2</td>\n",
       "    </tr>\n",
       "    <tr>\n",
       "      <th>4</th>\n",
       "      <td>Didnâ€™t go out when storms hit</td>\n",
       "      <td>1</td>\n",
       "    </tr>\n",
       "  </tbody>\n",
       "</table>\n",
       "</div>"
      ],
      "text/plain": [
       "                                            Document  Topic_Actual\n",
       "0                      I moved my outdoor furniture              0\n",
       "1                 was anxious when I heard the wind              1\n",
       "2                                      No dog walks              6\n",
       "3  Our garden flooded so had to fork it to aid dr...             2\n",
       "4                    Didnâ€™t go out when storms hit             1"
      ]
     },
     "execution_count": 38,
     "metadata": {},
     "output_type": "execute_result"
    }
   ],
   "source": [
    "ColdTopics = pd.read_excel('DocumentProcessing/Cold_Document_Info (1).xlsx')\n",
    "ColdTopics['Topic_Actual'] = ColdTopics.apply(\n",
    "    lambda row: int(row['Reassigned Topic']) if pd.notnull(row['Reassigned Topic']) else int(row['Topic']), axis=1\n",
    ")\n",
    "ColdFocus = ColdTopics[[\"Document\", \"Topic_Actual\"]]#, 'Representation', 'Representative_Docs', 'Top_n_words']]\n",
    "ColdFocus.head()\n",
    "\n",
    "FloodTopics = pd.read_excel('DocumentProcessing/Flood_Document_Info (1).xlsx')\n",
    "FloodTopics['Topic_Actual'] = FloodTopics.apply(\n",
    "    lambda row: int(row['Reassigned Topic']) if pd.notnull(row['Reassigned Topic']) else int(row['Topic']), axis=1\n",
    ")\n",
    "FloodFocus = FloodTopics[[\"Document\", \"Topic_Actual\"]]#, 'Representation', 'Representative_Docs', 'Top_n_words']]\n",
    "FloodFocus.head()"
   ]
  },
  {
   "cell_type": "code",
   "execution_count": 39,
   "metadata": {},
   "outputs": [
    {
     "name": "stdout",
     "output_type": "stream",
     "text": [
      "Cold entries removed:  126\n",
      "Flood entries removed:  107\n"
     ]
    }
   ],
   "source": [
    "# Remove any entry with \"Topic_Actual\" == -100\n",
    "print(\"Cold entries removed: \", ColdFocus[ColdFocus['Topic_Actual'] == -100].shape[0])\n",
    "ColdFocus = ColdFocus[ColdFocus['Topic_Actual'] != -100]\n",
    "# Output how many ColdFocus items were removed by this process\n",
    "print(\"Flood entries removed: \", FloodFocus[FloodFocus['Topic_Actual'] == -100].shape[0])\n",
    "FloodFocus = FloodFocus[FloodFocus['Topic_Actual'] != -100]"
   ]
  },
  {
   "cell_type": "code",
   "execution_count": 40,
   "metadata": {},
   "outputs": [
    {
     "name": "stdout",
     "output_type": "stream",
     "text": [
      "                                               Document  Index  Topic_Actual\n",
      "0                         I moved my outdoor furniture       1             0\n",
      "1                    was anxious when I heard the wind       1             1\n",
      "2                                         No dog walks       2             6\n",
      "3     Our garden flooded so had to fork it to aid dr...      3             2\n",
      "4                                       Prepared for it      5            11\n",
      "...                                                 ...    ...           ...\n",
      "2498                                     Stayed in more   1320             4\n",
      "2499                                     Stayed in more   1320             4\n",
      "2500                                     Stayed in more   1320             4\n",
      "2501                                     Stayed in more   1320             4\n",
      "2502                                  Walked less often   1321            15\n",
      "\n",
      "[2503 rows x 3 columns]\n"
     ]
    }
   ],
   "source": [
    "# Note I reordered the relabelled data by index in excel before merging\n",
    "ColdDf = ColdData.merge(ColdFocus)\n",
    "ColdDf.head()\n",
    "\n",
    "FloodDf = FloodData.merge(FloodFocus)\n",
    "print(FloodDf)"
   ]
  },
  {
   "cell_type": "code",
   "execution_count": 41,
   "metadata": {},
   "outputs": [
    {
     "data": {
      "text/plain": [
       "Topic_Actual\n",
       " 4     674\n",
       " 0     272\n",
       " 1     176\n",
       " 2     151\n",
       " 10    132\n",
       " 5     130\n",
       " 3     125\n",
       " 9     105\n",
       " 8     100\n",
       " 7      99\n",
       "-1      95\n",
       " 6      87\n",
       " 13     83\n",
       " 14     63\n",
       " 11     60\n",
       " 12     57\n",
       " 15     50\n",
       " 16     44\n",
       "Name: count, dtype: int64"
      ]
     },
     "execution_count": 41,
     "metadata": {},
     "output_type": "execute_result"
    }
   ],
   "source": [
    "ColdDf[\"Topic_Actual\"].value_counts()\n",
    "FloodDf[\"Topic_Actual\"].value_counts()"
   ]
  },
  {
   "cell_type": "code",
   "execution_count": 42,
   "metadata": {},
   "outputs": [],
   "source": [
    "def ColdMap(topic_no):\n",
    "    \"\"\"\n",
    "    Maps topic numbers generated from BERT for Cold Data to major and minor categories\n",
    "    \"\"\"\n",
    "    if topic_no == 0:\n",
    "        return \"Personal care\", \"Warm clothes/hot water bottle\"\n",
    "    elif topic_no == 1:\n",
    "        return \"Reduced activity\", \"Cancelled plans/exercise\"\n",
    "    elif topic_no == 2:\n",
    "        return \"Precaution\", \"Car/external home preparation\"\n",
    "    elif topic_no == 3:\n",
    "        return \"Home adaptation\", \"Blankets\"\n",
    "    elif topic_no in [4, 7, 8, 9, 14]:\n",
    "        return \"Technology solution\", \"Heating\"\n",
    "    elif topic_no == 5:\n",
    "        return \"Alternative plans\", \"Transport\"\n",
    "    elif topic_no == 6:\n",
    "        return \"Reduced activity\", \"Stay indoors\"\n",
    "    elif topic_no == 10:\n",
    "        return \"Alternative plans\", \"Early bed/walk\"\n",
    "    elif topic_no in [11, 15]:\n",
    "        return \"Home adaptation\", \"Insulation\"\n",
    "    elif topic_no == 12:\n",
    "        return \"Alternative plans\", \"Home working\"\n",
    "    elif topic_no == 13:\n",
    "        return \"Anxiety\", \"Cost of heating\"\n",
    "    elif topic_no == 16:\n",
    "        return \"Precaution\", \"Stock up food\"\n",
    "    elif topic_no == 17:\n",
    "        return \"Personal care\", \"Hot meals/drinks\"\n",
    "    elif topic_no == -1:\n",
    "        return \"Other\", \"Other\"\n",
    "    else:\n",
    "        print(\"Cold Error:\", topic_no)\n",
    "    \n",
    "def FloodMap(topic_no):\n",
    "    \"\"\"\n",
    "    Maps topic numbers generated from BERT for Flood Data to major and minor categories\n",
    "    \"\"\"\n",
    "    if topic_no == 0:\n",
    "        return \"Precaution\", \"Secure objects\"\n",
    "    elif topic_no in [1, 4, 5, 10]:\n",
    "        return \"Reduced activity\", \"Stay indoors\"\n",
    "    elif topic_no in [2, 14]:\n",
    "        return \"Alternative plans\", \"Route\"\n",
    "    elif topic_no in [3, 15]:\n",
    "        return \"Reduced activity\", \"Reduced exercise\"\n",
    "    elif topic_no == 6:\n",
    "        return \"Clothing\", \"Waterproof gear\"\n",
    "    elif topic_no == 7:\n",
    "        return \"Alternative plans\", \"Transport\"\n",
    "    elif topic_no == 8:\n",
    "        return \"Alternative plans\", \"Longer journeys\"\n",
    "    elif topic_no == 9:\n",
    "        return \"Reduced activity\", \"Cancelled plans\"\n",
    "    elif topic_no == 11:\n",
    "        return \"Precaution\", \"Stock up food\"\n",
    "    elif topic_no == 12:\n",
    "        return \"Clothing\", \"Warm clothes\"\n",
    "    elif topic_no == 13:\n",
    "        return \"Precaution\", \"Clear drains/gutter\"\n",
    "    elif topic_no == 16:\n",
    "        return \"Precaution\", \"Check in on people\"\n",
    "    elif topic_no == -1:\n",
    "        return \"Other\", \"Other\"\n",
    "    else:\n",
    "        print(\"Flood Error\", topic_no)"
   ]
  },
  {
   "cell_type": "code",
   "execution_count": 43,
   "metadata": {},
   "outputs": [
    {
     "data": {
      "text/html": [
       "<div>\n",
       "<style scoped>\n",
       "    .dataframe tbody tr th:only-of-type {\n",
       "        vertical-align: middle;\n",
       "    }\n",
       "\n",
       "    .dataframe tbody tr th {\n",
       "        vertical-align: top;\n",
       "    }\n",
       "\n",
       "    .dataframe thead th {\n",
       "        text-align: right;\n",
       "    }\n",
       "</style>\n",
       "<table border=\"1\" class=\"dataframe\">\n",
       "  <thead>\n",
       "    <tr style=\"text-align: right;\">\n",
       "      <th></th>\n",
       "      <th>Document</th>\n",
       "      <th>Index</th>\n",
       "      <th>Topic_Actual</th>\n",
       "      <th>Major</th>\n",
       "      <th>Minor</th>\n",
       "    </tr>\n",
       "  </thead>\n",
       "  <tbody>\n",
       "    <tr>\n",
       "      <th>0</th>\n",
       "      <td>I moved my outdoor furniture</td>\n",
       "      <td>1</td>\n",
       "      <td>0</td>\n",
       "      <td>Precaution</td>\n",
       "      <td>Secure objects</td>\n",
       "    </tr>\n",
       "    <tr>\n",
       "      <th>1</th>\n",
       "      <td>was anxious when I heard the wind</td>\n",
       "      <td>1</td>\n",
       "      <td>1</td>\n",
       "      <td>Reduced activity</td>\n",
       "      <td>Stay indoors</td>\n",
       "    </tr>\n",
       "    <tr>\n",
       "      <th>2</th>\n",
       "      <td>No dog walks</td>\n",
       "      <td>2</td>\n",
       "      <td>6</td>\n",
       "      <td>Clothing</td>\n",
       "      <td>Waterproof gear</td>\n",
       "    </tr>\n",
       "    <tr>\n",
       "      <th>3</th>\n",
       "      <td>Our garden flooded so had to fork it to aid dr...</td>\n",
       "      <td>3</td>\n",
       "      <td>2</td>\n",
       "      <td>Alternative plans</td>\n",
       "      <td>Route</td>\n",
       "    </tr>\n",
       "    <tr>\n",
       "      <th>4</th>\n",
       "      <td>Prepared for it</td>\n",
       "      <td>5</td>\n",
       "      <td>11</td>\n",
       "      <td>Precaution</td>\n",
       "      <td>Stock up food</td>\n",
       "    </tr>\n",
       "    <tr>\n",
       "      <th>...</th>\n",
       "      <td>...</td>\n",
       "      <td>...</td>\n",
       "      <td>...</td>\n",
       "      <td>...</td>\n",
       "      <td>...</td>\n",
       "    </tr>\n",
       "    <tr>\n",
       "      <th>2498</th>\n",
       "      <td>Stayed in more</td>\n",
       "      <td>1320</td>\n",
       "      <td>4</td>\n",
       "      <td>Reduced activity</td>\n",
       "      <td>Stay indoors</td>\n",
       "    </tr>\n",
       "    <tr>\n",
       "      <th>2499</th>\n",
       "      <td>Stayed in more</td>\n",
       "      <td>1320</td>\n",
       "      <td>4</td>\n",
       "      <td>Reduced activity</td>\n",
       "      <td>Stay indoors</td>\n",
       "    </tr>\n",
       "    <tr>\n",
       "      <th>2500</th>\n",
       "      <td>Stayed in more</td>\n",
       "      <td>1320</td>\n",
       "      <td>4</td>\n",
       "      <td>Reduced activity</td>\n",
       "      <td>Stay indoors</td>\n",
       "    </tr>\n",
       "    <tr>\n",
       "      <th>2501</th>\n",
       "      <td>Stayed in more</td>\n",
       "      <td>1320</td>\n",
       "      <td>4</td>\n",
       "      <td>Reduced activity</td>\n",
       "      <td>Stay indoors</td>\n",
       "    </tr>\n",
       "    <tr>\n",
       "      <th>2502</th>\n",
       "      <td>Walked less often</td>\n",
       "      <td>1321</td>\n",
       "      <td>15</td>\n",
       "      <td>Reduced activity</td>\n",
       "      <td>Reduced exercise</td>\n",
       "    </tr>\n",
       "  </tbody>\n",
       "</table>\n",
       "<p>2503 rows × 5 columns</p>\n",
       "</div>"
      ],
      "text/plain": [
       "                                               Document  Index  Topic_Actual  \\\n",
       "0                         I moved my outdoor furniture       1             0   \n",
       "1                    was anxious when I heard the wind       1             1   \n",
       "2                                         No dog walks       2             6   \n",
       "3     Our garden flooded so had to fork it to aid dr...      3             2   \n",
       "4                                       Prepared for it      5            11   \n",
       "...                                                 ...    ...           ...   \n",
       "2498                                     Stayed in more   1320             4   \n",
       "2499                                     Stayed in more   1320             4   \n",
       "2500                                     Stayed in more   1320             4   \n",
       "2501                                     Stayed in more   1320             4   \n",
       "2502                                  Walked less often   1321            15   \n",
       "\n",
       "                  Major             Minor  \n",
       "0            Precaution    Secure objects  \n",
       "1      Reduced activity      Stay indoors  \n",
       "2              Clothing   Waterproof gear  \n",
       "3     Alternative plans             Route  \n",
       "4            Precaution     Stock up food  \n",
       "...                 ...               ...  \n",
       "2498   Reduced activity      Stay indoors  \n",
       "2499   Reduced activity      Stay indoors  \n",
       "2500   Reduced activity      Stay indoors  \n",
       "2501   Reduced activity      Stay indoors  \n",
       "2502   Reduced activity  Reduced exercise  \n",
       "\n",
       "[2503 rows x 5 columns]"
      ]
     },
     "execution_count": 43,
     "metadata": {},
     "output_type": "execute_result"
    }
   ],
   "source": [
    "ColdDf['Major'], ColdDf['Minor'] = zip(*ColdDf['Topic_Actual'].map(ColdMap))\n",
    "ColdDf.head()\n",
    "\n",
    "FloodDf['Major'], FloodDf['Minor'] = zip(*FloodDf['Topic_Actual'].map(FloodMap))\n",
    "FloodDf"
   ]
  },
  {
   "cell_type": "markdown",
   "metadata": {},
   "source": [
    "https://plotly.com/python/icicle-charts/"
   ]
  },
  {
   "cell_type": "code",
   "execution_count": 44,
   "metadata": {},
   "outputs": [],
   "source": [
    "# cold_major_count = ColdDf['Major'].value_counts()\n",
    "# print(cold_major_count)\n",
    "# cold_minor_count = ColdDf['Minor'].value_counts()\n",
    "# print(cold_minor_count)\n",
    "\n",
    "def MajorMinorDf_To_IcicleFrame(dataframe):\n",
    "    \"\"\"\n",
    "    Converts a dataframe with Major and Minor columns to a dataframe with Major, Minor, and Count columns.\n",
    "    The Count column represents the unique number of individuals (Index) that correspond with each combination\n",
    "    of Major and Minor.\n",
    "    \"\"\"\n",
    "    \n",
    "    # Group by 'Major' and 'Minor' and count unique occurrences of 'Index'\n",
    "    major_minor_count = dataframe.groupby(['Major', 'Minor'])['Index'].nunique().reset_index(name='Count')\n",
    "    \n",
    "    # Sort the DataFrame by 'Major' and 'Count' in descending order\n",
    "    major_minor_count = major_minor_count.sort_values(by=['Major', 'Count'], ascending=[True, False])\n",
    "    \n",
    "    # Reset the index of the sorted DataFrame\n",
    "    major_minor_count = major_minor_count.reset_index(drop=True)\n",
    "    \n",
    "    # Return the processed DataFrame\n",
    "    return major_minor_count\n",
    "\n",
    "Cold_Icicle = MajorMinorDf_To_IcicleFrame(ColdDf)\n",
    "Flood_Icicle = MajorMinorDf_To_IcicleFrame(FloodDf)"
   ]
  },
  {
   "cell_type": "code",
   "execution_count": 45,
   "metadata": {},
   "outputs": [
    {
     "data": {
      "text/html": [
       "<div>\n",
       "<style scoped>\n",
       "    .dataframe tbody tr th:only-of-type {\n",
       "        vertical-align: middle;\n",
       "    }\n",
       "\n",
       "    .dataframe tbody tr th {\n",
       "        vertical-align: top;\n",
       "    }\n",
       "\n",
       "    .dataframe thead th {\n",
       "        text-align: right;\n",
       "    }\n",
       "</style>\n",
       "<table border=\"1\" class=\"dataframe\">\n",
       "  <thead>\n",
       "    <tr style=\"text-align: right;\">\n",
       "      <th></th>\n",
       "      <th>Major</th>\n",
       "      <th>Minor</th>\n",
       "      <th>Count</th>\n",
       "    </tr>\n",
       "  </thead>\n",
       "  <tbody>\n",
       "    <tr>\n",
       "      <th>0</th>\n",
       "      <td>Alternative plans</td>\n",
       "      <td>Transport</td>\n",
       "      <td>110</td>\n",
       "    </tr>\n",
       "    <tr>\n",
       "      <th>1</th>\n",
       "      <td>Alternative plans</td>\n",
       "      <td>Early bed/walk</td>\n",
       "      <td>92</td>\n",
       "    </tr>\n",
       "    <tr>\n",
       "      <th>2</th>\n",
       "      <td>Alternative plans</td>\n",
       "      <td>Home working</td>\n",
       "      <td>80</td>\n",
       "    </tr>\n",
       "    <tr>\n",
       "      <th>3</th>\n",
       "      <td>Home adaptation</td>\n",
       "      <td>Blankets</td>\n",
       "      <td>162</td>\n",
       "    </tr>\n",
       "    <tr>\n",
       "      <th>4</th>\n",
       "      <td>Home adaptation</td>\n",
       "      <td>Insulation</td>\n",
       "      <td>126</td>\n",
       "    </tr>\n",
       "    <tr>\n",
       "      <th>5</th>\n",
       "      <td>Other</td>\n",
       "      <td>Other</td>\n",
       "      <td>52</td>\n",
       "    </tr>\n",
       "    <tr>\n",
       "      <th>6</th>\n",
       "      <td>Personal care</td>\n",
       "      <td>Warm clothes/hot water bottle</td>\n",
       "      <td>561</td>\n",
       "    </tr>\n",
       "    <tr>\n",
       "      <th>7</th>\n",
       "      <td>Personal care</td>\n",
       "      <td>Hot meals/drinks</td>\n",
       "      <td>71</td>\n",
       "    </tr>\n",
       "    <tr>\n",
       "      <th>8</th>\n",
       "      <td>Precaution</td>\n",
       "      <td>Car/external home preparation</td>\n",
       "      <td>213</td>\n",
       "    </tr>\n",
       "    <tr>\n",
       "      <th>9</th>\n",
       "      <td>Precaution</td>\n",
       "      <td>Stock up food</td>\n",
       "      <td>67</td>\n",
       "    </tr>\n",
       "    <tr>\n",
       "      <th>10</th>\n",
       "      <td>Reduced activity</td>\n",
       "      <td>Cancelled plans/exercise</td>\n",
       "      <td>297</td>\n",
       "    </tr>\n",
       "    <tr>\n",
       "      <th>11</th>\n",
       "      <td>Reduced activity</td>\n",
       "      <td>Stay indoors</td>\n",
       "      <td>169</td>\n",
       "    </tr>\n",
       "    <tr>\n",
       "      <th>12</th>\n",
       "      <td>Technology solution</td>\n",
       "      <td>Heating</td>\n",
       "      <td>625</td>\n",
       "    </tr>\n",
       "  </tbody>\n",
       "</table>\n",
       "</div>"
      ],
      "text/plain": [
       "                  Major                          Minor  Count\n",
       "0     Alternative plans                      Transport    110\n",
       "1     Alternative plans                 Early bed/walk     92\n",
       "2     Alternative plans                   Home working     80\n",
       "3       Home adaptation                       Blankets    162\n",
       "4       Home adaptation                     Insulation    126\n",
       "5                 Other                          Other     52\n",
       "6         Personal care  Warm clothes/hot water bottle    561\n",
       "7         Personal care               Hot meals/drinks     71\n",
       "8            Precaution  Car/external home preparation    213\n",
       "9            Precaution                  Stock up food     67\n",
       "10     Reduced activity       Cancelled plans/exercise    297\n",
       "11     Reduced activity                   Stay indoors    169\n",
       "12  Technology solution                        Heating    625"
      ]
     },
     "execution_count": 45,
     "metadata": {},
     "output_type": "execute_result"
    }
   ],
   "source": [
    "Cold_Icicle = Cold_Icicle[Cold_Icicle['Major'] != 'Anxiety']\n",
    "Cold_Icicle.reset_index(drop=True, inplace=True)\n",
    "Cold_Icicle"
   ]
  },
  {
   "cell_type": "markdown",
   "metadata": {},
   "source": [
    "https://plotly.com/python/discrete-color/"
   ]
  },
  {
   "cell_type": "code",
   "execution_count": 85,
   "metadata": {},
   "outputs": [
    {
     "data": {
      "application/vnd.plotly.v1+json": {
       "config": {
        "plotlyServerURL": "https://plot.ly"
       },
       "data": [
        {
         "customdata": [
          0,
          1,
          2,
          3,
          4,
          5,
          6,
          7,
          8,
          9,
          10
         ],
         "hovertemplate": "%{y}[%{customdata}] = %{marker.color}<extra></extra>",
         "marker": {
          "color": [
           "rgb(229, 134, 6)",
           "rgb(93, 105, 177)",
           "rgb(82, 188, 163)",
           "rgb(153, 201, 69)",
           "rgb(204, 97, 176)",
           "rgb(36, 121, 108)",
           "rgb(218, 165, 27)",
           "rgb(47, 138, 196)",
           "rgb(118, 78, 159)",
           "rgb(237, 100, 90)",
           "rgb(165, 170, 153)"
          ]
         },
         "orientation": "h",
         "type": "bar",
         "x": [
          1,
          1,
          1,
          1,
          1,
          1,
          1,
          1,
          1,
          1,
          1
         ],
         "y": [
          "Vivid",
          "Vivid",
          "Vivid",
          "Vivid",
          "Vivid",
          "Vivid",
          "Vivid",
          "Vivid",
          "Vivid",
          "Vivid",
          "Vivid"
         ]
        },
        {
         "customdata": [
          0,
          1,
          2,
          3,
          4,
          5,
          6,
          7,
          8,
          9,
          10
         ],
         "hovertemplate": "%{y}[%{customdata}] = %{marker.color}<extra></extra>",
         "marker": {
          "color": [
           "rgb(136, 204, 238)",
           "rgb(204, 102, 119)",
           "rgb(221, 204, 119)",
           "rgb(17, 119, 51)",
           "rgb(51, 34, 136)",
           "rgb(170, 68, 153)",
           "rgb(68, 170, 153)",
           "rgb(153, 153, 51)",
           "rgb(136, 34, 85)",
           "rgb(102, 17, 0)",
           "rgb(136, 136, 136)"
          ]
         },
         "orientation": "h",
         "type": "bar",
         "x": [
          1,
          1,
          1,
          1,
          1,
          1,
          1,
          1,
          1,
          1,
          1
         ],
         "y": [
          "Safe",
          "Safe",
          "Safe",
          "Safe",
          "Safe",
          "Safe",
          "Safe",
          "Safe",
          "Safe",
          "Safe",
          "Safe"
         ]
        },
        {
         "customdata": [
          0,
          1,
          2,
          3,
          4,
          5,
          6,
          7,
          8,
          9,
          10
         ],
         "hovertemplate": "%{y}[%{customdata}] = %{marker.color}<extra></extra>",
         "marker": {
          "color": [
           "rgb(95, 70, 144)",
           "rgb(29, 105, 150)",
           "rgb(56, 166, 165)",
           "rgb(15, 133, 84)",
           "rgb(115, 175, 72)",
           "rgb(237, 173, 8)",
           "rgb(225, 124, 5)",
           "rgb(204, 80, 62)",
           "rgb(148, 52, 110)",
           "rgb(111, 64, 112)",
           "rgb(102, 102, 102)"
          ]
         },
         "orientation": "h",
         "type": "bar",
         "x": [
          1,
          1,
          1,
          1,
          1,
          1,
          1,
          1,
          1,
          1,
          1
         ],
         "y": [
          "Prism",
          "Prism",
          "Prism",
          "Prism",
          "Prism",
          "Prism",
          "Prism",
          "Prism",
          "Prism",
          "Prism",
          "Prism"
         ]
        },
        {
         "customdata": [
          0,
          1,
          2,
          3,
          4,
          5,
          6,
          7,
          8,
          9,
          10
         ],
         "hovertemplate": "%{y}[%{customdata}] = %{marker.color}<extra></extra>",
         "marker": {
          "color": [
           "rgb(102, 197, 204)",
           "rgb(246, 207, 113)",
           "rgb(248, 156, 116)",
           "rgb(220, 176, 242)",
           "rgb(135, 197, 95)",
           "rgb(158, 185, 243)",
           "rgb(254, 136, 177)",
           "rgb(201, 219, 116)",
           "rgb(139, 224, 164)",
           "rgb(180, 151, 231)",
           "rgb(179, 179, 179)"
          ]
         },
         "orientation": "h",
         "type": "bar",
         "x": [
          1,
          1,
          1,
          1,
          1,
          1,
          1,
          1,
          1,
          1,
          1
         ],
         "y": [
          "Pastel",
          "Pastel",
          "Pastel",
          "Pastel",
          "Pastel",
          "Pastel",
          "Pastel",
          "Pastel",
          "Pastel",
          "Pastel",
          "Pastel"
         ]
        },
        {
         "customdata": [
          0,
          1,
          2,
          3,
          4,
          5,
          6,
          7,
          8,
          9,
          10
         ],
         "hovertemplate": "%{y}[%{customdata}] = %{marker.color}<extra></extra>",
         "marker": {
          "color": [
           "rgb(127, 60, 141)",
           "rgb(17, 165, 121)",
           "rgb(57, 105, 172)",
           "rgb(242, 183, 1)",
           "rgb(231, 63, 116)",
           "rgb(128, 186, 90)",
           "rgb(230, 131, 16)",
           "rgb(0, 134, 149)",
           "rgb(207, 28, 144)",
           "rgb(249, 123, 114)",
           "rgb(165, 170, 153)"
          ]
         },
         "orientation": "h",
         "type": "bar",
         "x": [
          1,
          1,
          1,
          1,
          1,
          1,
          1,
          1,
          1,
          1,
          1
         ],
         "y": [
          "Bold",
          "Bold",
          "Bold",
          "Bold",
          "Bold",
          "Bold",
          "Bold",
          "Bold",
          "Bold",
          "Bold",
          "Bold"
         ]
        },
        {
         "customdata": [
          0,
          1,
          2,
          3,
          4,
          5,
          6,
          7,
          8,
          9,
          10
         ],
         "hovertemplate": "%{y}[%{customdata}] = %{marker.color}<extra></extra>",
         "marker": {
          "color": [
           "rgb(133, 92, 117)",
           "rgb(217, 175, 107)",
           "rgb(175, 100, 88)",
           "rgb(115, 111, 76)",
           "rgb(82, 106, 131)",
           "rgb(98, 83, 119)",
           "rgb(104, 133, 92)",
           "rgb(156, 156, 94)",
           "rgb(160, 97, 119)",
           "rgb(140, 120, 93)",
           "rgb(124, 124, 124)"
          ]
         },
         "orientation": "h",
         "type": "bar",
         "x": [
          1,
          1,
          1,
          1,
          1,
          1,
          1,
          1,
          1,
          1,
          1
         ],
         "y": [
          "Antique",
          "Antique",
          "Antique",
          "Antique",
          "Antique",
          "Antique",
          "Antique",
          "Antique",
          "Antique",
          "Antique",
          "Antique"
         ]
        },
        {
         "customdata": [
          0,
          1,
          2,
          3,
          4,
          5,
          6,
          7,
          8,
          9,
          10,
          11
         ],
         "hovertemplate": "%{y}[%{customdata}] = %{marker.color}<extra></extra>",
         "marker": {
          "color": [
           "rgb(141,211,199)",
           "rgb(255,255,179)",
           "rgb(190,186,218)",
           "rgb(251,128,114)",
           "rgb(128,177,211)",
           "rgb(253,180,98)",
           "rgb(179,222,105)",
           "rgb(252,205,229)",
           "rgb(217,217,217)",
           "rgb(188,128,189)",
           "rgb(204,235,197)",
           "rgb(255,237,111)"
          ]
         },
         "orientation": "h",
         "type": "bar",
         "x": [
          1,
          1,
          1,
          1,
          1,
          1,
          1,
          1,
          1,
          1,
          1,
          1
         ],
         "y": [
          "Set3",
          "Set3",
          "Set3",
          "Set3",
          "Set3",
          "Set3",
          "Set3",
          "Set3",
          "Set3",
          "Set3",
          "Set3",
          "Set3"
         ]
        },
        {
         "customdata": [
          0,
          1,
          2,
          3,
          4,
          5,
          6,
          7
         ],
         "hovertemplate": "%{y}[%{customdata}] = %{marker.color}<extra></extra>",
         "marker": {
          "color": [
           "rgb(179,226,205)",
           "rgb(253,205,172)",
           "rgb(203,213,232)",
           "rgb(244,202,228)",
           "rgb(230,245,201)",
           "rgb(255,242,174)",
           "rgb(241,226,204)",
           "rgb(204,204,204)"
          ]
         },
         "orientation": "h",
         "type": "bar",
         "x": [
          1,
          1,
          1,
          1,
          1,
          1,
          1,
          1
         ],
         "y": [
          "Pastel2",
          "Pastel2",
          "Pastel2",
          "Pastel2",
          "Pastel2",
          "Pastel2",
          "Pastel2",
          "Pastel2"
         ]
        },
        {
         "customdata": [
          0,
          1,
          2,
          3,
          4,
          5,
          6,
          7
         ],
         "hovertemplate": "%{y}[%{customdata}] = %{marker.color}<extra></extra>",
         "marker": {
          "color": [
           "rgb(102,194,165)",
           "rgb(252,141,98)",
           "rgb(141,160,203)",
           "rgb(231,138,195)",
           "rgb(166,216,84)",
           "rgb(255,217,47)",
           "rgb(229,196,148)",
           "rgb(179,179,179)"
          ]
         },
         "orientation": "h",
         "type": "bar",
         "x": [
          1,
          1,
          1,
          1,
          1,
          1,
          1,
          1
         ],
         "y": [
          "Set2",
          "Set2",
          "Set2",
          "Set2",
          "Set2",
          "Set2",
          "Set2",
          "Set2"
         ]
        },
        {
         "customdata": [
          0,
          1,
          2,
          3,
          4,
          5,
          6,
          7
         ],
         "hovertemplate": "%{y}[%{customdata}] = %{marker.color}<extra></extra>",
         "marker": {
          "color": [
           "rgb(27,158,119)",
           "rgb(217,95,2)",
           "rgb(117,112,179)",
           "rgb(231,41,138)",
           "rgb(102,166,30)",
           "rgb(230,171,2)",
           "rgb(166,118,29)",
           "rgb(102,102,102)"
          ]
         },
         "orientation": "h",
         "type": "bar",
         "x": [
          1,
          1,
          1,
          1,
          1,
          1,
          1,
          1
         ],
         "y": [
          "Dark2",
          "Dark2",
          "Dark2",
          "Dark2",
          "Dark2",
          "Dark2",
          "Dark2",
          "Dark2"
         ]
        },
        {
         "customdata": [
          0,
          1,
          2,
          3,
          4,
          5,
          6,
          7,
          8
         ],
         "hovertemplate": "%{y}[%{customdata}] = %{marker.color}<extra></extra>",
         "marker": {
          "color": [
           "rgb(251,180,174)",
           "rgb(179,205,227)",
           "rgb(204,235,197)",
           "rgb(222,203,228)",
           "rgb(254,217,166)",
           "rgb(255,255,204)",
           "rgb(229,216,189)",
           "rgb(253,218,236)",
           "rgb(242,242,242)"
          ]
         },
         "orientation": "h",
         "type": "bar",
         "x": [
          1,
          1,
          1,
          1,
          1,
          1,
          1,
          1,
          1
         ],
         "y": [
          "Pastel1",
          "Pastel1",
          "Pastel1",
          "Pastel1",
          "Pastel1",
          "Pastel1",
          "Pastel1",
          "Pastel1",
          "Pastel1"
         ]
        },
        {
         "customdata": [
          0,
          1,
          2,
          3,
          4,
          5,
          6,
          7,
          8
         ],
         "hovertemplate": "%{y}[%{customdata}] = %{marker.color}<extra></extra>",
         "marker": {
          "color": [
           "rgb(228,26,28)",
           "rgb(55,126,184)",
           "rgb(77,175,74)",
           "rgb(152,78,163)",
           "rgb(255,127,0)",
           "rgb(255,255,51)",
           "rgb(166,86,40)",
           "rgb(247,129,191)",
           "rgb(153,153,153)"
          ]
         },
         "orientation": "h",
         "type": "bar",
         "x": [
          1,
          1,
          1,
          1,
          1,
          1,
          1,
          1,
          1
         ],
         "y": [
          "Set1",
          "Set1",
          "Set1",
          "Set1",
          "Set1",
          "Set1",
          "Set1",
          "Set1",
          "Set1"
         ]
        },
        {
         "customdata": [
          0,
          1,
          2,
          3,
          4,
          5,
          6,
          7,
          8,
          9,
          10,
          11,
          12,
          13,
          14,
          15,
          16,
          17,
          18,
          19,
          20,
          21,
          22,
          23
         ],
         "hovertemplate": "%{y}[%{customdata}] = %{marker.color}<extra></extra>",
         "marker": {
          "color": [
           "#FD3216",
           "#00FE35",
           "#6A76FC",
           "#FED4C4",
           "#FE00CE",
           "#0DF9FF",
           "#F6F926",
           "#FF9616",
           "#479B55",
           "#EEA6FB",
           "#DC587D",
           "#D626FF",
           "#6E899C",
           "#00B5F7",
           "#B68E00",
           "#C9FBE5",
           "#FF0092",
           "#22FFA7",
           "#E3EE9E",
           "#86CE00",
           "#BC7196",
           "#7E7DCD",
           "#FC6955",
           "#E48F72"
          ]
         },
         "orientation": "h",
         "type": "bar",
         "x": [
          1,
          1,
          1,
          1,
          1,
          1,
          1,
          1,
          1,
          1,
          1,
          1,
          1,
          1,
          1,
          1,
          1,
          1,
          1,
          1,
          1,
          1,
          1,
          1
         ],
         "y": [
          "Light24",
          "Light24",
          "Light24",
          "Light24",
          "Light24",
          "Light24",
          "Light24",
          "Light24",
          "Light24",
          "Light24",
          "Light24",
          "Light24",
          "Light24",
          "Light24",
          "Light24",
          "Light24",
          "Light24",
          "Light24",
          "Light24",
          "Light24",
          "Light24",
          "Light24",
          "Light24",
          "Light24"
         ]
        },
        {
         "customdata": [
          0,
          1,
          2,
          3,
          4,
          5,
          6,
          7,
          8,
          9,
          10,
          11,
          12,
          13,
          14,
          15,
          16,
          17,
          18,
          19,
          20,
          21,
          22,
          23
         ],
         "hovertemplate": "%{y}[%{customdata}] = %{marker.color}<extra></extra>",
         "marker": {
          "color": [
           "#2E91E5",
           "#E15F99",
           "#1CA71C",
           "#FB0D0D",
           "#DA16FF",
           "#222A2A",
           "#B68100",
           "#750D86",
           "#EB663B",
           "#511CFB",
           "#00A08B",
           "#FB00D1",
           "#FC0080",
           "#B2828D",
           "#6C7C32",
           "#778AAE",
           "#862A16",
           "#A777F1",
           "#620042",
           "#1616A7",
           "#DA60CA",
           "#6C4516",
           "#0D2A63",
           "#AF0038"
          ]
         },
         "orientation": "h",
         "type": "bar",
         "x": [
          1,
          1,
          1,
          1,
          1,
          1,
          1,
          1,
          1,
          1,
          1,
          1,
          1,
          1,
          1,
          1,
          1,
          1,
          1,
          1,
          1,
          1,
          1,
          1
         ],
         "y": [
          "Dark24",
          "Dark24",
          "Dark24",
          "Dark24",
          "Dark24",
          "Dark24",
          "Dark24",
          "Dark24",
          "Dark24",
          "Dark24",
          "Dark24",
          "Dark24",
          "Dark24",
          "Dark24",
          "Dark24",
          "Dark24",
          "Dark24",
          "Dark24",
          "Dark24",
          "Dark24",
          "Dark24",
          "Dark24",
          "Dark24",
          "Dark24"
         ]
        },
        {
         "customdata": [
          0,
          1,
          2,
          3,
          4,
          5,
          6,
          7,
          8,
          9,
          10,
          11,
          12,
          13,
          14,
          15,
          16,
          17,
          18,
          19,
          20,
          21,
          22,
          23,
          24,
          25
         ],
         "hovertemplate": "%{y}[%{customdata}] = %{marker.color}<extra></extra>",
         "marker": {
          "color": [
           "#AA0DFE",
           "#3283FE",
           "#85660D",
           "#782AB6",
           "#565656",
           "#1C8356",
           "#16FF32",
           "#F7E1A0",
           "#E2E2E2",
           "#1CBE4F",
           "#C4451C",
           "#DEA0FD",
           "#FE00FA",
           "#325A9B",
           "#FEAF16",
           "#F8A19F",
           "#90AD1C",
           "#F6222E",
           "#1CFFCE",
           "#2ED9FF",
           "#B10DA1",
           "#C075A6",
           "#FC1CBF",
           "#B00068",
           "#FBE426",
           "#FA0087"
          ]
         },
         "orientation": "h",
         "type": "bar",
         "x": [
          1,
          1,
          1,
          1,
          1,
          1,
          1,
          1,
          1,
          1,
          1,
          1,
          1,
          1,
          1,
          1,
          1,
          1,
          1,
          1,
          1,
          1,
          1,
          1,
          1,
          1
         ],
         "y": [
          "Alphabet",
          "Alphabet",
          "Alphabet",
          "Alphabet",
          "Alphabet",
          "Alphabet",
          "Alphabet",
          "Alphabet",
          "Alphabet",
          "Alphabet",
          "Alphabet",
          "Alphabet",
          "Alphabet",
          "Alphabet",
          "Alphabet",
          "Alphabet",
          "Alphabet",
          "Alphabet",
          "Alphabet",
          "Alphabet",
          "Alphabet",
          "Alphabet",
          "Alphabet",
          "Alphabet",
          "Alphabet",
          "Alphabet"
         ]
        },
        {
         "customdata": [
          0,
          1,
          2,
          3,
          4,
          5,
          6,
          7,
          8,
          9
         ],
         "hovertemplate": "%{y}[%{customdata}] = %{marker.color}<extra></extra>",
         "marker": {
          "color": [
           "#4C78A8",
           "#F58518",
           "#E45756",
           "#72B7B2",
           "#54A24B",
           "#EECA3B",
           "#B279A2",
           "#FF9DA6",
           "#9D755D",
           "#BAB0AC"
          ]
         },
         "orientation": "h",
         "type": "bar",
         "x": [
          1,
          1,
          1,
          1,
          1,
          1,
          1,
          1,
          1,
          1
         ],
         "y": [
          "T10",
          "T10",
          "T10",
          "T10",
          "T10",
          "T10",
          "T10",
          "T10",
          "T10",
          "T10"
         ]
        },
        {
         "customdata": [
          0,
          1,
          2,
          3,
          4,
          5,
          6,
          7,
          8,
          9
         ],
         "hovertemplate": "%{y}[%{customdata}] = %{marker.color}<extra></extra>",
         "marker": {
          "color": [
           "#3366CC",
           "#DC3912",
           "#FF9900",
           "#109618",
           "#990099",
           "#0099C6",
           "#DD4477",
           "#66AA00",
           "#B82E2E",
           "#316395"
          ]
         },
         "orientation": "h",
         "type": "bar",
         "x": [
          1,
          1,
          1,
          1,
          1,
          1,
          1,
          1,
          1,
          1
         ],
         "y": [
          "G10",
          "G10",
          "G10",
          "G10",
          "G10",
          "G10",
          "G10",
          "G10",
          "G10",
          "G10"
         ]
        },
        {
         "customdata": [
          0,
          1,
          2,
          3,
          4,
          5,
          6,
          7,
          8,
          9
         ],
         "hovertemplate": "%{y}[%{customdata}] = %{marker.color}<extra></extra>",
         "marker": {
          "color": [
           "#1F77B4",
           "#FF7F0E",
           "#2CA02C",
           "#D62728",
           "#9467BD",
           "#8C564B",
           "#E377C2",
           "#7F7F7F",
           "#BCBD22",
           "#17BECF"
          ]
         },
         "orientation": "h",
         "type": "bar",
         "x": [
          1,
          1,
          1,
          1,
          1,
          1,
          1,
          1,
          1,
          1
         ],
         "y": [
          "D3",
          "D3",
          "D3",
          "D3",
          "D3",
          "D3",
          "D3",
          "D3",
          "D3",
          "D3"
         ]
        },
        {
         "customdata": [
          0,
          1,
          2,
          3,
          4,
          5,
          6,
          7,
          8,
          9
         ],
         "hovertemplate": "%{y}[%{customdata}] = %{marker.color}<extra></extra>",
         "marker": {
          "color": [
           "#636EFA",
           "#EF553B",
           "#00CC96",
           "#AB63FA",
           "#FFA15A",
           "#19D3F3",
           "#FF6692",
           "#B6E880",
           "#FF97FF",
           "#FECB52"
          ]
         },
         "orientation": "h",
         "type": "bar",
         "x": [
          1,
          1,
          1,
          1,
          1,
          1,
          1,
          1,
          1,
          1
         ],
         "y": [
          "Plotly",
          "Plotly",
          "Plotly",
          "Plotly",
          "Plotly",
          "Plotly",
          "Plotly",
          "Plotly",
          "Plotly",
          "Plotly"
         ]
        }
       ],
       "layout": {
        "bargap": 0.5,
        "barmode": "stack",
        "barnorm": "fraction",
        "height": 760,
        "margin": {
         "b": 10
        },
        "showlegend": false,
        "template": {
         "data": {
          "bar": [
           {
            "error_x": {
             "color": "#2a3f5f"
            },
            "error_y": {
             "color": "#2a3f5f"
            },
            "marker": {
             "line": {
              "color": "#E5ECF6",
              "width": 0.5
             },
             "pattern": {
              "fillmode": "overlay",
              "size": 10,
              "solidity": 0.2
             }
            },
            "type": "bar"
           }
          ],
          "barpolar": [
           {
            "marker": {
             "line": {
              "color": "#E5ECF6",
              "width": 0.5
             },
             "pattern": {
              "fillmode": "overlay",
              "size": 10,
              "solidity": 0.2
             }
            },
            "type": "barpolar"
           }
          ],
          "carpet": [
           {
            "aaxis": {
             "endlinecolor": "#2a3f5f",
             "gridcolor": "white",
             "linecolor": "white",
             "minorgridcolor": "white",
             "startlinecolor": "#2a3f5f"
            },
            "baxis": {
             "endlinecolor": "#2a3f5f",
             "gridcolor": "white",
             "linecolor": "white",
             "minorgridcolor": "white",
             "startlinecolor": "#2a3f5f"
            },
            "type": "carpet"
           }
          ],
          "choropleth": [
           {
            "colorbar": {
             "outlinewidth": 0,
             "ticks": ""
            },
            "type": "choropleth"
           }
          ],
          "contour": [
           {
            "colorbar": {
             "outlinewidth": 0,
             "ticks": ""
            },
            "colorscale": [
             [
              0,
              "#0d0887"
             ],
             [
              0.1111111111111111,
              "#46039f"
             ],
             [
              0.2222222222222222,
              "#7201a8"
             ],
             [
              0.3333333333333333,
              "#9c179e"
             ],
             [
              0.4444444444444444,
              "#bd3786"
             ],
             [
              0.5555555555555556,
              "#d8576b"
             ],
             [
              0.6666666666666666,
              "#ed7953"
             ],
             [
              0.7777777777777778,
              "#fb9f3a"
             ],
             [
              0.8888888888888888,
              "#fdca26"
             ],
             [
              1,
              "#f0f921"
             ]
            ],
            "type": "contour"
           }
          ],
          "contourcarpet": [
           {
            "colorbar": {
             "outlinewidth": 0,
             "ticks": ""
            },
            "type": "contourcarpet"
           }
          ],
          "heatmap": [
           {
            "colorbar": {
             "outlinewidth": 0,
             "ticks": ""
            },
            "colorscale": [
             [
              0,
              "#0d0887"
             ],
             [
              0.1111111111111111,
              "#46039f"
             ],
             [
              0.2222222222222222,
              "#7201a8"
             ],
             [
              0.3333333333333333,
              "#9c179e"
             ],
             [
              0.4444444444444444,
              "#bd3786"
             ],
             [
              0.5555555555555556,
              "#d8576b"
             ],
             [
              0.6666666666666666,
              "#ed7953"
             ],
             [
              0.7777777777777778,
              "#fb9f3a"
             ],
             [
              0.8888888888888888,
              "#fdca26"
             ],
             [
              1,
              "#f0f921"
             ]
            ],
            "type": "heatmap"
           }
          ],
          "heatmapgl": [
           {
            "colorbar": {
             "outlinewidth": 0,
             "ticks": ""
            },
            "colorscale": [
             [
              0,
              "#0d0887"
             ],
             [
              0.1111111111111111,
              "#46039f"
             ],
             [
              0.2222222222222222,
              "#7201a8"
             ],
             [
              0.3333333333333333,
              "#9c179e"
             ],
             [
              0.4444444444444444,
              "#bd3786"
             ],
             [
              0.5555555555555556,
              "#d8576b"
             ],
             [
              0.6666666666666666,
              "#ed7953"
             ],
             [
              0.7777777777777778,
              "#fb9f3a"
             ],
             [
              0.8888888888888888,
              "#fdca26"
             ],
             [
              1,
              "#f0f921"
             ]
            ],
            "type": "heatmapgl"
           }
          ],
          "histogram": [
           {
            "marker": {
             "pattern": {
              "fillmode": "overlay",
              "size": 10,
              "solidity": 0.2
             }
            },
            "type": "histogram"
           }
          ],
          "histogram2d": [
           {
            "colorbar": {
             "outlinewidth": 0,
             "ticks": ""
            },
            "colorscale": [
             [
              0,
              "#0d0887"
             ],
             [
              0.1111111111111111,
              "#46039f"
             ],
             [
              0.2222222222222222,
              "#7201a8"
             ],
             [
              0.3333333333333333,
              "#9c179e"
             ],
             [
              0.4444444444444444,
              "#bd3786"
             ],
             [
              0.5555555555555556,
              "#d8576b"
             ],
             [
              0.6666666666666666,
              "#ed7953"
             ],
             [
              0.7777777777777778,
              "#fb9f3a"
             ],
             [
              0.8888888888888888,
              "#fdca26"
             ],
             [
              1,
              "#f0f921"
             ]
            ],
            "type": "histogram2d"
           }
          ],
          "histogram2dcontour": [
           {
            "colorbar": {
             "outlinewidth": 0,
             "ticks": ""
            },
            "colorscale": [
             [
              0,
              "#0d0887"
             ],
             [
              0.1111111111111111,
              "#46039f"
             ],
             [
              0.2222222222222222,
              "#7201a8"
             ],
             [
              0.3333333333333333,
              "#9c179e"
             ],
             [
              0.4444444444444444,
              "#bd3786"
             ],
             [
              0.5555555555555556,
              "#d8576b"
             ],
             [
              0.6666666666666666,
              "#ed7953"
             ],
             [
              0.7777777777777778,
              "#fb9f3a"
             ],
             [
              0.8888888888888888,
              "#fdca26"
             ],
             [
              1,
              "#f0f921"
             ]
            ],
            "type": "histogram2dcontour"
           }
          ],
          "mesh3d": [
           {
            "colorbar": {
             "outlinewidth": 0,
             "ticks": ""
            },
            "type": "mesh3d"
           }
          ],
          "parcoords": [
           {
            "line": {
             "colorbar": {
              "outlinewidth": 0,
              "ticks": ""
             }
            },
            "type": "parcoords"
           }
          ],
          "pie": [
           {
            "automargin": true,
            "type": "pie"
           }
          ],
          "scatter": [
           {
            "fillpattern": {
             "fillmode": "overlay",
             "size": 10,
             "solidity": 0.2
            },
            "type": "scatter"
           }
          ],
          "scatter3d": [
           {
            "line": {
             "colorbar": {
              "outlinewidth": 0,
              "ticks": ""
             }
            },
            "marker": {
             "colorbar": {
              "outlinewidth": 0,
              "ticks": ""
             }
            },
            "type": "scatter3d"
           }
          ],
          "scattercarpet": [
           {
            "marker": {
             "colorbar": {
              "outlinewidth": 0,
              "ticks": ""
             }
            },
            "type": "scattercarpet"
           }
          ],
          "scattergeo": [
           {
            "marker": {
             "colorbar": {
              "outlinewidth": 0,
              "ticks": ""
             }
            },
            "type": "scattergeo"
           }
          ],
          "scattergl": [
           {
            "marker": {
             "colorbar": {
              "outlinewidth": 0,
              "ticks": ""
             }
            },
            "type": "scattergl"
           }
          ],
          "scattermapbox": [
           {
            "marker": {
             "colorbar": {
              "outlinewidth": 0,
              "ticks": ""
             }
            },
            "type": "scattermapbox"
           }
          ],
          "scatterpolar": [
           {
            "marker": {
             "colorbar": {
              "outlinewidth": 0,
              "ticks": ""
             }
            },
            "type": "scatterpolar"
           }
          ],
          "scatterpolargl": [
           {
            "marker": {
             "colorbar": {
              "outlinewidth": 0,
              "ticks": ""
             }
            },
            "type": "scatterpolargl"
           }
          ],
          "scatterternary": [
           {
            "marker": {
             "colorbar": {
              "outlinewidth": 0,
              "ticks": ""
             }
            },
            "type": "scatterternary"
           }
          ],
          "surface": [
           {
            "colorbar": {
             "outlinewidth": 0,
             "ticks": ""
            },
            "colorscale": [
             [
              0,
              "#0d0887"
             ],
             [
              0.1111111111111111,
              "#46039f"
             ],
             [
              0.2222222222222222,
              "#7201a8"
             ],
             [
              0.3333333333333333,
              "#9c179e"
             ],
             [
              0.4444444444444444,
              "#bd3786"
             ],
             [
              0.5555555555555556,
              "#d8576b"
             ],
             [
              0.6666666666666666,
              "#ed7953"
             ],
             [
              0.7777777777777778,
              "#fb9f3a"
             ],
             [
              0.8888888888888888,
              "#fdca26"
             ],
             [
              1,
              "#f0f921"
             ]
            ],
            "type": "surface"
           }
          ],
          "table": [
           {
            "cells": {
             "fill": {
              "color": "#EBF0F8"
             },
             "line": {
              "color": "white"
             }
            },
            "header": {
             "fill": {
              "color": "#C8D4E3"
             },
             "line": {
              "color": "white"
             }
            },
            "type": "table"
           }
          ]
         },
         "layout": {
          "annotationdefaults": {
           "arrowcolor": "#2a3f5f",
           "arrowhead": 0,
           "arrowwidth": 1
          },
          "autotypenumbers": "strict",
          "coloraxis": {
           "colorbar": {
            "outlinewidth": 0,
            "ticks": ""
           }
          },
          "colorscale": {
           "diverging": [
            [
             0,
             "#8e0152"
            ],
            [
             0.1,
             "#c51b7d"
            ],
            [
             0.2,
             "#de77ae"
            ],
            [
             0.3,
             "#f1b6da"
            ],
            [
             0.4,
             "#fde0ef"
            ],
            [
             0.5,
             "#f7f7f7"
            ],
            [
             0.6,
             "#e6f5d0"
            ],
            [
             0.7,
             "#b8e186"
            ],
            [
             0.8,
             "#7fbc41"
            ],
            [
             0.9,
             "#4d9221"
            ],
            [
             1,
             "#276419"
            ]
           ],
           "sequential": [
            [
             0,
             "#0d0887"
            ],
            [
             0.1111111111111111,
             "#46039f"
            ],
            [
             0.2222222222222222,
             "#7201a8"
            ],
            [
             0.3333333333333333,
             "#9c179e"
            ],
            [
             0.4444444444444444,
             "#bd3786"
            ],
            [
             0.5555555555555556,
             "#d8576b"
            ],
            [
             0.6666666666666666,
             "#ed7953"
            ],
            [
             0.7777777777777778,
             "#fb9f3a"
            ],
            [
             0.8888888888888888,
             "#fdca26"
            ],
            [
             1,
             "#f0f921"
            ]
           ],
           "sequentialminus": [
            [
             0,
             "#0d0887"
            ],
            [
             0.1111111111111111,
             "#46039f"
            ],
            [
             0.2222222222222222,
             "#7201a8"
            ],
            [
             0.3333333333333333,
             "#9c179e"
            ],
            [
             0.4444444444444444,
             "#bd3786"
            ],
            [
             0.5555555555555556,
             "#d8576b"
            ],
            [
             0.6666666666666666,
             "#ed7953"
            ],
            [
             0.7777777777777778,
             "#fb9f3a"
            ],
            [
             0.8888888888888888,
             "#fdca26"
            ],
            [
             1,
             "#f0f921"
            ]
           ]
          },
          "colorway": [
           "#636efa",
           "#EF553B",
           "#00cc96",
           "#ab63fa",
           "#FFA15A",
           "#19d3f3",
           "#FF6692",
           "#B6E880",
           "#FF97FF",
           "#FECB52"
          ],
          "font": {
           "color": "#2a3f5f"
          },
          "geo": {
           "bgcolor": "white",
           "lakecolor": "white",
           "landcolor": "#E5ECF6",
           "showlakes": true,
           "showland": true,
           "subunitcolor": "white"
          },
          "hoverlabel": {
           "align": "left"
          },
          "hovermode": "closest",
          "mapbox": {
           "style": "light"
          },
          "paper_bgcolor": "white",
          "plot_bgcolor": "#E5ECF6",
          "polar": {
           "angularaxis": {
            "gridcolor": "white",
            "linecolor": "white",
            "ticks": ""
           },
           "bgcolor": "#E5ECF6",
           "radialaxis": {
            "gridcolor": "white",
            "linecolor": "white",
            "ticks": ""
           }
          },
          "scene": {
           "xaxis": {
            "backgroundcolor": "#E5ECF6",
            "gridcolor": "white",
            "gridwidth": 2,
            "linecolor": "white",
            "showbackground": true,
            "ticks": "",
            "zerolinecolor": "white"
           },
           "yaxis": {
            "backgroundcolor": "#E5ECF6",
            "gridcolor": "white",
            "gridwidth": 2,
            "linecolor": "white",
            "showbackground": true,
            "ticks": "",
            "zerolinecolor": "white"
           },
           "zaxis": {
            "backgroundcolor": "#E5ECF6",
            "gridcolor": "white",
            "gridwidth": 2,
            "linecolor": "white",
            "showbackground": true,
            "ticks": "",
            "zerolinecolor": "white"
           }
          },
          "shapedefaults": {
           "line": {
            "color": "#2a3f5f"
           }
          },
          "ternary": {
           "aaxis": {
            "gridcolor": "white",
            "linecolor": "white",
            "ticks": ""
           },
           "baxis": {
            "gridcolor": "white",
            "linecolor": "white",
            "ticks": ""
           },
           "bgcolor": "#E5ECF6",
           "caxis": {
            "gridcolor": "white",
            "linecolor": "white",
            "ticks": ""
           }
          },
          "title": {
           "x": 0.05
          },
          "xaxis": {
           "automargin": true,
           "gridcolor": "white",
           "linecolor": "white",
           "ticks": "",
           "title": {
            "standoff": 15
           },
           "zerolinecolor": "white",
           "zerolinewidth": 2
          },
          "yaxis": {
           "automargin": true,
           "gridcolor": "white",
           "linecolor": "white",
           "ticks": "",
           "title": {
            "standoff": 15
           },
           "zerolinecolor": "white",
           "zerolinewidth": 2
          }
         }
        },
        "title": {
         "text": "plotly.colors.qualitative"
        },
        "xaxis": {
         "range": [
          -0.02,
          1.02
         ],
         "showgrid": false,
         "showticklabels": false
        }
       }
      }
     },
     "metadata": {},
     "output_type": "display_data"
    }
   ],
   "source": [
    "import plotly.express as px\n",
    "\n",
    "fig = px.colors.qualitative.swatches()\n",
    "fig.show()"
   ]
  },
  {
   "cell_type": "code",
   "execution_count": 88,
   "metadata": {},
   "outputs": [
    {
     "data": {
      "application/vnd.plotly.v1+json": {
       "config": {
        "plotlyServerURL": "https://plot.ly"
       },
       "data": [
        {
         "branchvalues": "total",
         "domain": {
          "x": [
           0,
           1
          ],
          "y": [
           0,
           1
          ]
         },
         "hovertemplate": "labels=%{label}<br>Count=%{value}<br>parent=%{parent}<br>id=%{id}<extra></extra>",
         "ids": [
          "all/Home adaptation/Blankets",
          "all/Reduced activity/Cancelled plans/exercise",
          "all/Precaution/Car/external home preparation",
          "all/Alternative plans/Early bed/walk",
          "all/Technology solution/Heating",
          "all/Alternative plans/Home working",
          "all/Personal care/Hot meals/drinks",
          "all/Home adaptation/Insulation",
          "all/Other/Other",
          "all/Reduced activity/Stay indoors",
          "all/Precaution/Stock up food",
          "all/Alternative plans/Transport",
          "all/Personal care/Warm clothes/hot water bottle",
          "all/Alternative plans",
          "all/Home adaptation",
          "all/Other",
          "all/Personal care",
          "all/Precaution",
          "all/Reduced activity",
          "all/Technology solution",
          "all"
         ],
         "labels": [
          "Blankets",
          "Cancelled plans/exercise",
          "Car/external home preparation",
          "Early bed/walk",
          "Heating",
          "Home working",
          "Hot meals/drinks",
          "Insulation",
          "Other",
          "Stay indoors",
          "Stock up food",
          "Transport",
          "Warm clothes/hot water bottle",
          "Alternative plans",
          "Home adaptation",
          "Other",
          "Personal care",
          "Precaution",
          "Reduced activity",
          "Technology solution",
          "all"
         ],
         "name": "",
         "parents": [
          "all/Home adaptation",
          "all/Reduced activity",
          "all/Precaution",
          "all/Alternative plans",
          "all/Technology solution",
          "all/Alternative plans",
          "all/Personal care",
          "all/Home adaptation",
          "all/Other",
          "all/Reduced activity",
          "all/Precaution",
          "all/Alternative plans",
          "all/Personal care",
          "all",
          "all",
          "all",
          "all",
          "all",
          "all",
          "all",
          ""
         ],
         "root": {
          "color": "lightgrey"
         },
         "textinfo": "label+value",
         "texttemplate": "%{label}: %{value}",
         "type": "icicle",
         "values": [
          162,
          297,
          213,
          92,
          625,
          80,
          71,
          126,
          52,
          169,
          67,
          110,
          561,
          282,
          288,
          52,
          632,
          280,
          466,
          625,
          2625
         ]
        }
       ],
       "layout": {
        "font": {
         "size": 20
        },
        "height": 1000,
        "iciclecolorway": [
         "#FD3216",
         "#00FE35",
         "#6A76FC",
         "#FED4C4",
         "#FE00CE",
         "#0DF9FF",
         "#F6F926",
         "#FF9616",
         "#479B55",
         "#EEA6FB",
         "#DC587D",
         "#D626FF",
         "#6E899C",
         "#00B5F7",
         "#B68E00",
         "#C9FBE5",
         "#FF0092",
         "#22FFA7",
         "#E3EE9E",
         "#86CE00",
         "#BC7196",
         "#7E7DCD",
         "#FC6955",
         "#E48F72"
        ],
        "legend": {
         "tracegroupgap": 0
        },
        "margin": {
         "t": 60
        },
        "template": {
         "data": {
          "bar": [
           {
            "error_x": {
             "color": "#2a3f5f"
            },
            "error_y": {
             "color": "#2a3f5f"
            },
            "marker": {
             "line": {
              "color": "#E5ECF6",
              "width": 0.5
             },
             "pattern": {
              "fillmode": "overlay",
              "size": 10,
              "solidity": 0.2
             }
            },
            "type": "bar"
           }
          ],
          "barpolar": [
           {
            "marker": {
             "line": {
              "color": "#E5ECF6",
              "width": 0.5
             },
             "pattern": {
              "fillmode": "overlay",
              "size": 10,
              "solidity": 0.2
             }
            },
            "type": "barpolar"
           }
          ],
          "carpet": [
           {
            "aaxis": {
             "endlinecolor": "#2a3f5f",
             "gridcolor": "white",
             "linecolor": "white",
             "minorgridcolor": "white",
             "startlinecolor": "#2a3f5f"
            },
            "baxis": {
             "endlinecolor": "#2a3f5f",
             "gridcolor": "white",
             "linecolor": "white",
             "minorgridcolor": "white",
             "startlinecolor": "#2a3f5f"
            },
            "type": "carpet"
           }
          ],
          "choropleth": [
           {
            "colorbar": {
             "outlinewidth": 0,
             "ticks": ""
            },
            "type": "choropleth"
           }
          ],
          "contour": [
           {
            "colorbar": {
             "outlinewidth": 0,
             "ticks": ""
            },
            "colorscale": [
             [
              0,
              "#0d0887"
             ],
             [
              0.1111111111111111,
              "#46039f"
             ],
             [
              0.2222222222222222,
              "#7201a8"
             ],
             [
              0.3333333333333333,
              "#9c179e"
             ],
             [
              0.4444444444444444,
              "#bd3786"
             ],
             [
              0.5555555555555556,
              "#d8576b"
             ],
             [
              0.6666666666666666,
              "#ed7953"
             ],
             [
              0.7777777777777778,
              "#fb9f3a"
             ],
             [
              0.8888888888888888,
              "#fdca26"
             ],
             [
              1,
              "#f0f921"
             ]
            ],
            "type": "contour"
           }
          ],
          "contourcarpet": [
           {
            "colorbar": {
             "outlinewidth": 0,
             "ticks": ""
            },
            "type": "contourcarpet"
           }
          ],
          "heatmap": [
           {
            "colorbar": {
             "outlinewidth": 0,
             "ticks": ""
            },
            "colorscale": [
             [
              0,
              "#0d0887"
             ],
             [
              0.1111111111111111,
              "#46039f"
             ],
             [
              0.2222222222222222,
              "#7201a8"
             ],
             [
              0.3333333333333333,
              "#9c179e"
             ],
             [
              0.4444444444444444,
              "#bd3786"
             ],
             [
              0.5555555555555556,
              "#d8576b"
             ],
             [
              0.6666666666666666,
              "#ed7953"
             ],
             [
              0.7777777777777778,
              "#fb9f3a"
             ],
             [
              0.8888888888888888,
              "#fdca26"
             ],
             [
              1,
              "#f0f921"
             ]
            ],
            "type": "heatmap"
           }
          ],
          "heatmapgl": [
           {
            "colorbar": {
             "outlinewidth": 0,
             "ticks": ""
            },
            "colorscale": [
             [
              0,
              "#0d0887"
             ],
             [
              0.1111111111111111,
              "#46039f"
             ],
             [
              0.2222222222222222,
              "#7201a8"
             ],
             [
              0.3333333333333333,
              "#9c179e"
             ],
             [
              0.4444444444444444,
              "#bd3786"
             ],
             [
              0.5555555555555556,
              "#d8576b"
             ],
             [
              0.6666666666666666,
              "#ed7953"
             ],
             [
              0.7777777777777778,
              "#fb9f3a"
             ],
             [
              0.8888888888888888,
              "#fdca26"
             ],
             [
              1,
              "#f0f921"
             ]
            ],
            "type": "heatmapgl"
           }
          ],
          "histogram": [
           {
            "marker": {
             "pattern": {
              "fillmode": "overlay",
              "size": 10,
              "solidity": 0.2
             }
            },
            "type": "histogram"
           }
          ],
          "histogram2d": [
           {
            "colorbar": {
             "outlinewidth": 0,
             "ticks": ""
            },
            "colorscale": [
             [
              0,
              "#0d0887"
             ],
             [
              0.1111111111111111,
              "#46039f"
             ],
             [
              0.2222222222222222,
              "#7201a8"
             ],
             [
              0.3333333333333333,
              "#9c179e"
             ],
             [
              0.4444444444444444,
              "#bd3786"
             ],
             [
              0.5555555555555556,
              "#d8576b"
             ],
             [
              0.6666666666666666,
              "#ed7953"
             ],
             [
              0.7777777777777778,
              "#fb9f3a"
             ],
             [
              0.8888888888888888,
              "#fdca26"
             ],
             [
              1,
              "#f0f921"
             ]
            ],
            "type": "histogram2d"
           }
          ],
          "histogram2dcontour": [
           {
            "colorbar": {
             "outlinewidth": 0,
             "ticks": ""
            },
            "colorscale": [
             [
              0,
              "#0d0887"
             ],
             [
              0.1111111111111111,
              "#46039f"
             ],
             [
              0.2222222222222222,
              "#7201a8"
             ],
             [
              0.3333333333333333,
              "#9c179e"
             ],
             [
              0.4444444444444444,
              "#bd3786"
             ],
             [
              0.5555555555555556,
              "#d8576b"
             ],
             [
              0.6666666666666666,
              "#ed7953"
             ],
             [
              0.7777777777777778,
              "#fb9f3a"
             ],
             [
              0.8888888888888888,
              "#fdca26"
             ],
             [
              1,
              "#f0f921"
             ]
            ],
            "type": "histogram2dcontour"
           }
          ],
          "mesh3d": [
           {
            "colorbar": {
             "outlinewidth": 0,
             "ticks": ""
            },
            "type": "mesh3d"
           }
          ],
          "parcoords": [
           {
            "line": {
             "colorbar": {
              "outlinewidth": 0,
              "ticks": ""
             }
            },
            "type": "parcoords"
           }
          ],
          "pie": [
           {
            "automargin": true,
            "type": "pie"
           }
          ],
          "scatter": [
           {
            "fillpattern": {
             "fillmode": "overlay",
             "size": 10,
             "solidity": 0.2
            },
            "type": "scatter"
           }
          ],
          "scatter3d": [
           {
            "line": {
             "colorbar": {
              "outlinewidth": 0,
              "ticks": ""
             }
            },
            "marker": {
             "colorbar": {
              "outlinewidth": 0,
              "ticks": ""
             }
            },
            "type": "scatter3d"
           }
          ],
          "scattercarpet": [
           {
            "marker": {
             "colorbar": {
              "outlinewidth": 0,
              "ticks": ""
             }
            },
            "type": "scattercarpet"
           }
          ],
          "scattergeo": [
           {
            "marker": {
             "colorbar": {
              "outlinewidth": 0,
              "ticks": ""
             }
            },
            "type": "scattergeo"
           }
          ],
          "scattergl": [
           {
            "marker": {
             "colorbar": {
              "outlinewidth": 0,
              "ticks": ""
             }
            },
            "type": "scattergl"
           }
          ],
          "scattermapbox": [
           {
            "marker": {
             "colorbar": {
              "outlinewidth": 0,
              "ticks": ""
             }
            },
            "type": "scattermapbox"
           }
          ],
          "scatterpolar": [
           {
            "marker": {
             "colorbar": {
              "outlinewidth": 0,
              "ticks": ""
             }
            },
            "type": "scatterpolar"
           }
          ],
          "scatterpolargl": [
           {
            "marker": {
             "colorbar": {
              "outlinewidth": 0,
              "ticks": ""
             }
            },
            "type": "scatterpolargl"
           }
          ],
          "scatterternary": [
           {
            "marker": {
             "colorbar": {
              "outlinewidth": 0,
              "ticks": ""
             }
            },
            "type": "scatterternary"
           }
          ],
          "surface": [
           {
            "colorbar": {
             "outlinewidth": 0,
             "ticks": ""
            },
            "colorscale": [
             [
              0,
              "#0d0887"
             ],
             [
              0.1111111111111111,
              "#46039f"
             ],
             [
              0.2222222222222222,
              "#7201a8"
             ],
             [
              0.3333333333333333,
              "#9c179e"
             ],
             [
              0.4444444444444444,
              "#bd3786"
             ],
             [
              0.5555555555555556,
              "#d8576b"
             ],
             [
              0.6666666666666666,
              "#ed7953"
             ],
             [
              0.7777777777777778,
              "#fb9f3a"
             ],
             [
              0.8888888888888888,
              "#fdca26"
             ],
             [
              1,
              "#f0f921"
             ]
            ],
            "type": "surface"
           }
          ],
          "table": [
           {
            "cells": {
             "fill": {
              "color": "#EBF0F8"
             },
             "line": {
              "color": "white"
             }
            },
            "header": {
             "fill": {
              "color": "#C8D4E3"
             },
             "line": {
              "color": "white"
             }
            },
            "type": "table"
           }
          ]
         },
         "layout": {
          "annotationdefaults": {
           "arrowcolor": "#2a3f5f",
           "arrowhead": 0,
           "arrowwidth": 1
          },
          "autotypenumbers": "strict",
          "coloraxis": {
           "colorbar": {
            "outlinewidth": 0,
            "ticks": ""
           }
          },
          "colorscale": {
           "diverging": [
            [
             0,
             "#8e0152"
            ],
            [
             0.1,
             "#c51b7d"
            ],
            [
             0.2,
             "#de77ae"
            ],
            [
             0.3,
             "#f1b6da"
            ],
            [
             0.4,
             "#fde0ef"
            ],
            [
             0.5,
             "#f7f7f7"
            ],
            [
             0.6,
             "#e6f5d0"
            ],
            [
             0.7,
             "#b8e186"
            ],
            [
             0.8,
             "#7fbc41"
            ],
            [
             0.9,
             "#4d9221"
            ],
            [
             1,
             "#276419"
            ]
           ],
           "sequential": [
            [
             0,
             "#0d0887"
            ],
            [
             0.1111111111111111,
             "#46039f"
            ],
            [
             0.2222222222222222,
             "#7201a8"
            ],
            [
             0.3333333333333333,
             "#9c179e"
            ],
            [
             0.4444444444444444,
             "#bd3786"
            ],
            [
             0.5555555555555556,
             "#d8576b"
            ],
            [
             0.6666666666666666,
             "#ed7953"
            ],
            [
             0.7777777777777778,
             "#fb9f3a"
            ],
            [
             0.8888888888888888,
             "#fdca26"
            ],
            [
             1,
             "#f0f921"
            ]
           ],
           "sequentialminus": [
            [
             0,
             "#0d0887"
            ],
            [
             0.1111111111111111,
             "#46039f"
            ],
            [
             0.2222222222222222,
             "#7201a8"
            ],
            [
             0.3333333333333333,
             "#9c179e"
            ],
            [
             0.4444444444444444,
             "#bd3786"
            ],
            [
             0.5555555555555556,
             "#d8576b"
            ],
            [
             0.6666666666666666,
             "#ed7953"
            ],
            [
             0.7777777777777778,
             "#fb9f3a"
            ],
            [
             0.8888888888888888,
             "#fdca26"
            ],
            [
             1,
             "#f0f921"
            ]
           ]
          },
          "colorway": [
           "#636efa",
           "#EF553B",
           "#00cc96",
           "#ab63fa",
           "#FFA15A",
           "#19d3f3",
           "#FF6692",
           "#B6E880",
           "#FF97FF",
           "#FECB52"
          ],
          "font": {
           "color": "#2a3f5f"
          },
          "geo": {
           "bgcolor": "white",
           "lakecolor": "white",
           "landcolor": "#E5ECF6",
           "showlakes": true,
           "showland": true,
           "subunitcolor": "white"
          },
          "hoverlabel": {
           "align": "left"
          },
          "hovermode": "closest",
          "mapbox": {
           "style": "light"
          },
          "paper_bgcolor": "white",
          "plot_bgcolor": "#E5ECF6",
          "polar": {
           "angularaxis": {
            "gridcolor": "white",
            "linecolor": "white",
            "ticks": ""
           },
           "bgcolor": "#E5ECF6",
           "radialaxis": {
            "gridcolor": "white",
            "linecolor": "white",
            "ticks": ""
           }
          },
          "scene": {
           "xaxis": {
            "backgroundcolor": "#E5ECF6",
            "gridcolor": "white",
            "gridwidth": 2,
            "linecolor": "white",
            "showbackground": true,
            "ticks": "",
            "zerolinecolor": "white"
           },
           "yaxis": {
            "backgroundcolor": "#E5ECF6",
            "gridcolor": "white",
            "gridwidth": 2,
            "linecolor": "white",
            "showbackground": true,
            "ticks": "",
            "zerolinecolor": "white"
           },
           "zaxis": {
            "backgroundcolor": "#E5ECF6",
            "gridcolor": "white",
            "gridwidth": 2,
            "linecolor": "white",
            "showbackground": true,
            "ticks": "",
            "zerolinecolor": "white"
           }
          },
          "shapedefaults": {
           "line": {
            "color": "#2a3f5f"
           }
          },
          "ternary": {
           "aaxis": {
            "gridcolor": "white",
            "linecolor": "white",
            "ticks": ""
           },
           "baxis": {
            "gridcolor": "white",
            "linecolor": "white",
            "ticks": ""
           },
           "bgcolor": "#E5ECF6",
           "caxis": {
            "gridcolor": "white",
            "linecolor": "white",
            "ticks": ""
           }
          },
          "title": {
           "x": 0.05
          },
          "xaxis": {
           "automargin": true,
           "gridcolor": "white",
           "linecolor": "white",
           "ticks": "",
           "title": {
            "standoff": 15
           },
           "zerolinecolor": "white",
           "zerolinewidth": 2
          },
          "yaxis": {
           "automargin": true,
           "gridcolor": "white",
           "linecolor": "white",
           "ticks": "",
           "title": {
            "standoff": 15
           },
           "zerolinecolor": "white",
           "zerolinewidth": 2
          }
         }
        },
        "title": {
         "font": {
          "size": 23
         },
         "text": "Unique Respondents for different Topics on Cold Adaptations"
        },
        "width": 800
       }
      }
     },
     "metadata": {},
     "output_type": "display_data"
    }
   ],
   "source": [
    "import plotly.express as px\n",
    "\n",
    "fig = px.icicle(Cold_Icicle, path=[px.Constant(\"all\"), 'Major', 'Minor'], values='Count', \n",
    "                color_discrete_sequence=px.colors.qualitative.Light24)\n",
    "# Colour options (see above)\n",
    "fig.update_traces(root_color=\"lightgrey\", textinfo='label+value', texttemplate='%{label}: %{value}')\n",
    "fig.update_layout(title=\"Unique Respondents for different Topics on Cold Adaptations\", font_size=20, title_font_size=23)\n",
    "# font_size controls the global font size and it will make things fit where needed\n",
    "# title_font_size controls the title font size which we want to be different from the global font_size\n",
    "fig.update_layout(width=800, height=1000)\n",
    "fig.show()"
   ]
  },
  {
   "cell_type": "code",
   "execution_count": 87,
   "metadata": {},
   "outputs": [
    {
     "data": {
      "application/vnd.plotly.v1+json": {
       "config": {
        "plotlyServerURL": "https://plot.ly"
       },
       "data": [
        {
         "branchvalues": "total",
         "domain": {
          "x": [
           0,
           1
          ],
          "y": [
           0,
           1
          ]
         },
         "hovertemplate": "labels=%{label}<br>Count=%{value}<br>parent=%{parent}<br>id=%{id}<extra></extra>",
         "ids": [
          "all/Reduced activity/Cancelled plans",
          "all/Precaution/Check in on people",
          "all/Precaution/Clear drains/gutter",
          "all/Alternative plans/Longer journeys",
          "all/Other/Other",
          "all/Reduced activity/Reduced exercise",
          "all/Alternative plans/Route",
          "all/Precaution/Secure objects",
          "all/Reduced activity/Stay indoors",
          "all/Precaution/Stock up food",
          "all/Alternative plans/Transport",
          "all/Clothing/Warm clothes",
          "all/Clothing/Waterproof gear",
          "all/Alternative plans",
          "all/Clothing",
          "all/Other",
          "all/Precaution",
          "all/Reduced activity",
          "all"
         ],
         "labels": [
          "Cancelled plans",
          "Check in on people",
          "Clear drains/gutter",
          "Longer journeys",
          "Other",
          "Reduced exercise",
          "Route",
          "Secure objects",
          "Stay indoors",
          "Stock up food",
          "Transport",
          "Warm clothes",
          "Waterproof gear",
          "Alternative plans",
          "Clothing",
          "Other",
          "Precaution",
          "Reduced activity",
          "all"
         ],
         "name": "",
         "parents": [
          "all/Reduced activity",
          "all/Precaution",
          "all/Precaution",
          "all/Alternative plans",
          "all/Other",
          "all/Reduced activity",
          "all/Alternative plans",
          "all/Precaution",
          "all/Reduced activity",
          "all/Precaution",
          "all/Alternative plans",
          "all/Clothing",
          "all/Clothing",
          "all",
          "all",
          "all",
          "all",
          "all",
          ""
         ],
         "root": {
          "color": "lightgrey"
         },
         "textinfo": "label+value",
         "texttemplate": "%{label}: %{value}",
         "type": "icicle",
         "values": [
          88,
          35,
          72,
          81,
          78,
          149,
          192,
          204,
          466,
          49,
          92,
          48,
          84,
          365,
          132,
          78,
          360,
          703,
          1638
         ]
        }
       ],
       "layout": {
        "font": {
         "size": 20
        },
        "height": 1000,
        "iciclecolorway": [
         "#FD3216",
         "#00FE35",
         "#6A76FC",
         "#FED4C4",
         "#FE00CE",
         "#0DF9FF",
         "#F6F926",
         "#FF9616",
         "#479B55",
         "#EEA6FB",
         "#DC587D",
         "#D626FF",
         "#6E899C",
         "#00B5F7",
         "#B68E00",
         "#C9FBE5",
         "#FF0092",
         "#22FFA7",
         "#E3EE9E",
         "#86CE00",
         "#BC7196",
         "#7E7DCD",
         "#FC6955",
         "#E48F72"
        ],
        "legend": {
         "tracegroupgap": 0
        },
        "margin": {
         "t": 60
        },
        "template": {
         "data": {
          "bar": [
           {
            "error_x": {
             "color": "#2a3f5f"
            },
            "error_y": {
             "color": "#2a3f5f"
            },
            "marker": {
             "line": {
              "color": "#E5ECF6",
              "width": 0.5
             },
             "pattern": {
              "fillmode": "overlay",
              "size": 10,
              "solidity": 0.2
             }
            },
            "type": "bar"
           }
          ],
          "barpolar": [
           {
            "marker": {
             "line": {
              "color": "#E5ECF6",
              "width": 0.5
             },
             "pattern": {
              "fillmode": "overlay",
              "size": 10,
              "solidity": 0.2
             }
            },
            "type": "barpolar"
           }
          ],
          "carpet": [
           {
            "aaxis": {
             "endlinecolor": "#2a3f5f",
             "gridcolor": "white",
             "linecolor": "white",
             "minorgridcolor": "white",
             "startlinecolor": "#2a3f5f"
            },
            "baxis": {
             "endlinecolor": "#2a3f5f",
             "gridcolor": "white",
             "linecolor": "white",
             "minorgridcolor": "white",
             "startlinecolor": "#2a3f5f"
            },
            "type": "carpet"
           }
          ],
          "choropleth": [
           {
            "colorbar": {
             "outlinewidth": 0,
             "ticks": ""
            },
            "type": "choropleth"
           }
          ],
          "contour": [
           {
            "colorbar": {
             "outlinewidth": 0,
             "ticks": ""
            },
            "colorscale": [
             [
              0,
              "#0d0887"
             ],
             [
              0.1111111111111111,
              "#46039f"
             ],
             [
              0.2222222222222222,
              "#7201a8"
             ],
             [
              0.3333333333333333,
              "#9c179e"
             ],
             [
              0.4444444444444444,
              "#bd3786"
             ],
             [
              0.5555555555555556,
              "#d8576b"
             ],
             [
              0.6666666666666666,
              "#ed7953"
             ],
             [
              0.7777777777777778,
              "#fb9f3a"
             ],
             [
              0.8888888888888888,
              "#fdca26"
             ],
             [
              1,
              "#f0f921"
             ]
            ],
            "type": "contour"
           }
          ],
          "contourcarpet": [
           {
            "colorbar": {
             "outlinewidth": 0,
             "ticks": ""
            },
            "type": "contourcarpet"
           }
          ],
          "heatmap": [
           {
            "colorbar": {
             "outlinewidth": 0,
             "ticks": ""
            },
            "colorscale": [
             [
              0,
              "#0d0887"
             ],
             [
              0.1111111111111111,
              "#46039f"
             ],
             [
              0.2222222222222222,
              "#7201a8"
             ],
             [
              0.3333333333333333,
              "#9c179e"
             ],
             [
              0.4444444444444444,
              "#bd3786"
             ],
             [
              0.5555555555555556,
              "#d8576b"
             ],
             [
              0.6666666666666666,
              "#ed7953"
             ],
             [
              0.7777777777777778,
              "#fb9f3a"
             ],
             [
              0.8888888888888888,
              "#fdca26"
             ],
             [
              1,
              "#f0f921"
             ]
            ],
            "type": "heatmap"
           }
          ],
          "heatmapgl": [
           {
            "colorbar": {
             "outlinewidth": 0,
             "ticks": ""
            },
            "colorscale": [
             [
              0,
              "#0d0887"
             ],
             [
              0.1111111111111111,
              "#46039f"
             ],
             [
              0.2222222222222222,
              "#7201a8"
             ],
             [
              0.3333333333333333,
              "#9c179e"
             ],
             [
              0.4444444444444444,
              "#bd3786"
             ],
             [
              0.5555555555555556,
              "#d8576b"
             ],
             [
              0.6666666666666666,
              "#ed7953"
             ],
             [
              0.7777777777777778,
              "#fb9f3a"
             ],
             [
              0.8888888888888888,
              "#fdca26"
             ],
             [
              1,
              "#f0f921"
             ]
            ],
            "type": "heatmapgl"
           }
          ],
          "histogram": [
           {
            "marker": {
             "pattern": {
              "fillmode": "overlay",
              "size": 10,
              "solidity": 0.2
             }
            },
            "type": "histogram"
           }
          ],
          "histogram2d": [
           {
            "colorbar": {
             "outlinewidth": 0,
             "ticks": ""
            },
            "colorscale": [
             [
              0,
              "#0d0887"
             ],
             [
              0.1111111111111111,
              "#46039f"
             ],
             [
              0.2222222222222222,
              "#7201a8"
             ],
             [
              0.3333333333333333,
              "#9c179e"
             ],
             [
              0.4444444444444444,
              "#bd3786"
             ],
             [
              0.5555555555555556,
              "#d8576b"
             ],
             [
              0.6666666666666666,
              "#ed7953"
             ],
             [
              0.7777777777777778,
              "#fb9f3a"
             ],
             [
              0.8888888888888888,
              "#fdca26"
             ],
             [
              1,
              "#f0f921"
             ]
            ],
            "type": "histogram2d"
           }
          ],
          "histogram2dcontour": [
           {
            "colorbar": {
             "outlinewidth": 0,
             "ticks": ""
            },
            "colorscale": [
             [
              0,
              "#0d0887"
             ],
             [
              0.1111111111111111,
              "#46039f"
             ],
             [
              0.2222222222222222,
              "#7201a8"
             ],
             [
              0.3333333333333333,
              "#9c179e"
             ],
             [
              0.4444444444444444,
              "#bd3786"
             ],
             [
              0.5555555555555556,
              "#d8576b"
             ],
             [
              0.6666666666666666,
              "#ed7953"
             ],
             [
              0.7777777777777778,
              "#fb9f3a"
             ],
             [
              0.8888888888888888,
              "#fdca26"
             ],
             [
              1,
              "#f0f921"
             ]
            ],
            "type": "histogram2dcontour"
           }
          ],
          "mesh3d": [
           {
            "colorbar": {
             "outlinewidth": 0,
             "ticks": ""
            },
            "type": "mesh3d"
           }
          ],
          "parcoords": [
           {
            "line": {
             "colorbar": {
              "outlinewidth": 0,
              "ticks": ""
             }
            },
            "type": "parcoords"
           }
          ],
          "pie": [
           {
            "automargin": true,
            "type": "pie"
           }
          ],
          "scatter": [
           {
            "fillpattern": {
             "fillmode": "overlay",
             "size": 10,
             "solidity": 0.2
            },
            "type": "scatter"
           }
          ],
          "scatter3d": [
           {
            "line": {
             "colorbar": {
              "outlinewidth": 0,
              "ticks": ""
             }
            },
            "marker": {
             "colorbar": {
              "outlinewidth": 0,
              "ticks": ""
             }
            },
            "type": "scatter3d"
           }
          ],
          "scattercarpet": [
           {
            "marker": {
             "colorbar": {
              "outlinewidth": 0,
              "ticks": ""
             }
            },
            "type": "scattercarpet"
           }
          ],
          "scattergeo": [
           {
            "marker": {
             "colorbar": {
              "outlinewidth": 0,
              "ticks": ""
             }
            },
            "type": "scattergeo"
           }
          ],
          "scattergl": [
           {
            "marker": {
             "colorbar": {
              "outlinewidth": 0,
              "ticks": ""
             }
            },
            "type": "scattergl"
           }
          ],
          "scattermapbox": [
           {
            "marker": {
             "colorbar": {
              "outlinewidth": 0,
              "ticks": ""
             }
            },
            "type": "scattermapbox"
           }
          ],
          "scatterpolar": [
           {
            "marker": {
             "colorbar": {
              "outlinewidth": 0,
              "ticks": ""
             }
            },
            "type": "scatterpolar"
           }
          ],
          "scatterpolargl": [
           {
            "marker": {
             "colorbar": {
              "outlinewidth": 0,
              "ticks": ""
             }
            },
            "type": "scatterpolargl"
           }
          ],
          "scatterternary": [
           {
            "marker": {
             "colorbar": {
              "outlinewidth": 0,
              "ticks": ""
             }
            },
            "type": "scatterternary"
           }
          ],
          "surface": [
           {
            "colorbar": {
             "outlinewidth": 0,
             "ticks": ""
            },
            "colorscale": [
             [
              0,
              "#0d0887"
             ],
             [
              0.1111111111111111,
              "#46039f"
             ],
             [
              0.2222222222222222,
              "#7201a8"
             ],
             [
              0.3333333333333333,
              "#9c179e"
             ],
             [
              0.4444444444444444,
              "#bd3786"
             ],
             [
              0.5555555555555556,
              "#d8576b"
             ],
             [
              0.6666666666666666,
              "#ed7953"
             ],
             [
              0.7777777777777778,
              "#fb9f3a"
             ],
             [
              0.8888888888888888,
              "#fdca26"
             ],
             [
              1,
              "#f0f921"
             ]
            ],
            "type": "surface"
           }
          ],
          "table": [
           {
            "cells": {
             "fill": {
              "color": "#EBF0F8"
             },
             "line": {
              "color": "white"
             }
            },
            "header": {
             "fill": {
              "color": "#C8D4E3"
             },
             "line": {
              "color": "white"
             }
            },
            "type": "table"
           }
          ]
         },
         "layout": {
          "annotationdefaults": {
           "arrowcolor": "#2a3f5f",
           "arrowhead": 0,
           "arrowwidth": 1
          },
          "autotypenumbers": "strict",
          "coloraxis": {
           "colorbar": {
            "outlinewidth": 0,
            "ticks": ""
           }
          },
          "colorscale": {
           "diverging": [
            [
             0,
             "#8e0152"
            ],
            [
             0.1,
             "#c51b7d"
            ],
            [
             0.2,
             "#de77ae"
            ],
            [
             0.3,
             "#f1b6da"
            ],
            [
             0.4,
             "#fde0ef"
            ],
            [
             0.5,
             "#f7f7f7"
            ],
            [
             0.6,
             "#e6f5d0"
            ],
            [
             0.7,
             "#b8e186"
            ],
            [
             0.8,
             "#7fbc41"
            ],
            [
             0.9,
             "#4d9221"
            ],
            [
             1,
             "#276419"
            ]
           ],
           "sequential": [
            [
             0,
             "#0d0887"
            ],
            [
             0.1111111111111111,
             "#46039f"
            ],
            [
             0.2222222222222222,
             "#7201a8"
            ],
            [
             0.3333333333333333,
             "#9c179e"
            ],
            [
             0.4444444444444444,
             "#bd3786"
            ],
            [
             0.5555555555555556,
             "#d8576b"
            ],
            [
             0.6666666666666666,
             "#ed7953"
            ],
            [
             0.7777777777777778,
             "#fb9f3a"
            ],
            [
             0.8888888888888888,
             "#fdca26"
            ],
            [
             1,
             "#f0f921"
            ]
           ],
           "sequentialminus": [
            [
             0,
             "#0d0887"
            ],
            [
             0.1111111111111111,
             "#46039f"
            ],
            [
             0.2222222222222222,
             "#7201a8"
            ],
            [
             0.3333333333333333,
             "#9c179e"
            ],
            [
             0.4444444444444444,
             "#bd3786"
            ],
            [
             0.5555555555555556,
             "#d8576b"
            ],
            [
             0.6666666666666666,
             "#ed7953"
            ],
            [
             0.7777777777777778,
             "#fb9f3a"
            ],
            [
             0.8888888888888888,
             "#fdca26"
            ],
            [
             1,
             "#f0f921"
            ]
           ]
          },
          "colorway": [
           "#636efa",
           "#EF553B",
           "#00cc96",
           "#ab63fa",
           "#FFA15A",
           "#19d3f3",
           "#FF6692",
           "#B6E880",
           "#FF97FF",
           "#FECB52"
          ],
          "font": {
           "color": "#2a3f5f"
          },
          "geo": {
           "bgcolor": "white",
           "lakecolor": "white",
           "landcolor": "#E5ECF6",
           "showlakes": true,
           "showland": true,
           "subunitcolor": "white"
          },
          "hoverlabel": {
           "align": "left"
          },
          "hovermode": "closest",
          "mapbox": {
           "style": "light"
          },
          "paper_bgcolor": "white",
          "plot_bgcolor": "#E5ECF6",
          "polar": {
           "angularaxis": {
            "gridcolor": "white",
            "linecolor": "white",
            "ticks": ""
           },
           "bgcolor": "#E5ECF6",
           "radialaxis": {
            "gridcolor": "white",
            "linecolor": "white",
            "ticks": ""
           }
          },
          "scene": {
           "xaxis": {
            "backgroundcolor": "#E5ECF6",
            "gridcolor": "white",
            "gridwidth": 2,
            "linecolor": "white",
            "showbackground": true,
            "ticks": "",
            "zerolinecolor": "white"
           },
           "yaxis": {
            "backgroundcolor": "#E5ECF6",
            "gridcolor": "white",
            "gridwidth": 2,
            "linecolor": "white",
            "showbackground": true,
            "ticks": "",
            "zerolinecolor": "white"
           },
           "zaxis": {
            "backgroundcolor": "#E5ECF6",
            "gridcolor": "white",
            "gridwidth": 2,
            "linecolor": "white",
            "showbackground": true,
            "ticks": "",
            "zerolinecolor": "white"
           }
          },
          "shapedefaults": {
           "line": {
            "color": "#2a3f5f"
           }
          },
          "ternary": {
           "aaxis": {
            "gridcolor": "white",
            "linecolor": "white",
            "ticks": ""
           },
           "baxis": {
            "gridcolor": "white",
            "linecolor": "white",
            "ticks": ""
           },
           "bgcolor": "#E5ECF6",
           "caxis": {
            "gridcolor": "white",
            "linecolor": "white",
            "ticks": ""
           }
          },
          "title": {
           "x": 0.05
          },
          "xaxis": {
           "automargin": true,
           "gridcolor": "white",
           "linecolor": "white",
           "ticks": "",
           "title": {
            "standoff": 15
           },
           "zerolinecolor": "white",
           "zerolinewidth": 2
          },
          "yaxis": {
           "automargin": true,
           "gridcolor": "white",
           "linecolor": "white",
           "ticks": "",
           "title": {
            "standoff": 15
           },
           "zerolinecolor": "white",
           "zerolinewidth": 2
          }
         }
        },
        "title": {
         "font": {
          "size": 23
         },
         "text": "Unique Respondents for different Topics on Flood Adaptations"
        },
        "width": 800
       }
      }
     },
     "metadata": {},
     "output_type": "display_data"
    }
   ],
   "source": [
    "import plotly.express as px\n",
    "\n",
    "fig = px.icicle(Flood_Icicle, path=[px.Constant(\"all\"), 'Major', 'Minor'], values='Count', \n",
    "                color_discrete_sequence=px.colors.qualitative.Light24)\n",
    "# Colour options (see above)\n",
    "fig.update_traces(root_color=\"lightgrey\", textinfo='label+value', texttemplate='%{label}: %{value}')\n",
    "fig.update_layout(title=\"Unique Respondents for different Topics on Flood Adaptations\", font_size=20, title_font_size=23)\n",
    "# font_size controls the global font size and it will make things fit where needed\n",
    "# title_font_size controls the title font size which we want to be different from the global font_size\n",
    "fig.update_layout(width=800, height=1000)\n",
    "fig.show()"
   ]
  }
 ],
 "metadata": {
  "kernelspec": {
   "display_name": "Bertopic",
   "language": "python",
   "name": "python3"
  },
  "language_info": {
   "codemirror_mode": {
    "name": "ipython",
    "version": 3
   },
   "file_extension": ".py",
   "mimetype": "text/x-python",
   "name": "python",
   "nbconvert_exporter": "python",
   "pygments_lexer": "ipython3",
   "version": "3.12.6"
  }
 },
 "nbformat": 4,
 "nbformat_minor": 2
}
