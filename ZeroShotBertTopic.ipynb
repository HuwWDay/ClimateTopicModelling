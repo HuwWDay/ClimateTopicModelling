{
 "cells": [
  {
   "cell_type": "markdown",
   "metadata": {},
   "source": [
    "Zero-shot Topic modelling: https://maartengr.github.io/BERTopic/getting_started/zeroshot/zeroshot.html#example"
   ]
  },
  {
   "cell_type": "code",
   "execution_count": 1,
   "metadata": {},
   "outputs": [],
   "source": [
    "import pandas as pd\n",
    "import math\n",
    "import re"
   ]
  },
  {
   "cell_type": "markdown",
   "metadata": {},
   "source": [
    "Note there's a bug/feature of the below function that's sort of the nature of natural language.\n",
    "If you split by \".\" you might occasionally split at an important point: \n",
    "\"I stocked up on supplies e.g. baked beans\" would get split into \"I stocked up on supplies e\", \"g\" and \"baked beans\". \n",
    "\n",
    "Use this approach with caution and check the outputs!"
   ]
  },
  {
   "cell_type": "code",
   "execution_count": 2,
   "metadata": {},
   "outputs": [
    {
     "name": "stdout",
     "output_type": "stream",
     "text": [
      "['Sentence', ' New sentence', ' a bit more', 'Something else', 'More stuff', ' even more']\n",
      "[0, 0, 0, 1, 2, 2]\n"
     ]
    }
   ],
   "source": [
    "def split_and_update_indices(test_list, test_index, split_list):\n",
    "    \"\"\"\n",
    "    Splits elements in a list based on a list of splitters and updates the index list accordingly.\n",
    "    Useful below for keeping track of who said what from topic modelling whilst splitting longer responses.\n",
    "\n",
    "    Parameters\n",
    "    test_list : list\n",
    "        List of strings to split.\n",
    "    test_index : list\n",
    "        List of indices corresponding to the strings in test_list.\n",
    "    split_list : list\n",
    "        List of strings to split on.\n",
    "\n",
    "    Returns\n",
    "    new_list : list\n",
    "        List of strings split on the splitters.\n",
    "    new_index : list\n",
    "        List of indices corresponding to the strings in new_list.\n",
    "    \"\"\"\n",
    "    new_list = []\n",
    "    new_index = []\n",
    "\n",
    "    for element, index in zip(test_list, test_index):\n",
    "        split_elements = [element]\n",
    "        for splitter in split_list:\n",
    "            temp_list = []\n",
    "            for sub_element in split_elements:\n",
    "                temp_list.extend(sub_element.split(splitter))\n",
    "            split_elements = temp_list\n",
    "        \n",
    "        # Remove empty strings resulting from split\n",
    "        split_elements = [elem for elem in split_elements if elem]\n",
    "\n",
    "        new_list.extend(split_elements)\n",
    "        new_index.extend([index] * len(split_elements))\n",
    "\n",
    "    return new_list, new_index\n",
    "\n",
    "# Example usage\n",
    "Test_list = [\"Sentence. New sentence and a bit more\", \"Something else\", \"More stuff and even more\"]\n",
    "Test_index = [0, 1, 2]\n",
    "SplitList = [\".\", \" and\"]\n",
    "\n",
    "New_list, New_index = split_and_update_indices(Test_list, Test_index, SplitList)\n",
    "\n",
    "print(New_list)\n",
    "print(New_index)"
   ]
  },
  {
   "cell_type": "code",
   "execution_count": 3,
   "metadata": {},
   "outputs": [],
   "source": [
    "def data_loader(DataSet=\"Heat\", SplitterList=[\". \", \", \", \"-\", \"and\", \";\"], Type=\"Split\", index=\"ID\"):\n",
    "    \"\"\"\n",
    "    Load in the dataset, process it into a list of data.\n",
    "        \n",
    "    Parameters:\n",
    "    DataSet (str): The dataset to load in. Options are \"Heat\", \"Cold\" or \"Flood\".\n",
    "    SplitterList (list): List of strings to split the documents by, only applies if Type is \"Split\".\n",
    "    Type (str): The type of processing to apply to the dataset. Options are \"Split\" or \"Combine\".\n",
    "    index (str): The column to use as an index for the data. Useful if you want to match documents in your topic model to the original data.\n",
    "    If None, then it just uses the index from the loaded dataframe.\n",
    "\n",
    "    If Type = \"Combine\" then any info from all 3 potential columns are combined into 1 entry per person.\n",
    "    This appears ideal but the larger the sentence, the harder it is for BERT to deduce what sentences are similar.\n",
    "\n",
    "    If Type = \"Split\" then the data is split by the SplitterList and each entry is split into multiple entries.\n",
    "    A separate index is outputted which corresponds to the original data for each entry in the list \n",
    "    (this even works for the splitter option).\n",
    "\n",
    "    Returns:\n",
    "    docs (list): List of strings to use for topic modelling.\n",
    "    doc_index (list): List of indices corresponding to the strings in docs.\n",
    "    zero_shot_topic_list_major (list): List of major topics for zero-shot classification.\n",
    "    zero_shot_topic_list_minor (list): List of minor topics for zero-shot classification.\n",
    "    \"\"\"\n",
    "    \n",
    "    if DataSet == \"Heat\":\n",
    "        # Heat Data\n",
    "        RawText = pd.read_excel(\"HeatSurvey23 Analysis_Free TextHuwsCopy.xlsx\", sheet_name=\"Huws Breakdown (2)\")\n",
    "        RawTextAnalysis = RawText[[\"ADVNC_TEXT\", \"WTHR_TEXT\", \"FREE_TEXT\"]]\n",
    "\n",
    "        zero_shot_topic_list_major = [\"Routine\", \"Technology solution\", \"Home adaptations\", \"Personal care\"]\n",
    "        zero_shot_topic_list_minor = [\"Alternative plans\", \"Time of day\", \"Reduced activity\", \n",
    "                                          \"Benefit\", \"Physical health\", \"Cooling\", \"Sun protection\", \n",
    "                                          \"Care\", \"Fan\", \"Air conditioning\", \"Closed curtains or blinds\", \n",
    "                                          \"Lighter bedding\"]\n",
    "    elif DataSet == \"Cold\":\n",
    "        # Cold Data\n",
    "        RawText = pd.read_excel(\"ColdFloodSurvey24 AnalysisHuwsCopy.xlsx\", sheet_name=\"HuwsDATA\", header=1)\n",
    "        RawTextAnalysis = RawText[[\"ADVNC_TEXT_C\", \"WTHR_TEXT_C\", \"FREE_TEXT_C\"]] \n",
    "\n",
    "        zero_shot_topic_list_major = [\"Routine\", \"Technology solution\", \"Home adaptations\", \"Personal care\", \"Safety precautions\"]\n",
    "        zero_shot_topic_list_minor = [\"Time of day\", \"Alternative plans\", \"Reduced activity\", \"Benefit\", \"Physical health\", \n",
    "                                          \"Extra Heating\", \"Dehumidifier\", \"Blankets\", \"Insulation\", \"Layers\", \"Hot water bottle\", \n",
    "                                          \"Hot drinks\", \"Bigger meals\", \"Car\", \"Pipes\", \"Supplies\", \"Family\"]\n",
    "    elif DataSet == \"Flood\":    \n",
    "        # Storm Data\n",
    "        RawText = pd.read_excel(\"ColdFloodSurvey24 AnalysisHuwsCopy.xlsx\", sheet_name=\"HuwsDATA\", header=1)\n",
    "        RawTextAnalysis = RawText[[\"ADVNC_TEXT_F\", \"WTHR_TEXT_F\", \"FREE_TEXT_F\"]]\n",
    "\n",
    "        zero_shot_topic_list_major = [\"Routine\", \"Technology solution\", \"Personal care\", \"Safety precautions\"]\n",
    "        zero_shot_topic_list_minor = [\"Time of day\", \"Alternative plans\", \"Reduced activity\", \"Heating\", \"Clothing\", \"Secure loose objects\", \"Drainage\"]\n",
    "    else:\n",
    "        print(\"Invalid DataSet\")\n",
    "        exit()\n",
    "    \n",
    "    print(\"Data loaded: \", DataSet)\n",
    "    print(\"Number of rows: \", RawTextAnalysis.shape[0])\n",
    "    # Find how many rows have only NaNs or missing values\n",
    "    missing_values_count = RawTextAnalysis.isnull().all(axis=1).sum()\n",
    "    print(\"Number of rows with no responses: \", missing_values_count)\n",
    "    print(\"Percentage of rows with no responses: \", missing_values_count / RawTextAnalysis.shape[0] * 100)\n",
    "\n",
    "    #HeatTextAnalysis = HeatText[[\"ADVNC_TEXT\", \"WTHR_TEXT\", \"OTHR_TEXT\", \"FREE_TEXT\"]]\n",
    "    #.drop([\"ID\", \"WTHR\", \"OTHR\", \"ALERT\", \"ADVNC\", \"HEALTH\", \"Health Conditions\", \"Symtoms1\", \"Symtoms2\", \"Symtoms3\"], axis=1)\n",
    "    if Type == \"Split\":\n",
    "        data = RawTextAnalysis.values.flatten().tolist()\n",
    "        dataset_size = len(data)\n",
    "        # Remove NaN values from the list\n",
    "        docs = [value for value in data if not (isinstance(value, float) and math.isnan(value))]\n",
    "        removed_size = len(docs)\n",
    "\n",
    "        print(\"List length: \", dataset_size)\n",
    "        print(\"Removed NaN values from list: \", dataset_size - removed_size)\n",
    "        print(\"Percentage non-responses removed: \", (dataset_size - removed_size) / dataset_size * 100)\n",
    "        print(\"Final dataset size: \", removed_size)\n",
    "\n",
    "        if index == False:\n",
    "            doc_index = []\n",
    "        else:\n",
    "            doc_index = RawText[index].tolist()\n",
    "\n",
    "        for element in docs:\n",
    "            doc_index.append(data.index(element))\n",
    "        \n",
    "        if len(SplitterList) > 0:\n",
    "            print(\"Length of docs before splitting: \", len(docs))\n",
    "            print(\"Items to split by: \", SplitterList)\n",
    "            docs, doc_index = split_and_update_indices(docs, doc_index, SplitterList)\n",
    "            print(\"Length of docs after splitting: \", len(docs))\n",
    "\n",
    "    elif Type == \"Combine\":\n",
    "        temp_index = RawText[index]\n",
    "        RawTextAnalysis = pd.merge(temp_index, RawTextAnalysis, left_index=True, right_index=True)\n",
    "\n",
    "        dataset_size = RawTextAnalysis.shape[0]\n",
    "        dataset = RawTextAnalysis.dropna(how=\"all\", subset=RawTextAnalysis.columns[1:])\n",
    "\n",
    "        if index == False:\n",
    "            doc_index = dataset[index].tolist()\n",
    "        else:\n",
    "            doc_index = RawText[index]\n",
    "            \n",
    "        removed_size = dataset.shape[0]\n",
    "\n",
    "        print(\"List length: \", dataset_size)\n",
    "        print(\"Removed NaN values from list: \", dataset_size - removed_size)\n",
    "        print(\"Percentage non-responses removed: \", (dataset_size - removed_size) / dataset_size * 100)\n",
    "        print(\"Final dataset size: \", removed_size)\n",
    "\n",
    "        docs = []\n",
    "\n",
    "        for row in dataset.iterrows():\n",
    "            values = row[1].dropna().values\n",
    "            #print(values)\n",
    "            value_combined = \". \".join([str(value) for value in values if value is not None])\n",
    "            #print(value_combined)\n",
    "            #print(\"\")\n",
    "            docs.append(value_combined)\n",
    "\n",
    "        doclen = len(docs)    \n",
    "        docs = [doc for doc in docs if re.search('[a-zA-Z]', doc)]\n",
    "        if doclen != len(docs):\n",
    "            print(\"Removed empty strings from dataset\")\n",
    "            print(\"Length of docs after processing: \", len(docs))\n",
    "            \n",
    "    else:\n",
    "        print(\"Invalid Process Type\")\n",
    "        exit()\n",
    "                     \n",
    "    return docs, doc_index, zero_shot_topic_list_major, zero_shot_topic_list_minor\n"
   ]
  },
  {
   "cell_type": "code",
   "execution_count": 4,
   "metadata": {},
   "outputs": [
    {
     "name": "stderr",
     "output_type": "stream",
     "text": [
      "c:\\Users\\hd15639\\AppData\\Local\\anaconda3\\envs\\Bertopic\\Lib\\site-packages\\openpyxl\\worksheet\\_reader.py:329: UserWarning: Data Validation extension is not supported and will be removed\n",
      "  warn(msg)\n"
     ]
    },
    {
     "name": "stdout",
     "output_type": "stream",
     "text": [
      "Data loaded: Raw Heat\n",
      "Number of rows:  3242\n",
      "Number of rows with no responses:  1742\n",
      "Percentage of rows with no responses:  53.732264034546574\n",
      "\n",
      "Data loaded: Raw Cold\n",
      "Number of rows:  2737\n",
      "Number of rows with no responses:  1371\n",
      "Percentage of rows with no responses:  50.09134088417976\n",
      "\n",
      "Data loaded: Raw Flood\n",
      "Number of rows:  2737\n",
      "Number of rows with no responses:  1710\n",
      "Percentage of rows with no responses:  62.477164778955064\n"
     ]
    }
   ],
   "source": [
    "# Outputting number of rows with no responses from uncleaned data\n",
    "\n",
    "RawText = pd.read_excel(\"HeatSurvey23 Analysis_Free TextHuwsCopy.xlsx\", sheet_name=\"FreeText Breakdown\")\n",
    "RawTextAnalysis = RawText[[\"ADVNC_TEXT\", \"WTHR_TEXT\", \"FREE_TEXT\"]]\n",
    "\n",
    "print(\"Data loaded: Raw Heat\")\n",
    "print(\"Number of rows: \", RawTextAnalysis.shape[0])\n",
    "# Find how many rows have only NaNs or missing values\n",
    "missing_values_count = RawTextAnalysis.isnull().all(axis=1).sum()\n",
    "print(\"Number of rows with no responses: \", missing_values_count)\n",
    "print(\"Percentage of rows with no responses: \", missing_values_count / RawTextAnalysis.shape[0] * 100)\n",
    "print(\"\")\n",
    "\n",
    "RawText = pd.read_excel(\"ColdFloodSurvey24 AnalysisHuwsCopy.xlsx\", sheet_name=\"DATA\", header=1)\n",
    "RawTextAnalysis = RawText[[\"ADVNC_TEXT_C\", \"WTHR_TEXT_C\", \"FREE_TEXT_C\"]] \n",
    "\n",
    "print(\"Data loaded: Raw Cold\")\n",
    "print(\"Number of rows: \", RawTextAnalysis.shape[0])\n",
    "# Find how many rows have only NaNs or missing values\n",
    "missing_values_count = RawTextAnalysis.isnull().all(axis=1).sum()\n",
    "print(\"Number of rows with no responses: \", missing_values_count)\n",
    "print(\"Percentage of rows with no responses: \", missing_values_count / RawTextAnalysis.shape[0] * 100)\n",
    "print(\"\")\n",
    "\n",
    "RawTextAnalysis = RawText[[\"ADVNC_TEXT_F\", \"WTHR_TEXT_F\", \"FREE_TEXT_F\"]]\n",
    "\n",
    "print(\"Data loaded: Raw Flood\")\n",
    "print(\"Number of rows: \", RawTextAnalysis.shape[0])\n",
    "# Find how many rows have only NaNs or missing values\n",
    "missing_values_count = RawTextAnalysis.isnull().all(axis=1).sum()\n",
    "print(\"Number of rows with no responses: \", missing_values_count)\n",
    "print(\"Percentage of rows with no responses: \", missing_values_count / RawTextAnalysis.shape[0] * 100)\n"
   ]
  },
  {
   "cell_type": "code",
   "execution_count": 6,
   "metadata": {},
   "outputs": [
    {
     "name": "stderr",
     "output_type": "stream",
     "text": [
      "c:\\Users\\hd15639\\AppData\\Local\\anaconda3\\envs\\Bertopic\\Lib\\site-packages\\openpyxl\\worksheet\\_reader.py:329: UserWarning: Data Validation extension is not supported and will be removed\n",
      "  warn(msg)\n"
     ]
    },
    {
     "name": "stdout",
     "output_type": "stream",
     "text": [
      "Data loaded:  Heat\n",
      "Number of rows:  3242\n",
      "Number of rows with no responses:  1748\n",
      "Percentage of rows with no responses:  53.91733497840839\n",
      "List length:  9726\n",
      "Removed NaN values from list:  7467\n",
      "Percentage non-responses removed:  76.77359654534239\n",
      "Final dataset size:  2259\n",
      "Length of docs before splitting:  2259\n",
      "Items to split by:  ['. ', ', ', '-', 'and', ';']\n",
      "Length of docs after splitting:  4144\n",
      "\n",
      "Has the index updater worked:  True\n",
      "\n",
      "Data loaded:  Cold\n",
      "Number of rows:  2736\n",
      "Number of rows with no responses:  1474\n",
      "Percentage of rows with no responses:  53.87426900584795\n",
      "List length:  8208\n",
      "Removed NaN values from list:  6331\n",
      "Percentage non-responses removed:  77.13206627680313\n",
      "Final dataset size:  1877\n",
      "Length of docs before splitting:  1877\n",
      "Items to split by:  ['. ', ', ', '-', 'and', ';']\n",
      "Length of docs after splitting:  3237\n",
      "\n",
      "Has the index updater worked:  True\n",
      "\n",
      "Data loaded:  Flood\n",
      "Number of rows:  2736\n",
      "Number of rows with no responses:  1808\n",
      "Percentage of rows with no responses:  66.08187134502924\n",
      "List length:  8208\n",
      "Removed NaN values from list:  6888\n",
      "Percentage non-responses removed:  83.91812865497076\n",
      "Final dataset size:  1320\n",
      "Length of docs before splitting:  1320\n",
      "Items to split by:  ['. ', ', ', '-', 'and', ';']\n",
      "Length of docs after splitting:  2014\n",
      "\n",
      "Has the index updater worked:  True\n",
      "\n"
     ]
    }
   ],
   "source": [
    "Heat, Heat_index, major_topics_heat, minor_topics_heat = data_loader(\"Heat\")\n",
    "print(\"\")\n",
    "print(\"Has the index updater worked: \", len(Heat) == len(Heat_index))\n",
    "print(\"\")\n",
    "HeatFrame = pd.DataFrame({\"Document\": Heat, \"Index\": Heat_index})\n",
    "HeatFrame.to_csv(\"DocumentProcessing/HeatData.csv\", index=False)\n",
    "\n",
    "Cold, Cold_index, major_topics_cold, minor_topics_cold = data_loader(\"Cold\")\n",
    "print(\"\")\n",
    "print(\"Has the index updater worked: \", len(Cold)==len(Cold_index))\n",
    "print(\"\")\n",
    "ColdFrame = pd.DataFrame({\"Document\": Cold, \"Index\": Cold_index})\n",
    "ColdFrame.to_csv(\"DocumentProcessing/ColdData.csv\", index=False)\n",
    "\n",
    "Flood, Flood_index, major_topics_flood, minor_topics_flood = data_loader(\"Flood\")\n",
    "print(\"\")\n",
    "print(\"Has the index updater worked: \", len(Flood)==len(Flood_index))\n",
    "print(\"\")\n",
    "FloodFrame = pd.DataFrame({\"Document\": Flood, \"Index\": Flood_index})\n",
    "FloodFrame.to_csv(\"DocumentProcessing/FloodData.csv\", index=False)"
   ]
  },
  {
   "cell_type": "code",
   "execution_count": null,
   "metadata": {},
   "outputs": [
    {
     "data": {
      "text/plain": [
       "['I did cancel plans as it made me not want to go back out once I’d finished work ',\n",
       " 'Heating bills were more expensive',\n",
       " 'tried to heat just the room I was working in ',\n",
       " ' wrapped up in layers.',\n",
       " 'Draught excluders under doors',\n",
       " 'Curtains closed',\n",
       " 'fan heater when boiler failed',\n",
       " 'log fires',\n",
       " 'layers of clothing',\n",
       " 'hot drinks',\n",
       " 'Same as above ',\n",
       " 'Blankets ',\n",
       " ' heating on higher',\n",
       " 'Blankets ',\n",
       " ' stayed in ',\n",
       " 'work from home',\n",
       " 'exercise solo rather than group',\n",
       " 'Worked from home ',\n",
       " 'Worked from home ',\n",
       " 'Got more wood in for wood burner',\n",
       " 'Planned shopping trips to avoid the worst weather',\n",
       " 'Cleared gardens of anything that could blow around',\n",
       " 'Bought an electric overblanket',\n",
       " 'increased the temperature at home ',\n",
       " ' had heating on during the day to be comfortable',\n",
       " 'I worked as a semi retired ',\n",
       " ' outside garden projects went on hold',\n",
       " 'Cancelled appointments ',\n",
       " ' sporting ones ',\n",
       " 'Dressed up warmly ',\n",
       " ' didn’t leave the house much ',\n",
       " 'These storms came one after another so much so that I wanted to leave for warmer climes ',\n",
       " 'Left earlier when going out in the car',\n",
       " 'Dressed appropriately ',\n",
       " 'Ensured we had enough heat logs',\n",
       " 'Ensured radiators on top floor',\n",
       " 'Left for work earlier as driving conditions worse',\n",
       " \"I didn't exercise myself or my dog due to cold \",\n",
       " ' flooding',\n",
       " 'Wore more layers',\n",
       " 'Started wearing a base layer',\n",
       " 'Prepared wood for fire',\n",
       " 'to cut down on the central heating',\n",
       " 'Prepared hot water bottle ',\n",
       " ' blankets on h',\n",
       " 'Worked from home on some occasions',\n",
       " 'Enjoyed exercise outside ',\n",
       " 'walking fast ',\n",
       " ' while well wrapped up',\n",
       " 'Bought draught excluders for draughty doors',\n",
       " 'Cycled ',\n",
       " ' walked outside less',\n",
       " 'Flat feels colder due to draughts',\n",
       " 'Its a victorian flat with large single glazed windows that cannot be changed due to conservation',\n",
       " 'warmer clothing',\n",
       " 'Bit more worried about the children’s heating bills !! ',\n",
       " 'Work was made harder because of the conditions',\n",
       " 'Made sure had oil ',\n",
       " ' supplies',\n",
       " 'Rock salted the drive',\n",
       " '.Doing a big shop in advance.',\n",
       " 'Putting the heating on more',\n",
       " 'Driving to work a different way ',\n",
       " ' allowing more time',\n",
       " 'Life continued much as usual ',\n",
       " 'Put heating on during the day',\n",
       " 'Couldn’t go for walks with baby',\n",
       " 'We had the heating on more regularly/wore more warm clothing,',\n",
       " 'Used more heating',\n",
       " 'blankets/fleeces  to keep warm during the evening/night',\n",
       " 'wearing extra layers day ',\n",
       " ' evening',\n",
       " 'More heating',\n",
       " 'extra layers of clothing day/evening',\n",
       " 'used fleeces to keep warm evenings',\n",
       " 'used fleece on bed at night',\n",
       " 'moved plants inside to protect from freezing tempst',\n",
       " 'Hats gloves scarf next to me in the house',\n",
       " 'Warmer clothes',\n",
       " 'Lessened social activities',\n",
       " 'tried to keep warm in the house ',\n",
       " ' get indoor things to do',\n",
       " 'Stocked up on jumpers',\n",
       " 'blankets',\n",
       " 'closed curtains ',\n",
       " ' doors',\n",
       " 'wore a scarf over mouth when cycling ',\n",
       " 'Turned heating on',\n",
       " 'thought about what food to buy',\n",
       " 'adjusted clothing to layers',\n",
       " 'got up early for work to ensure I could check conditions ',\n",
       " ' arrive safely',\n",
       " 'As above ',\n",
       " ' prepared the car if I broke down',\n",
       " 'Heating on more often',\n",
       " 'Heating on for longer',\n",
       " ' Extra layers of clothes ',\n",
       " 'Put the heating on low temperature at night',\n",
       " 'normally turn it off',\n",
       " 'Warmer clothing indoors ',\n",
       " ' turned up heating',\n",
       " 'Bought a heated blanket.',\n",
       " 'Bought a couple of new sweaters ',\n",
       " ' a pair of warm walking boots',\n",
       " 'Kept house warm ',\n",
       " ' kept indoors more than usual.',\n",
       " 'I like in Wales but work in Engl',\n",
       " ' so I worked from home during the days the severn bridge was closed because of the weather',\n",
       " 'Also purchased two different types of heated blankets.',\n",
       " 'ensured car was prepared e.g',\n",
       " ' fuelled up',\n",
       " 'tyres correct etc cancelled travel plans.',\n",
       " 'blanket ',\n",
       " ' hot water bottle prepared',\n",
       " 'Wore warmer clothes',\n",
       " 'Daily outside walk shorter.',\n",
       " 'Turned up heating',\n",
       " 'electric blanket ',\n",
       " ' through',\n",
       " 'Changed plans with a friend to run on a different day ',\n",
       " 'Kept the heating on longer',\n",
       " 'Bought a desk heater for working from home',\n",
       " 'Bought extra radiator',\n",
       " 'hot water bottles',\n",
       " 'Lit the log burner earlier ',\n",
       " ' mid afternoon rather than early evening',\n",
       " 'Changes in how I exercise',\n",
       " 'going to gym classes or exercising indoors because we couldn’t get out cycling.',\n",
       " 'Cancel appointments ',\n",
       " 'Quality of life',\n",
       " 'Took more time travelling to allow for any road incidents ',\n",
       " 'Warmer clothes',\n",
       " 'more layers',\n",
       " \"It really wasn't that bad\",\n",
       " \"I've checked my diary\",\n",
       " \" the cold didn't change anything\",\n",
       " 'The 20th was very cold',\n",
       " 'so I stayed in',\n",
       " 'but from the 14th till the 19th my activities were not affected',\n",
       " 'I propped up large plants on my terrace to prevent them falling over',\n",
       " ' I covered some outside pipes  to prevent them freezing up',\n",
       " ' I got out a fan heater for the bathroomwith towels as they freeze up if the temp is low enough',\n",
       " ' I got out a heater for the bathroom to add to the radiator',\n",
       " ' I decided to take the car more',\n",
       " 'so as to avoid getting soaked',\n",
       " \"I didn't walk as much when it was raining \",\n",
       " ' windy to avoid getting soaked',\n",
       " ' I wore more warm clothes',\n",
       " 'I like some really cold weather as it kills the bugs in my flower pots',\n",
       " \" If it's sunny\",\n",
       " 'it looks beautiful',\n",
       " 'I worked from home rather than go to the office',\n",
       " ' Booked a shopping delivery rather than go to the supermarket.',\n",
       " 'Worked from home',\n",
       " 'Booked grocery delivery',\n",
       " 'Kept the heating on constant.',\n",
       " 'Thicker clothes car prep ',\n",
       " 'Thicker clothes ',\n",
       " 'Less walking commute ',\n",
       " ' more reliance on car transport.',\n",
       " 'Greater reliance on central heating at home due to colder temperatures',\n",
       " 'Kept log fire in constantly to maintain steady temperature',\n",
       " 'I enjoyed it because it meant I could go skiing in Scotl',\n",
       " '!',\n",
       " 'Don’t care if it’s cold as long it stays dry',\n",
       " 'Turned heating up',\n",
       " 'wore more layers',\n",
       " 'Didn’t book any golf',\n",
       " 'Didn’t play golf ',\n",
       " 'Worked from home',\n",
       " 'wore different clothes to work when in the office',\n",
       " 'got an office heater',\n",
       " ' ',\n",
       " 'Brought in extra wood for the fire',\n",
       " 'avoided unnecessary driving ',\n",
       " 'Wore more clothes ',\n",
       " ' went out less',\n",
       " 'Changed travel plans via train network',\n",
       " 'Changed travel plans via train network',\n",
       " 'Put an extra jumper on in the morning',\n",
       " 'took a hot water bottle to bed ',\n",
       " ' put an extra blanket on the bed.',\n",
       " 'Took my hat',\n",
       " 'gloves ',\n",
       " ' wore a thermal layer',\n",
       " 'Cancelled social plans',\n",
       " 'Hot water bottles ready',\n",
       " 'bought extra radiator',\n",
       " 'more blankets etc',\n",
       " 'As above ',\n",
       " 'Had the heating on',\n",
       " 'Stayed inside as much as possible',\n",
       " 'Got up to defrost the car',\n",
       " 'Walked dog at different times  Gritted driveway',\n",
       " 'Put the heating on',\n",
       " 'Bought wood for log burner',\n",
       " 'I turned the heating up ',\n",
       " ' lit the log burner',\n",
       " 'Part of my house wall fell down (effect of water penetration freezing) which cost me thous',\n",
       " 's',\n",
       " 'Went to office more because of heating',\n",
       " 'more clothes',\n",
       " 'extra blankets on the sofa',\n",
       " 'Car snowed in so walked locally',\n",
       " 'Stayed indoors more.',\n",
       " 'Wore dressing gown on top of clothes ',\n",
       " 'Extra heating despite costs',\n",
       " 'Covering windscreen to prevent frost',\n",
       " 'Keeping extra layers in the car',\n",
       " 'stayed at home more',\n",
       " 'Stocked food cupboard more',\n",
       " 'stayed at home more',\n",
       " 'I work outdoors',\n",
       " 'so had to prepare our work van ',\n",
       " ' clothes to work in icy conditions',\n",
       " 'Wore my hat ',\n",
       " ' gloves! Still had to work outside though',\n",
       " 'I work outside',\n",
       " 'therefore am subject to adverse weather conditions which affects my ability to complete work',\n",
       " 'Did not risk travelling ',\n",
       " 'Turned the heating up ',\n",
       " 'Went to office less',\n",
       " 'Exercised less as was less pleasant to be outside.',\n",
       " 'Worked from home more as didn’t want to go out just wanted to hibernate',\n",
       " 'Financial constraints due to having to put the heating on more ',\n",
       " 'Put on extra layers',\n",
       " 'Used wood burner more',\n",
       " 'Played less golf',\n",
       " 'restricted our golf ',\n",
       " ' cycling',\n",
       " 'Work from home',\n",
       " 'Purchased a heater',\n",
       " 'Sleeping in tracksuits ',\n",
       " ' with extra blankets',\n",
       " 'ate more hot food ',\n",
       " ' drank more hot drinks ',\n",
       " 'Bought an electric overblanket',\n",
       " 'Avoided going outside so as to not breath in cold air which would affect my asthma',\n",
       " 'wrapped up warm',\n",
       " 'I wear base layers for extra warmth',\n",
       " 'Cancelled all personal appointments ',\n",
       " 'Stayed inside ',\n",
       " ' cancelled everything ',\n",
       " 'had to cancel appointments',\n",
       " 'needed to be more aware of keeping warm to try ',\n",
       " ' prevent flares of my disability ',\n",
       " 'preparation to avoid frozen pipes',\n",
       " 'charged car battery',\n",
       " 'got out cold weather boots',\n",
       " 'etc.',\n",
       " 'as above + vitamins D ',\n",
       " ' C',\n",
       " 'Needed to remind grown up children of steps they need to take to protect themselves e.g',\n",
       " 'driving',\n",
       " 'etc',\n",
       " 'Bought a heater',\n",
       " 'Bought various car cold weather accessories to prepare for travel in colder conditions.',\n",
       " 'Extra caution taken when driving as now living in a flood prone area',\n",
       " 'so ice can occur more frequently.',\n",
       " 'I adjusted the heating controls to come on for longer.',\n",
       " 'Used a blanket when sitting on the sofa.',\n",
       " 'Looked at finances ',\n",
       " ' then put the heating on more to keep me warm',\n",
       " 'Wore more clothes ',\n",
       " 'I went on holiday to warmer climes mid',\n",
       " 'Jan to early',\n",
       " 'Feb',\n",
       " 'Avoided planning site visits for work.',\n",
       " 'Did nothing in my evenings except watch tv under a blanket ',\n",
       " 'We stayed at home more than usual',\n",
       " 'Dressed appropriately to keep warm',\n",
       " 'Left the heating on longer',\n",
       " \"I'm not normally warm to begin with\",\n",
       " 'so more wrapping up',\n",
       " 'Heating on for longer',\n",
       " ' more time spent together in the house in the living room as it has a gas fireplace that works ',\n",
       " \"Didn't cycle to work\",\n",
       " \"didn't go running outside\",\n",
       " 'Wore 6 layers at home',\n",
       " 'Electric blankets',\n",
       " 'portable heaters',\n",
       " 'Inside home temperatures dropped to 6 degrees Celsius',\n",
       " 'Heating on',\n",
       " 'Endured we had plenty of food in',\n",
       " 'Dressed warmly',\n",
       " 'cooked warming meals',\n",
       " 'I found my house very cold ',\n",
       " ' hard to heat ',\n",
       " 'Wood for a fire',\n",
       " 'cancelled going on walks ',\n",
       " 'Cancelled going on walks/outdoor activities ',\n",
       " 'Just turned the heating up',\n",
       " 'I had to buy ',\n",
       " ' extra heater ',\n",
       " ' spend a lot more money on electricity to keep warm ',\n",
       " 'Bought more heaters ',\n",
       " 'More blankets ',\n",
       " ' the heating up',\n",
       " 'Turned the heating up',\n",
       " 'I work outdoor',\n",
       " 'so work is affected in extreme weather conditions.',\n",
       " 'Put heating on more often ',\n",
       " ' brought out cold',\n",
       " 'weather gear',\n",
       " 'It’s more the wet that affects than the cold',\n",
       " 'Bought thermals ',\n",
       " 'Warmer clothes,big food shop',\n",
       " 'Turned heating up',\n",
       " \"Didn't use my bicycle\",\n",
       " 'stayed at home more',\n",
       " 'Warmer clothes',\n",
       " 'Cover placed on windscreen to make life easier in the morning',\n",
       " 'brought bins into the garage',\n",
       " 'battened down garden arch',\n",
       " 'Had extra heaters on in the house',\n",
       " 'used electric overblanket during the evening',\n",
       " 'Wore more clothes',\n",
       " 'Had heating on more',\n",
       " 'wearing warmer clothes',\n",
       " 'heating parts of the house only',\n",
       " 'I drove to work instead of walking or riding my bike',\n",
       " 'Less outdoor activities ',\n",
       " 'More clothes ',\n",
       " 'My partner comes from a much warmer country so we usually have the heating turned up!',\n",
       " 'put on more layers',\n",
       " 'increased central heating thermostat to 17 degrees overnight to keep house relatively warm',\n",
       " 'It came with less rain',\n",
       " 'so I went out ',\n",
       " ' exercised more.',\n",
       " \"Couldn't play tennis outside as much\",\n",
       " 'Stocked up on essentials',\n",
       " 'Not going out',\n",
       " 'Turned the heating up',\n",
       " 'Wore a lot of clothes',\n",
       " 'We lit the wood burning stove every evening',\n",
       " 'Stayed inside more',\n",
       " 'Had my eating boiler repaired',\n",
       " 'Purchased another electric blanket to use in my chair',\n",
       " 'Made sure the heating was on longer',\n",
       " ' which cost more because I’am on pay as you go metres.',\n",
       " 'Increased clothing ',\n",
       " ' covered myself with a blanket when sitting down',\n",
       " 'Kept central heating on for longer.',\n",
       " 'Worked from home more',\n",
       " 'arranged less social engagements',\n",
       " 'Higher heating bills ',\n",
       " 'Bought heated blanket',\n",
       " 'Avoided appointments ',\n",
       " ' leaving home',\n",
       " 'increased pain reduced mobility',\n",
       " 'Skipped exercise ',\n",
       " ' dog walks',\n",
       " 'I just wore extra layers',\n",
       " 'ate a bit more ',\n",
       " ' made sure I still exercised outside.',\n",
       " 'Stayed inside a lot more',\n",
       " 'Wearing thermal layers ',\n",
       " 'Stopped a few excercise routines',\n",
       " 'Had the heating on at home more',\n",
       " 'Nothing changed just wore more clothes ',\n",
       " 'We bought a st',\n",
       " 'alone heater for our office',\n",
       " 'Turned the heating up',\n",
       " 'Didn’t go out as much as usual',\n",
       " 'Changed plans to travel somewhere by train',\n",
       " 'changed some appointments to avoid going out',\n",
       " 'Used more heating',\n",
       " 'wore thermals',\n",
       " 'did less.',\n",
       " 'Changes to plans',\n",
       " 'decisions on whether to hold work meetings onsite',\n",
       " 'different outfit changes',\n",
       " 'change in commuting routes',\n",
       " 'Change in wardrobe',\n",
       " 'change in commuting route',\n",
       " 'cancel onsite meetings ',\n",
       " ' site inspections for work',\n",
       " 'Bought an additional heater',\n",
       " 'Cancelled office working ',\n",
       " 'Put heating on for longer ',\n",
       " 'Adjusting the heating',\n",
       " 'wearing warmer clothes',\n",
       " 'Did not go out of the warm areas of the house',\n",
       " 'e.g',\n",
       " 'into utility room',\n",
       " 'I wore warmer clothes around the house ',\n",
       " ' when I went out',\n",
       " 'Turned heating up',\n",
       " 'closed doors',\n",
       " 'prevented draught.',\n",
       " 'Put the heating on',\n",
       " 'Stayed indoors',\n",
       " 'accepting that cost of heating would increase ',\n",
       " 'particularly paying attention to dressing appropriately ',\n",
       " 'Work from home',\n",
       " 'had heating on much more than usual',\n",
       " 'spending more money on already huge heating costs',\n",
       " 'We stayed warm ',\n",
       " ' used extra heating',\n",
       " 'Brought a dehumidifiers ',\n",
       " ' ',\n",
       " ' a plug in warm throw ',\n",
       " 'mould in my house',\n",
       " 'I work out side in all weather',\n",
       " 'so I am used to dressing accordingly',\n",
       " 'giving regard to driving hazzards etc',\n",
       " 'Work conditions ( teaching young children) were affected by cold weather',\n",
       " 'children are affected by extremes of weather ',\n",
       " ' not just windy days but cold days too!',\n",
       " 'I own a horse so makes life slightly harder',\n",
       " 'Been a awfully wet winter',\n",
       " 'Transport to ',\n",
       " ' from work',\n",
       " 'Transport to ',\n",
       " ' from work',\n",
       " \"Didn't go out as much\",\n",
       " 'Had a heater on more often than usual',\n",
       " ' used hot water bottles',\n",
       " ' extra layers of clothing ',\n",
       " ' blankets on the bed.',\n",
       " 'Go out less',\n",
       " 'changed plans ',\n",
       " 'Go out less',\n",
       " 'changed plans ',\n",
       " 'Mad3 sure I had enough smokeless fuel ',\n",
       " ' firelighters',\n",
       " 'Put a thick quilt on the bed',\n",
       " 'It slowed down diy jobs',\n",
       " \"I don't think our area was especially affected by the cold weather.\",\n",
       " 'More time for travel',\n",
       " 'Heating up',\n",
       " 'footwear/lifts back/forth to shops/work',\n",
       " 'as above',\n",
       " 'very nervous about falling over',\n",
       " 'Better cold weather clothing ',\n",
       " ' I work outside often ',\n",
       " ' away from home so have to plan in advance ',\n",
       " 'My company provides cold weather provisions eg winter boots so I was able to be prepared without being prohibited by cost',\n",
       " 'I did not find the cold negatively effected me too much because it was sunny ',\n",
       " ' bright ',\n",
       " 'Wore more layers at work (l',\n",
       " 'scaping)',\n",
       " 'Heating on more at home',\n",
       " 'Got extra food in incase I got snowed in',\n",
       " 'Didn’t attend appointments ',\n",
       " 'Buy a heater ',\n",
       " 'Heating was on ',\n",
       " ' had loads of food in ',\n",
       " ' made sure all my warm clothes ready ',\n",
       " 'more cautious',\n",
       " 'more cautious',\n",
       " ' ',\n",
       " 'Limited journeys',\n",
       " 'Hockey training cancelled',\n",
       " 'meeting with friends cancelled',\n",
       " 'Had the heating on more in the house',\n",
       " 'Carried q hot water b9ttle on school run ',\n",
       " 'Made sure to have extra waterproof ',\n",
       " ' warm clothing on ',\n",
       " ' with me in the van for work',\n",
       " 'Chopped more kindling for lying the log fire in our woodburner to supplement the central heating',\n",
       " 'Put on a jumper',\n",
       " 'Reduced drafts in my home ',\n",
       " 'more layers ',\n",
       " 'wooly hat.',\n",
       " 'More clothing ',\n",
       " 'Less outdoor activity',\n",
       " 'Usual weekly netball match cancelled',\n",
       " 'More financial pressures from heating bills',\n",
       " 'Bought gas heater ',\n",
       " ' electric blankets ',\n",
       " 'As above',\n",
       " 'Higher heating bills impacted General available finance for other things',\n",
       " 'especially after Xmas period',\n",
       " 'Electric blanket ',\n",
       " ' more layers of clothing ',\n",
       " 'Wore warmer clothing ',\n",
       " 'Worked from office to use their heating ',\n",
       " ' used my central heating A LOT',\n",
       " 'used a hot water bottle all the time day ',\n",
       " ' night',\n",
       " ' had to go out in the evening to be on duty then travel home late at night',\n",
       " 'As above',\n",
       " \"Really didn't want to go out but also having to spend money on heating\",\n",
       " 'electric blanket in bed',\n",
       " 'Ensured we had enough oil for heating',\n",
       " 'Did not go out for my usual walks because very cold weather exacerbates my asthma',\n",
       " 'Blocked vent in living room to try ',\n",
       " ' keep heat in',\n",
       " 'Wore more clothes.',\n",
       " 'Made me reluctant to venture outside',\n",
       " 'Limited outside activities',\n",
       " 'put heating on earlier',\n",
       " ' ',\n",
       " 'I wore warmer clothing ',\n",
       " ' increased my heating temp ',\n",
       " '14th',\n",
       " '18th was dry which was a welcome relief! ',\n",
       " 'Put the heating on a setting that meant it would click on if it dropped below 14 degrees inside',\n",
       " 'warmer  clothes',\n",
       " 'Switched on extra heaters to help warm the house',\n",
       " 'Changed mode of transport ',\n",
       " ' from bicycle to bus',\n",
       " 'work from home more often',\n",
       " 'Gave in ',\n",
       " ' put the heating on during the day when working from home',\n",
       " ' Extra bedding at night.',\n",
       " 'Cancel appointments ',\n",
       " 'Cancel appointments ',\n",
       " 'Extra layers of clothing ',\n",
       " 'Watched where I was walking ',\n",
       " 'improved heating ',\n",
       " 'improved heating',\n",
       " 'Wore two jumpers',\n",
       " 'Had the heating on longer',\n",
       " 'put heating on during the day',\n",
       " 'I enjoyed the house being warmer than usual! ',\n",
       " \"Don't cycle to work\",\n",
       " 'work from home instead',\n",
       " 'Sleep with a dressing gown ',\n",
       " ' a blanket over the top of the duvet',\n",
       " 'Upgrade heating ',\n",
       " 'Electric blanket',\n",
       " 'Borrowed a heater',\n",
       " 'bought a heater fan ',\n",
       " ' some thicker jeans for work',\n",
       " 'sewed a loo seat cover out of an old towel',\n",
       " 'Kept my heating on longer',\n",
       " 'Wore a thicker coat',\n",
       " 'Dug out my gloves.',\n",
       " 'Wrapped up with hat ',\n",
       " ' extra thick coat',\n",
       " 'Heating on more',\n",
       " 'Put the heating on more',\n",
       " \"rearranged children's rooms to make the warmer\",\n",
       " 'Scared to put heating on due to prices',\n",
       " 'Wore more clothes than usual',\n",
       " 'I.e',\n",
       " 'thermal undies ',\n",
       " ' jumpers',\n",
       " 'Wore warmer clothes',\n",
       " 'bought fluffy lined jogging pants',\n",
       " 'Prepared warmer clothes fo work ',\n",
       " ' planned to leave earlier.',\n",
       " 'Put prepared plan into practice',\n",
       " 'Due to travel south',\n",
       " 'but postponed.',\n",
       " \"felt less motivated to go out didn't want to stray from a radiator\",\n",
       " 'Planning trips out ',\n",
       " 'Early preparation ',\n",
       " 'Did not work',\n",
       " 'We were on holiday during this period (still in UK) it limited how much time outside we wanted to spend',\n",
       " 'so we changed how much we did outside ',\n",
       " 'We were on holiday',\n",
       " 'we were unable to go to some surrounding locations',\n",
       " \"And didn't do exercise outdoors\",\n",
       " 'Clothes',\n",
       " 'plans outdoors',\n",
       " 'B',\n",
       " 'Bought an infrared heater.',\n",
       " 'I have horses so',\n",
       " \"had to make sure they had food out in the field on top of the grass their water wasn't frozen \",\n",
       " ' they was warm enough',\n",
       " 'also that the road was all salted somi could drive up to them x',\n",
       " 'Left later for work ',\n",
       " ' finished earlier ',\n",
       " 'Made sure heaters were working ready',\n",
       " 'Stocked up on logs as our boiler packed up',\n",
       " 'Walked my dog when it was slightly warmer/drier',\n",
       " 'sat ',\n",
       " ' watched TV to keep warm by the fire',\n",
       " 'heater in room I work in',\n",
       " 'My heating bill went up! ',\n",
       " 'Heating up ',\n",
       " 'Stayed at home',\n",
       " 'Didn’t exercise outside ',\n",
       " 'Left the house later in the morning when it was less cold',\n",
       " 'Layered up more',\n",
       " 'Had more hot drinks',\n",
       " 'Stayed in more',\n",
       " 'Hot water bottles',\n",
       " 'inside more',\n",
       " 'less exercise',\n",
       " 'stopped running ',\n",
       " ' outdoor sports',\n",
       " 'Stopped outdoor sport',\n",
       " 'wore more layers',\n",
       " 'Used more heating',\n",
       " \" I couldn't get out as much to go walking\",\n",
       " 'Replaced 2 single glazed windows with double glazing.',\n",
       " 'Shut the window shutters earlier in the day ',\n",
       " 'Turned the heating up ',\n",
       " ' bought snoodies',\n",
       " 'I put thermal curtain linings up in the dpare bedroom',\n",
       " 'Put on thicker layers',\n",
       " 'Heating on longer',\n",
       " 'The central heating was on for longer',\n",
       " 'Internal doors were kept shut',\n",
       " 'Turned heating up ',\n",
       " ' worried about cost',\n",
       " 'Kept a close eye on thermometer ',\n",
       " ' added layer of clothes',\n",
       " 'Worried about financial cost',\n",
       " 'Didn’t run outside',\n",
       " 'stayed at home more',\n",
       " 'wore thermals',\n",
       " 'The cold weather was refreshing',\n",
       " 'the rain was not enjoyable! ',\n",
       " 'Lit fire earlier',\n",
       " 'went for walks less often',\n",
       " 'or for shorter periods',\n",
       " 'decided not to attend some activities',\n",
       " 'Had heating on constant',\n",
       " ' Checked my car ',\n",
       " ' tyres ',\n",
       " ' bought de',\n",
       " 'icer',\n",
       " 'Put heating on more!',\n",
       " 'Bills through the roof with heating on so cutting back in other spends',\n",
       " 'Cooked more hot meals (e.g soup for lunch instead of s',\n",
       " 'wiches)',\n",
       " 'Wore more clothes/used blankets indoors as first winter in this house ',\n",
       " ' radiators older/inefficent',\n",
       " \"Didn't go out as often\",\n",
       " 'We had the heating on all day',\n",
       " 'normally we only use it in the late afternoon ',\n",
       " ' evening ',\n",
       " 'As well as the heating being on',\n",
       " 'we also started our wood stove earlier in the day.',\n",
       " 'we couldn’t get out each day',\n",
       " 'Bought an electric heater ',\n",
       " ' then provided with 2 others by gas supplier when gas switched off because of a leak.',\n",
       " 'without central heating for nearly a month',\n",
       " 'laid in wood for woodburning stove',\n",
       " 'took thicker clothes to work',\n",
       " 'hot carbohydrate heavy foods at lunch',\n",
       " 'made sure I closed all the windows ',\n",
       " ' curtains ',\n",
       " ' blinds in the house',\n",
       " 'planned meals',\n",
       " 'drank more tea',\n",
       " 'Lucky to have a wood burner',\n",
       " ' be able to wrap up warm ',\n",
       " ' get out! ',\n",
       " 'just put on a few more layers of clothing',\n",
       " 'Dressed in warmer clothes ',\n",
       " 'Depressing especially when you have a dog to walk',\n",
       " 'Also makes you think twice about going out',\n",
       " 'Layered up more when out walking the dog',\n",
       " 'Regularly checked the morning temperature with Alexa prior to going out.',\n",
       " 'I didnt travel to work',\n",
       " 'stayed at home',\n",
       " 'Heating was on more ',\n",
       " ' used blankets as well as my duvet',\n",
       " 'Extra covering on bed ',\n",
       " ' wore thicker warmer clothes',\n",
       " 'Didn’t visit elderly parents',\n",
       " 'Wore more layers',\n",
       " 'just turned the heating up ',\n",
       " ' put on more clothes',\n",
       " 'More use of heating at home.',\n",
       " 'more layers',\n",
       " 'turned up heating',\n",
       " 'Work from home',\n",
       " 'Work from home ',\n",
       " 'Put more clothes on',\n",
       " 'Used an extra heater',\n",
       " 'Made sure enough blankets around',\n",
       " 'new bed cover',\n",
       " 'new bed cover',\n",
       " 'Completed outdoor chores ',\n",
       " ' food shopping before the stormy weather arrived.',\n",
       " 'Wore more clothes in the house',\n",
       " 'Put the fire on earlier.',\n",
       " 'Unable to go out for my usual walk.',\n",
       " 'dressed in warmer clothes especially outside',\n",
       " 'Changed the settings on the central heating system',\n",
       " 'We stocked up on firewood for multi fuel burners.',\n",
       " 'Use of water bottles at night time ',\n",
       " 'Heating on in day',\n",
       " 'increasing time heating was on',\n",
       " 'using wood burner for longer each day',\n",
       " 'Repaired draught sources',\n",
       " 'Wore bedsocks',\n",
       " 'Worked from home more',\n",
       " 'Turned heating up',\n",
       " 'closed curtains to keep windows better insulated',\n",
       " 'did preparatory shopping for an elderly relative ',\n",
       " 'Checked on an elderly relative more frequently ',\n",
       " 'Turned up the heat',\n",
       " 'chose not to travel long distances i.e',\n",
       " 'motorway journeys',\n",
       " 'on my own',\n",
       " 'Staying in ',\n",
       " 'Staying in',\n",
       " 'online shopping ',\n",
       " 'Wore more layers ',\n",
       " ' used a hot water bottle',\n",
       " 'Lit the fire',\n",
       " 'Outside taps drained',\n",
       " 'purchased thermal clothing ',\n",
       " 'bought a couple of thermal vests with your generous vouchers from Life @ 30!',\n",
       " 'Dressed up warmer',\n",
       " 'went out in it as little as necessary.',\n",
       " 'Adapted with clothing ',\n",
       " ' heating ',\n",
       " ' did my best ',\n",
       " 'Wore a coat ',\n",
       " ' hat indoors',\n",
       " 'Travelling to ',\n",
       " ' from work I became very anxious ',\n",
       " 'check around the house to ensure radiators were on ',\n",
       " ' house was warm.',\n",
       " 'extra jumpers ',\n",
       " ' warm clothes ',\n",
       " 'cooking hot pots for family ',\n",
       " 'Bought heater for main room',\n",
       " 'Layered clothes',\n",
       " 'Felt the need to eat more ',\n",
       " ' have warm drinks',\n",
       " 'Wore warmer clothes ',\n",
       " ' had heating on more.',\n",
       " 'Used heating ',\n",
       " 'Bought an electric overblanket to use whilst watching tv.',\n",
       " 'Daily wood fires in our sittingroom fireplace',\n",
       " 'Also started using hot water bottles in bed at night',\n",
       " 'Additional beddind',\n",
       " 'wearing wooly hats in bed ',\n",
       " ' sometimes',\n",
       " 'thermal underclothes.',\n",
       " 'Probably stayed indoos more than usual ',\n",
       " 'Did not do regular exercise / dressed for the extreme',\n",
       " 'Dressed more layers',\n",
       " 'Extra bed cover',\n",
       " 'Lighting the fire earlier in the day',\n",
       " \"eating 'cold weather' foods like porridge \",\n",
       " ' stews',\n",
       " 'Putting a hot water bottle in the bed.',\n",
       " 'went out less',\n",
       " 'Bought loads of blankets so less mobile sat wrapped up ',\n",
       " 'Bought blankets',\n",
       " 'It does make me think in the future I need to be in southern Spain in Jan/Feb of each year',\n",
       " 'That is our long term aim',\n",
       " 'Heating ',\n",
       " ' not leaving the house due to having a prem baby ',\n",
       " 'Bought heaters',\n",
       " 'Split wood for woodburning fire.',\n",
       " 'Avoided going out with my baby ',\n",
       " 'Changed hearing settings',\n",
       " 'Lagged pipes',\n",
       " 'Put log burner on sooner',\n",
       " 'More central heating ',\n",
       " ' open fires',\n",
       " 'Put the heating on more',\n",
       " 'used hot water bottles ',\n",
       " ' extra blankets',\n",
       " 'kept windows closed',\n",
       " 'I would work from home or get the bus if i had to go into work to avoid slippery conditions',\n",
       " 'Changed work to suit weather',\n",
       " 'Changed work to suit weather',\n",
       " 'Bought hot water bottles ',\n",
       " 'Bought in more food',\n",
       " 'Anticipated needing to stay at Home',\n",
       " 'Filled car up',\n",
       " 'just in case',\n",
       " 'Checked the boiler',\n",
       " 'Lit fore ',\n",
       " ' closed curtains earlier.',\n",
       " 'Checked in elderly neighbours',\n",
       " 'Fires all day in house warm food',\n",
       " 'keep active to keep warm',\n",
       " 'Turned the thermostat up',\n",
       " 'I had to make amendments to care for my dogs ',\n",
       " ' horses',\n",
       " 'Worked more as work in a nursing home so always warmer :)',\n",
       " 'wore extra layers ',\n",
       " 'careful choice of walking routes',\n",
       " 'made sure the heating was on most of the day',\n",
       " 'made sure the heating stayed on',\n",
       " 'Wearing thermal layers when leaving the house ',\n",
       " 'Lengthened the time the heating was due to come on ',\n",
       " ' switch off',\n",
       " 'I wore an extra thermal layer',\n",
       " 'Didn’t go out much',\n",
       " 'Brought down another heater from loft',\n",
       " 'Arranged to work from home',\n",
       " 'cancelled in person appointments',\n",
       " 'bought thick socks ',\n",
       " ' a heated blanket',\n",
       " 'Heating on longer',\n",
       " 'warmer clothes',\n",
       " 'made sure we had basic supplies ready.',\n",
       " 'Used heating in the house more during daytime due to the cold',\n",
       " 'Wore extra clothes cooked hot meals',\n",
       " 'Extra coat in the boot of car had gloves in my bag',\n",
       " 'turned the heating up',\n",
       " 'more heating',\n",
       " 'Heating on longer',\n",
       " 'This is N/A as I was out of the country in January',\n",
       " ' I was out of the country in January',\n",
       " 'Tried to stay warm without putting the heating on',\n",
       " 'Cancel meet ups with friends ',\n",
       " ' family.',\n",
       " \"I didn't go out on my walks as I was worried about my son who is four months old being too cold \",\n",
       " 'Increased my physical activity in the house to keep warm ',\n",
       " ' wore more layers than normal',\n",
       " 'The cost of heating had an impact on my normal activities of letting the cat out ',\n",
       " ' being conscious of wasting energy',\n",
       " \"Didn't go out on my bike \",\n",
       " ' less exercise than usual.',\n",
       " 'Raised heating temperature ',\n",
       " \"Didn't cycle to work\",\n",
       " ' central heating was on for longer time',\n",
       " 'took blankets into work as work is absolutely freezing',\n",
       " 'Had heating on all day',\n",
       " 'Used thermal curtain in kitchen door',\n",
       " 'Wore warmer clothes',\n",
       " 'Extra clothes ',\n",
       " ' heating ',\n",
       " 'Layers of clothes ',\n",
       " ' keeping warm ',\n",
       " 'I wore gloves when driving early in the morning to stop my h',\n",
       " 's hurting so much',\n",
       " 'Just wore extra clothes when I went out',\n",
       " \"Sourced firewood from a friend's business so I didn't have to go out to the woods to collect it so often\",\n",
       " 'Stayed inside more ',\n",
       " ' turned the heating on more',\n",
       " 'The cost of heating',\n",
       " 'staying warm',\n",
       " \"Didn't make plans to go out\",\n",
       " \"Didn't go out\",\n",
       " 'turned heating up ',\n",
       " 'concerns about damage to the house ',\n",
       " ' unfounded as it happened',\n",
       " 'everything survived intact',\n",
       " 'Increase my clothes to adapt',\n",
       " 'Only going to work ',\n",
       " ' not going out unless it was really necessary ',\n",
       " 'Wearing more layers when out ',\n",
       " 'Wore warmer clothes',\n",
       " 'Thought about how the house could stay warmer',\n",
       " 'Just simply ensuring when I went out',\n",
       " 'that I wore the appropriate clothing',\n",
       " 'Eg boots',\n",
       " 'waterproof coat etc',\n",
       " \"Didn't go out as much \",\n",
       " 'I used an extra blanket on my bed',\n",
       " 'Ensured travelling safely ',\n",
       " ' that we had wood/coal in the house for fires etc',\n",
       " 'Kept the hearing on for longer',\n",
       " 'Gave careful consideration to any planned activities ',\n",
       " 'Ensuring appropriate clothing etc when undertaking activities outdoors ',\n",
       " 'Bought a economical heater stayed inside house didnt go out much ',\n",
       " 'worried bout paing the heating bills ',\n",
       " \"Didn't go running\",\n",
       " \"ensured I had sufficient food that I wasn't forced to go shopping\",\n",
       " 'Extra quilt on bed ',\n",
       " ' sat under a blanket during the day.',\n",
       " 'Found it difficult to afford to put the heating on for an adequate amount of time ',\n",
       " 'Heavier footwear as I walk to work',\n",
       " 'More layers as office is cold',\n",
       " ' just wore warmer clothes!',\n",
       " 'Concern for elderly relative',\n",
       " 'Increased energy prices due to cold weather',\n",
       " 'Extra layers ',\n",
       " 'Brought in logs from the woodshed',\n",
       " 'Bought thermal curtain lining for living room',\n",
       " 'Put flannelette bedding on.',\n",
       " 'Extra layer jumper in house.',\n",
       " 'Kept the heating on for longer & wore more clothes.',\n",
       " 'It made me consider moving house to a modern',\n",
       " 'insulated one!',\n",
       " 'Put on more warm clothes including heated blanket when working from home',\n",
       " 'Undertook less exercise ',\n",
       " 'Paid more attention to the forecast',\n",
       " 'Wore thinker clothes',\n",
       " 'turned up the heating when needed',\n",
       " 'Put the heating on more & warmer lunches',\n",
       " 'Especially wrapping up warm ',\n",
       " ' walking the dog!',\n",
       " 'Worked from home more',\n",
       " 'Traveled less',\n",
       " 'went to the gym less',\n",
       " 'used more heating.',\n",
       " 'Left for work earlier ',\n",
       " ' put extra warm clothes in the car',\n",
       " 'Getting up earlier to defrost car',\n",
       " 'changed heating settings on boiler',\n",
       " 'Made sure children has extra layers',\n",
       " 'Same as above',\n",
       " 'wore warmer clothes',\n",
       " 'I wore extra layers of clothes ',\n",
       " ' made sure I had hat',\n",
       " 'gloves ',\n",
       " ' scarf with me when I was out.',\n",
       " 'Covered up plants that don’t like frost',\n",
       " 'Put the heating on for longer than usual',\n",
       " ' Put on extra layers of clothes ',\n",
       " 'I didn’t feel like going out for my normal walks',\n",
       " 'Got blankets for use in living area',\n",
       " 'Turned central heating up although then worried about the added expense',\n",
       " 'Diet changes',\n",
       " 'allowed more time for travel ',\n",
       " 'more layers of clothes',\n",
       " 'checking on elderley relatives',\n",
       " 'Fitted snow tyres so I could continue to drive irrespective of ice ',\n",
       " ' snow',\n",
       " 'Bought de',\n",
       " 'icer',\n",
       " 'Wore ski salopettes for jogging outside ',\n",
       " ' two pairs of gloves 🧤 ',\n",
       " ' bobble',\n",
       " 'hat in order to be able to teach outdoors in the snow  ',\n",
       " 'Provided you wear appropriate clothing',\n",
       " 'invigorating a bit like outdoor swimming',\n",
       " 'Bought a heater ',\n",
       " 'Didn’t make as many outdoor plans',\n",
       " ' stayed at home a lot more ',\n",
       " 'Set the central heating to stay on longer',\n",
       " 'Made sure I had warm clothes extra in the car plus a shovel in case of snow ( had to travel from SW to Midl',\n",
       " 's)',\n",
       " 'Hot water bottle prepared to use in day ',\n",
       " \" night!'\",\n",
       " 'Clothing',\n",
       " 'hot food',\n",
       " 'hot water bottles',\n",
       " ' shortened my walks although it was dry ',\n",
       " ' quite nice walking in extreme cold if also sunny',\n",
       " 'Enjoyed the walking ',\n",
       " 'made sure curtains were shut at night ',\n",
       " ' doors were closed between rooms',\n",
       " 'I just curled up in 1 room with a heater on',\n",
       " 'I did not cycle to the swimming pool',\n",
       " 'I used the car to get there',\n",
       " 'I did not cycle to the swimming pool as usual instead i took the car',\n",
       " 'So I suppose i had less exercise than usual',\n",
       " 'Used the heating more at home',\n",
       " 'Left the heating on in the day ',\n",
       " 'I went on holiday to climb mountains',\n",
       " 'I wore suitable clothing ',\n",
       " ' was outdoors',\n",
       " 'I go climbing in winter every year',\n",
       " 'Kept the central heating on all day',\n",
       " 'wore more layers',\n",
       " 'Worked from home more',\n",
       " 'Went out less e.g',\n",
       " 'bigger food shops',\n",
       " 'Ate more tinned ',\n",
       " ' frozen food.spent more time in one warmed room with the whole family',\n",
       " 'Went to bed eaflier.',\n",
       " 'See answer 4',\n",
       " 'cancelled appointment to unblock high gutters',\n",
       " 'while the weather was cold I used my running layers',\n",
       " 'Prepared the house',\n",
       " 'did the food shop early ',\n",
       " ' got a bit extra in',\n",
       " 'rearranged any early morning or late night plans to keep travel safe',\n",
       " 'phoned elderly relatives to check they had provisions',\n",
       " 'Same as Q4 ',\n",
       " 'Put heating temp up',\n",
       " 'Heating on for longer',\n",
       " 'wore warmer clothing in the house',\n",
       " 'put on warmer thermals',\n",
       " 'Walked Dog at different times to avoid the coldest part of the day',\n",
       " 'Hearing was turned on higher ',\n",
       " 'Put the bug duvet on the bed ',\n",
       " 'Extra hour of heating',\n",
       " 'Bill for heating went up',\n",
       " 'so had to cut other costs',\n",
       " 'Planned to work from home more',\n",
       " 'Reduced outdoors activity',\n",
       " 'stayed indoors',\n",
       " 'Minimal use of car',\n",
       " 'Stayed home wore more layers blankets on beds',\n",
       " 'I stayed indoors rather more than usual',\n",
       " 'Changed exercise plans',\n",
       " 'didn’t leave the house on those days ',\n",
       " 'Didn’t leave the house',\n",
       " 'heating on all day',\n",
       " 'Not taking out my 90 year old mum to visit my dad in a nursing home ',\n",
       " 'Not going out early',\n",
       " 'waiting for less ice on pavements ',\n",
       " 'Wore warmer clothes',\n",
       " 'went to bed earlier to keep warm',\n",
       " 'Had food for the week',\n",
       " 'Wore warmer jumpers',\n",
       " 'Cancelling any plans involving going out due to bad weather',\n",
       " 'floods abs fallen trees',\n",
       " \"Businesses were closed so couldn't go there\",\n",
       " 'Making sure our heating was working',\n",
       " 'As above',\n",
       " 'Worked from home ',\n",
       " ' rarely went out.',\n",
       " 'Extra bedding',\n",
       " 'hot water bottle',\n",
       " 'to stay warm overnight.',\n",
       " 'Turned heating up (despite cost) ',\n",
       " ' used thicker jumpers!',\n",
       " 'Electric blanket ',\n",
       " 'More layers',\n",
       " ...]"
      ]
     },
     "execution_count": 16,
     "metadata": {},
     "output_type": "execute_result"
    }
   ],
   "source": []
  },
  {
   "cell_type": "code",
   "execution_count": 7,
   "metadata": {},
   "outputs": [
    {
     "ename": "KeyboardInterrupt",
     "evalue": "",
     "output_type": "error",
     "traceback": [
      "\u001b[1;31m---------------------------------------------------------------------------\u001b[0m",
      "\u001b[1;31mKeyboardInterrupt\u001b[0m                         Traceback (most recent call last)",
      "Cell \u001b[1;32mIn[7], line 3\u001b[0m\n\u001b[0;32m      1\u001b[0m Name \u001b[38;5;241m=\u001b[39m \u001b[38;5;124m\"\u001b[39m\u001b[38;5;124mCold\u001b[39m\u001b[38;5;124m\"\u001b[39m \u001b[38;5;66;03m# Set this to be one of the following: \"Heat\", \"Cold\", \"Flood\"\u001b[39;00m\n\u001b[1;32m----> 3\u001b[0m docs, docs_index, zero_shot_topic_list_major, zero_shot_topic_list_minor \u001b[38;5;241m=\u001b[39m \u001b[43mdata_loader\u001b[49m\u001b[43m(\u001b[49m\u001b[43mName\u001b[49m\u001b[43m)\u001b[49m\n\u001b[0;32m      4\u001b[0m \u001b[38;5;28mprint\u001b[39m(\u001b[38;5;124m\"\u001b[39m\u001b[38;5;124m\"\u001b[39m)\n\u001b[0;32m      6\u001b[0m \u001b[38;5;66;03m# print(\"Example docs: \")\u001b[39;00m\n\u001b[0;32m      7\u001b[0m \u001b[38;5;66;03m# for doc in docs[:15]:\u001b[39;00m\n\u001b[0;32m      8\u001b[0m \u001b[38;5;66;03m#     print(doc)\u001b[39;00m\n",
      "Cell \u001b[1;32mIn[3], line 36\u001b[0m, in \u001b[0;36mdata_loader\u001b[1;34m(DataSet, SplitterList, Type)\u001b[0m\n\u001b[0;32m     30\u001b[0m     zero_shot_topic_list_minor \u001b[38;5;241m=\u001b[39m [\u001b[38;5;124m\"\u001b[39m\u001b[38;5;124mAlternative plans\u001b[39m\u001b[38;5;124m\"\u001b[39m, \u001b[38;5;124m\"\u001b[39m\u001b[38;5;124mTime of day\u001b[39m\u001b[38;5;124m\"\u001b[39m, \u001b[38;5;124m\"\u001b[39m\u001b[38;5;124mReduced activity\u001b[39m\u001b[38;5;124m\"\u001b[39m, \n\u001b[0;32m     31\u001b[0m                                       \u001b[38;5;124m\"\u001b[39m\u001b[38;5;124mBenefit\u001b[39m\u001b[38;5;124m\"\u001b[39m, \u001b[38;5;124m\"\u001b[39m\u001b[38;5;124mPhysical health\u001b[39m\u001b[38;5;124m\"\u001b[39m, \u001b[38;5;124m\"\u001b[39m\u001b[38;5;124mCooling\u001b[39m\u001b[38;5;124m\"\u001b[39m, \u001b[38;5;124m\"\u001b[39m\u001b[38;5;124mSun protection\u001b[39m\u001b[38;5;124m\"\u001b[39m, \n\u001b[0;32m     32\u001b[0m                                       \u001b[38;5;124m\"\u001b[39m\u001b[38;5;124mCare\u001b[39m\u001b[38;5;124m\"\u001b[39m, \u001b[38;5;124m\"\u001b[39m\u001b[38;5;124mFan\u001b[39m\u001b[38;5;124m\"\u001b[39m, \u001b[38;5;124m\"\u001b[39m\u001b[38;5;124mAir conditioning\u001b[39m\u001b[38;5;124m\"\u001b[39m, \u001b[38;5;124m\"\u001b[39m\u001b[38;5;124mClosed curtains or blinds\u001b[39m\u001b[38;5;124m\"\u001b[39m, \n\u001b[0;32m     33\u001b[0m                                       \u001b[38;5;124m\"\u001b[39m\u001b[38;5;124mLighter bedding\u001b[39m\u001b[38;5;124m\"\u001b[39m]\n\u001b[0;32m     34\u001b[0m \u001b[38;5;28;01melif\u001b[39;00m DataSet \u001b[38;5;241m==\u001b[39m \u001b[38;5;124m\"\u001b[39m\u001b[38;5;124mCold\u001b[39m\u001b[38;5;124m\"\u001b[39m:\n\u001b[0;32m     35\u001b[0m     \u001b[38;5;66;03m# Cold Data\u001b[39;00m\n\u001b[1;32m---> 36\u001b[0m     RawText \u001b[38;5;241m=\u001b[39m \u001b[43mpd\u001b[49m\u001b[38;5;241;43m.\u001b[39;49m\u001b[43mread_excel\u001b[49m\u001b[43m(\u001b[49m\u001b[38;5;124;43m\"\u001b[39;49m\u001b[38;5;124;43mColdFloodSurvey24 AnalysisHuwsCopy.xlsx\u001b[39;49m\u001b[38;5;124;43m\"\u001b[39;49m\u001b[43m,\u001b[49m\u001b[43m \u001b[49m\u001b[43msheet_name\u001b[49m\u001b[38;5;241;43m=\u001b[39;49m\u001b[38;5;124;43m\"\u001b[39;49m\u001b[38;5;124;43mHuwsDATA\u001b[39;49m\u001b[38;5;124;43m\"\u001b[39;49m\u001b[43m,\u001b[49m\u001b[43m \u001b[49m\u001b[43mheader\u001b[49m\u001b[38;5;241;43m=\u001b[39;49m\u001b[38;5;241;43m1\u001b[39;49m\u001b[43m)\u001b[49m\n\u001b[0;32m     37\u001b[0m     RawTextAnalysis \u001b[38;5;241m=\u001b[39m RawText[[\u001b[38;5;124m\"\u001b[39m\u001b[38;5;124mADVNC_TEXT_C\u001b[39m\u001b[38;5;124m\"\u001b[39m, \u001b[38;5;124m\"\u001b[39m\u001b[38;5;124mWTHR_TEXT_C\u001b[39m\u001b[38;5;124m\"\u001b[39m, \u001b[38;5;124m\"\u001b[39m\u001b[38;5;124mFREE_TEXT_C\u001b[39m\u001b[38;5;124m\"\u001b[39m]] \n\u001b[0;32m     39\u001b[0m     zero_shot_topic_list_major \u001b[38;5;241m=\u001b[39m [\u001b[38;5;124m\"\u001b[39m\u001b[38;5;124mRoutine\u001b[39m\u001b[38;5;124m\"\u001b[39m, \u001b[38;5;124m\"\u001b[39m\u001b[38;5;124mTechnology solution\u001b[39m\u001b[38;5;124m\"\u001b[39m, \u001b[38;5;124m\"\u001b[39m\u001b[38;5;124mHome adaptations\u001b[39m\u001b[38;5;124m\"\u001b[39m, \u001b[38;5;124m\"\u001b[39m\u001b[38;5;124mPersonal care\u001b[39m\u001b[38;5;124m\"\u001b[39m, \u001b[38;5;124m\"\u001b[39m\u001b[38;5;124mSafety precautions\u001b[39m\u001b[38;5;124m\"\u001b[39m]\n",
      "File \u001b[1;32mc:\\Users\\hd15639\\AppData\\Local\\anaconda3\\envs\\Bertopic\\Lib\\site-packages\\pandas\\io\\excel\\_base.py:508\u001b[0m, in \u001b[0;36mread_excel\u001b[1;34m(io, sheet_name, header, names, index_col, usecols, dtype, engine, converters, true_values, false_values, skiprows, nrows, na_values, keep_default_na, na_filter, verbose, parse_dates, date_parser, date_format, thousands, decimal, comment, skipfooter, storage_options, dtype_backend, engine_kwargs)\u001b[0m\n\u001b[0;32m    502\u001b[0m     \u001b[38;5;28;01mraise\u001b[39;00m \u001b[38;5;167;01mValueError\u001b[39;00m(\n\u001b[0;32m    503\u001b[0m         \u001b[38;5;124m\"\u001b[39m\u001b[38;5;124mEngine should not be specified when passing \u001b[39m\u001b[38;5;124m\"\u001b[39m\n\u001b[0;32m    504\u001b[0m         \u001b[38;5;124m\"\u001b[39m\u001b[38;5;124man ExcelFile - ExcelFile already has the engine set\u001b[39m\u001b[38;5;124m\"\u001b[39m\n\u001b[0;32m    505\u001b[0m     )\n\u001b[0;32m    507\u001b[0m \u001b[38;5;28;01mtry\u001b[39;00m:\n\u001b[1;32m--> 508\u001b[0m     data \u001b[38;5;241m=\u001b[39m \u001b[43mio\u001b[49m\u001b[38;5;241;43m.\u001b[39;49m\u001b[43mparse\u001b[49m\u001b[43m(\u001b[49m\n\u001b[0;32m    509\u001b[0m \u001b[43m        \u001b[49m\u001b[43msheet_name\u001b[49m\u001b[38;5;241;43m=\u001b[39;49m\u001b[43msheet_name\u001b[49m\u001b[43m,\u001b[49m\n\u001b[0;32m    510\u001b[0m \u001b[43m        \u001b[49m\u001b[43mheader\u001b[49m\u001b[38;5;241;43m=\u001b[39;49m\u001b[43mheader\u001b[49m\u001b[43m,\u001b[49m\n\u001b[0;32m    511\u001b[0m \u001b[43m        \u001b[49m\u001b[43mnames\u001b[49m\u001b[38;5;241;43m=\u001b[39;49m\u001b[43mnames\u001b[49m\u001b[43m,\u001b[49m\n\u001b[0;32m    512\u001b[0m \u001b[43m        \u001b[49m\u001b[43mindex_col\u001b[49m\u001b[38;5;241;43m=\u001b[39;49m\u001b[43mindex_col\u001b[49m\u001b[43m,\u001b[49m\n\u001b[0;32m    513\u001b[0m \u001b[43m        \u001b[49m\u001b[43musecols\u001b[49m\u001b[38;5;241;43m=\u001b[39;49m\u001b[43musecols\u001b[49m\u001b[43m,\u001b[49m\n\u001b[0;32m    514\u001b[0m \u001b[43m        \u001b[49m\u001b[43mdtype\u001b[49m\u001b[38;5;241;43m=\u001b[39;49m\u001b[43mdtype\u001b[49m\u001b[43m,\u001b[49m\n\u001b[0;32m    515\u001b[0m \u001b[43m        \u001b[49m\u001b[43mconverters\u001b[49m\u001b[38;5;241;43m=\u001b[39;49m\u001b[43mconverters\u001b[49m\u001b[43m,\u001b[49m\n\u001b[0;32m    516\u001b[0m \u001b[43m        \u001b[49m\u001b[43mtrue_values\u001b[49m\u001b[38;5;241;43m=\u001b[39;49m\u001b[43mtrue_values\u001b[49m\u001b[43m,\u001b[49m\n\u001b[0;32m    517\u001b[0m \u001b[43m        \u001b[49m\u001b[43mfalse_values\u001b[49m\u001b[38;5;241;43m=\u001b[39;49m\u001b[43mfalse_values\u001b[49m\u001b[43m,\u001b[49m\n\u001b[0;32m    518\u001b[0m \u001b[43m        \u001b[49m\u001b[43mskiprows\u001b[49m\u001b[38;5;241;43m=\u001b[39;49m\u001b[43mskiprows\u001b[49m\u001b[43m,\u001b[49m\n\u001b[0;32m    519\u001b[0m \u001b[43m        \u001b[49m\u001b[43mnrows\u001b[49m\u001b[38;5;241;43m=\u001b[39;49m\u001b[43mnrows\u001b[49m\u001b[43m,\u001b[49m\n\u001b[0;32m    520\u001b[0m \u001b[43m        \u001b[49m\u001b[43mna_values\u001b[49m\u001b[38;5;241;43m=\u001b[39;49m\u001b[43mna_values\u001b[49m\u001b[43m,\u001b[49m\n\u001b[0;32m    521\u001b[0m \u001b[43m        \u001b[49m\u001b[43mkeep_default_na\u001b[49m\u001b[38;5;241;43m=\u001b[39;49m\u001b[43mkeep_default_na\u001b[49m\u001b[43m,\u001b[49m\n\u001b[0;32m    522\u001b[0m \u001b[43m        \u001b[49m\u001b[43mna_filter\u001b[49m\u001b[38;5;241;43m=\u001b[39;49m\u001b[43mna_filter\u001b[49m\u001b[43m,\u001b[49m\n\u001b[0;32m    523\u001b[0m \u001b[43m        \u001b[49m\u001b[43mverbose\u001b[49m\u001b[38;5;241;43m=\u001b[39;49m\u001b[43mverbose\u001b[49m\u001b[43m,\u001b[49m\n\u001b[0;32m    524\u001b[0m \u001b[43m        \u001b[49m\u001b[43mparse_dates\u001b[49m\u001b[38;5;241;43m=\u001b[39;49m\u001b[43mparse_dates\u001b[49m\u001b[43m,\u001b[49m\n\u001b[0;32m    525\u001b[0m \u001b[43m        \u001b[49m\u001b[43mdate_parser\u001b[49m\u001b[38;5;241;43m=\u001b[39;49m\u001b[43mdate_parser\u001b[49m\u001b[43m,\u001b[49m\n\u001b[0;32m    526\u001b[0m \u001b[43m        \u001b[49m\u001b[43mdate_format\u001b[49m\u001b[38;5;241;43m=\u001b[39;49m\u001b[43mdate_format\u001b[49m\u001b[43m,\u001b[49m\n\u001b[0;32m    527\u001b[0m \u001b[43m        \u001b[49m\u001b[43mthousands\u001b[49m\u001b[38;5;241;43m=\u001b[39;49m\u001b[43mthousands\u001b[49m\u001b[43m,\u001b[49m\n\u001b[0;32m    528\u001b[0m \u001b[43m        \u001b[49m\u001b[43mdecimal\u001b[49m\u001b[38;5;241;43m=\u001b[39;49m\u001b[43mdecimal\u001b[49m\u001b[43m,\u001b[49m\n\u001b[0;32m    529\u001b[0m \u001b[43m        \u001b[49m\u001b[43mcomment\u001b[49m\u001b[38;5;241;43m=\u001b[39;49m\u001b[43mcomment\u001b[49m\u001b[43m,\u001b[49m\n\u001b[0;32m    530\u001b[0m \u001b[43m        \u001b[49m\u001b[43mskipfooter\u001b[49m\u001b[38;5;241;43m=\u001b[39;49m\u001b[43mskipfooter\u001b[49m\u001b[43m,\u001b[49m\n\u001b[0;32m    531\u001b[0m \u001b[43m        \u001b[49m\u001b[43mdtype_backend\u001b[49m\u001b[38;5;241;43m=\u001b[39;49m\u001b[43mdtype_backend\u001b[49m\u001b[43m,\u001b[49m\n\u001b[0;32m    532\u001b[0m \u001b[43m    \u001b[49m\u001b[43m)\u001b[49m\n\u001b[0;32m    533\u001b[0m \u001b[38;5;28;01mfinally\u001b[39;00m:\n\u001b[0;32m    534\u001b[0m     \u001b[38;5;66;03m# make sure to close opened file handles\u001b[39;00m\n\u001b[0;32m    535\u001b[0m     \u001b[38;5;28;01mif\u001b[39;00m should_close:\n",
      "File \u001b[1;32mc:\\Users\\hd15639\\AppData\\Local\\anaconda3\\envs\\Bertopic\\Lib\\site-packages\\pandas\\io\\excel\\_base.py:1616\u001b[0m, in \u001b[0;36mExcelFile.parse\u001b[1;34m(self, sheet_name, header, names, index_col, usecols, converters, true_values, false_values, skiprows, nrows, na_values, parse_dates, date_parser, date_format, thousands, comment, skipfooter, dtype_backend, **kwds)\u001b[0m\n\u001b[0;32m   1576\u001b[0m \u001b[38;5;28;01mdef\u001b[39;00m \u001b[38;5;21mparse\u001b[39m(\n\u001b[0;32m   1577\u001b[0m     \u001b[38;5;28mself\u001b[39m,\n\u001b[0;32m   1578\u001b[0m     sheet_name: \u001b[38;5;28mstr\u001b[39m \u001b[38;5;241m|\u001b[39m \u001b[38;5;28mint\u001b[39m \u001b[38;5;241m|\u001b[39m \u001b[38;5;28mlist\u001b[39m[\u001b[38;5;28mint\u001b[39m] \u001b[38;5;241m|\u001b[39m \u001b[38;5;28mlist\u001b[39m[\u001b[38;5;28mstr\u001b[39m] \u001b[38;5;241m|\u001b[39m \u001b[38;5;28;01mNone\u001b[39;00m \u001b[38;5;241m=\u001b[39m \u001b[38;5;241m0\u001b[39m,\n\u001b[1;32m   (...)\u001b[0m\n\u001b[0;32m   1596\u001b[0m     \u001b[38;5;241m*\u001b[39m\u001b[38;5;241m*\u001b[39mkwds,\n\u001b[0;32m   1597\u001b[0m ) \u001b[38;5;241m-\u001b[39m\u001b[38;5;241m>\u001b[39m DataFrame \u001b[38;5;241m|\u001b[39m \u001b[38;5;28mdict\u001b[39m[\u001b[38;5;28mstr\u001b[39m, DataFrame] \u001b[38;5;241m|\u001b[39m \u001b[38;5;28mdict\u001b[39m[\u001b[38;5;28mint\u001b[39m, DataFrame]:\n\u001b[0;32m   1598\u001b[0m \u001b[38;5;250m    \u001b[39m\u001b[38;5;124;03m\"\"\"\u001b[39;00m\n\u001b[0;32m   1599\u001b[0m \u001b[38;5;124;03m    Parse specified sheet(s) into a DataFrame.\u001b[39;00m\n\u001b[0;32m   1600\u001b[0m \n\u001b[1;32m   (...)\u001b[0m\n\u001b[0;32m   1614\u001b[0m \u001b[38;5;124;03m    >>> file.parse()  # doctest: +SKIP\u001b[39;00m\n\u001b[0;32m   1615\u001b[0m \u001b[38;5;124;03m    \"\"\"\u001b[39;00m\n\u001b[1;32m-> 1616\u001b[0m     \u001b[38;5;28;01mreturn\u001b[39;00m \u001b[38;5;28;43mself\u001b[39;49m\u001b[38;5;241;43m.\u001b[39;49m\u001b[43m_reader\u001b[49m\u001b[38;5;241;43m.\u001b[39;49m\u001b[43mparse\u001b[49m\u001b[43m(\u001b[49m\n\u001b[0;32m   1617\u001b[0m \u001b[43m        \u001b[49m\u001b[43msheet_name\u001b[49m\u001b[38;5;241;43m=\u001b[39;49m\u001b[43msheet_name\u001b[49m\u001b[43m,\u001b[49m\n\u001b[0;32m   1618\u001b[0m \u001b[43m        \u001b[49m\u001b[43mheader\u001b[49m\u001b[38;5;241;43m=\u001b[39;49m\u001b[43mheader\u001b[49m\u001b[43m,\u001b[49m\n\u001b[0;32m   1619\u001b[0m \u001b[43m        \u001b[49m\u001b[43mnames\u001b[49m\u001b[38;5;241;43m=\u001b[39;49m\u001b[43mnames\u001b[49m\u001b[43m,\u001b[49m\n\u001b[0;32m   1620\u001b[0m \u001b[43m        \u001b[49m\u001b[43mindex_col\u001b[49m\u001b[38;5;241;43m=\u001b[39;49m\u001b[43mindex_col\u001b[49m\u001b[43m,\u001b[49m\n\u001b[0;32m   1621\u001b[0m \u001b[43m        \u001b[49m\u001b[43musecols\u001b[49m\u001b[38;5;241;43m=\u001b[39;49m\u001b[43musecols\u001b[49m\u001b[43m,\u001b[49m\n\u001b[0;32m   1622\u001b[0m \u001b[43m        \u001b[49m\u001b[43mconverters\u001b[49m\u001b[38;5;241;43m=\u001b[39;49m\u001b[43mconverters\u001b[49m\u001b[43m,\u001b[49m\n\u001b[0;32m   1623\u001b[0m \u001b[43m        \u001b[49m\u001b[43mtrue_values\u001b[49m\u001b[38;5;241;43m=\u001b[39;49m\u001b[43mtrue_values\u001b[49m\u001b[43m,\u001b[49m\n\u001b[0;32m   1624\u001b[0m \u001b[43m        \u001b[49m\u001b[43mfalse_values\u001b[49m\u001b[38;5;241;43m=\u001b[39;49m\u001b[43mfalse_values\u001b[49m\u001b[43m,\u001b[49m\n\u001b[0;32m   1625\u001b[0m \u001b[43m        \u001b[49m\u001b[43mskiprows\u001b[49m\u001b[38;5;241;43m=\u001b[39;49m\u001b[43mskiprows\u001b[49m\u001b[43m,\u001b[49m\n\u001b[0;32m   1626\u001b[0m \u001b[43m        \u001b[49m\u001b[43mnrows\u001b[49m\u001b[38;5;241;43m=\u001b[39;49m\u001b[43mnrows\u001b[49m\u001b[43m,\u001b[49m\n\u001b[0;32m   1627\u001b[0m \u001b[43m        \u001b[49m\u001b[43mna_values\u001b[49m\u001b[38;5;241;43m=\u001b[39;49m\u001b[43mna_values\u001b[49m\u001b[43m,\u001b[49m\n\u001b[0;32m   1628\u001b[0m \u001b[43m        \u001b[49m\u001b[43mparse_dates\u001b[49m\u001b[38;5;241;43m=\u001b[39;49m\u001b[43mparse_dates\u001b[49m\u001b[43m,\u001b[49m\n\u001b[0;32m   1629\u001b[0m \u001b[43m        \u001b[49m\u001b[43mdate_parser\u001b[49m\u001b[38;5;241;43m=\u001b[39;49m\u001b[43mdate_parser\u001b[49m\u001b[43m,\u001b[49m\n\u001b[0;32m   1630\u001b[0m \u001b[43m        \u001b[49m\u001b[43mdate_format\u001b[49m\u001b[38;5;241;43m=\u001b[39;49m\u001b[43mdate_format\u001b[49m\u001b[43m,\u001b[49m\n\u001b[0;32m   1631\u001b[0m \u001b[43m        \u001b[49m\u001b[43mthousands\u001b[49m\u001b[38;5;241;43m=\u001b[39;49m\u001b[43mthousands\u001b[49m\u001b[43m,\u001b[49m\n\u001b[0;32m   1632\u001b[0m \u001b[43m        \u001b[49m\u001b[43mcomment\u001b[49m\u001b[38;5;241;43m=\u001b[39;49m\u001b[43mcomment\u001b[49m\u001b[43m,\u001b[49m\n\u001b[0;32m   1633\u001b[0m \u001b[43m        \u001b[49m\u001b[43mskipfooter\u001b[49m\u001b[38;5;241;43m=\u001b[39;49m\u001b[43mskipfooter\u001b[49m\u001b[43m,\u001b[49m\n\u001b[0;32m   1634\u001b[0m \u001b[43m        \u001b[49m\u001b[43mdtype_backend\u001b[49m\u001b[38;5;241;43m=\u001b[39;49m\u001b[43mdtype_backend\u001b[49m\u001b[43m,\u001b[49m\n\u001b[0;32m   1635\u001b[0m \u001b[43m        \u001b[49m\u001b[38;5;241;43m*\u001b[39;49m\u001b[38;5;241;43m*\u001b[39;49m\u001b[43mkwds\u001b[49m\u001b[43m,\u001b[49m\n\u001b[0;32m   1636\u001b[0m \u001b[43m    \u001b[49m\u001b[43m)\u001b[49m\n",
      "File \u001b[1;32mc:\\Users\\hd15639\\AppData\\Local\\anaconda3\\envs\\Bertopic\\Lib\\site-packages\\pandas\\io\\excel\\_base.py:778\u001b[0m, in \u001b[0;36mBaseExcelReader.parse\u001b[1;34m(self, sheet_name, header, names, index_col, usecols, dtype, true_values, false_values, skiprows, nrows, na_values, verbose, parse_dates, date_parser, date_format, thousands, decimal, comment, skipfooter, dtype_backend, **kwds)\u001b[0m\n\u001b[0;32m    775\u001b[0m     sheet \u001b[38;5;241m=\u001b[39m \u001b[38;5;28mself\u001b[39m\u001b[38;5;241m.\u001b[39mget_sheet_by_index(asheetname)\n\u001b[0;32m    777\u001b[0m file_rows_needed \u001b[38;5;241m=\u001b[39m \u001b[38;5;28mself\u001b[39m\u001b[38;5;241m.\u001b[39m_calc_rows(header, index_col, skiprows, nrows)\n\u001b[1;32m--> 778\u001b[0m data \u001b[38;5;241m=\u001b[39m \u001b[38;5;28;43mself\u001b[39;49m\u001b[38;5;241;43m.\u001b[39;49m\u001b[43mget_sheet_data\u001b[49m\u001b[43m(\u001b[49m\u001b[43msheet\u001b[49m\u001b[43m,\u001b[49m\u001b[43m \u001b[49m\u001b[43mfile_rows_needed\u001b[49m\u001b[43m)\u001b[49m\n\u001b[0;32m    779\u001b[0m \u001b[38;5;28;01mif\u001b[39;00m \u001b[38;5;28mhasattr\u001b[39m(sheet, \u001b[38;5;124m\"\u001b[39m\u001b[38;5;124mclose\u001b[39m\u001b[38;5;124m\"\u001b[39m):\n\u001b[0;32m    780\u001b[0m     \u001b[38;5;66;03m# pyxlsb opens two TemporaryFiles\u001b[39;00m\n\u001b[0;32m    781\u001b[0m     sheet\u001b[38;5;241m.\u001b[39mclose()\n",
      "File \u001b[1;32mc:\\Users\\hd15639\\AppData\\Local\\anaconda3\\envs\\Bertopic\\Lib\\site-packages\\pandas\\io\\excel\\_openpyxl.py:615\u001b[0m, in \u001b[0;36mOpenpyxlReader.get_sheet_data\u001b[1;34m(self, sheet, file_rows_needed)\u001b[0m\n\u001b[0;32m    613\u001b[0m data: \u001b[38;5;28mlist\u001b[39m[\u001b[38;5;28mlist\u001b[39m[Scalar]] \u001b[38;5;241m=\u001b[39m []\n\u001b[0;32m    614\u001b[0m last_row_with_data \u001b[38;5;241m=\u001b[39m \u001b[38;5;241m-\u001b[39m\u001b[38;5;241m1\u001b[39m\n\u001b[1;32m--> 615\u001b[0m \u001b[43m\u001b[49m\u001b[38;5;28;43;01mfor\u001b[39;49;00m\u001b[43m \u001b[49m\u001b[43mrow_number\u001b[49m\u001b[43m,\u001b[49m\u001b[43m \u001b[49m\u001b[43mrow\u001b[49m\u001b[43m \u001b[49m\u001b[38;5;129;43;01min\u001b[39;49;00m\u001b[43m \u001b[49m\u001b[38;5;28;43menumerate\u001b[39;49m\u001b[43m(\u001b[49m\u001b[43msheet\u001b[49m\u001b[38;5;241;43m.\u001b[39;49m\u001b[43mrows\u001b[49m\u001b[43m)\u001b[49m\u001b[43m:\u001b[49m\n\u001b[0;32m    616\u001b[0m \u001b[43m    \u001b[49m\u001b[43mconverted_row\u001b[49m\u001b[43m \u001b[49m\u001b[38;5;241;43m=\u001b[39;49m\u001b[43m \u001b[49m\u001b[43m[\u001b[49m\u001b[38;5;28;43mself\u001b[39;49m\u001b[38;5;241;43m.\u001b[39;49m\u001b[43m_convert_cell\u001b[49m\u001b[43m(\u001b[49m\u001b[43mcell\u001b[49m\u001b[43m)\u001b[49m\u001b[43m \u001b[49m\u001b[38;5;28;43;01mfor\u001b[39;49;00m\u001b[43m \u001b[49m\u001b[43mcell\u001b[49m\u001b[43m \u001b[49m\u001b[38;5;129;43;01min\u001b[39;49;00m\u001b[43m \u001b[49m\u001b[43mrow\u001b[49m\u001b[43m]\u001b[49m\n\u001b[0;32m    617\u001b[0m \u001b[43m    \u001b[49m\u001b[38;5;28;43;01mwhile\u001b[39;49;00m\u001b[43m \u001b[49m\u001b[43mconverted_row\u001b[49m\u001b[43m \u001b[49m\u001b[38;5;129;43;01mand\u001b[39;49;00m\u001b[43m \u001b[49m\u001b[43mconverted_row\u001b[49m\u001b[43m[\u001b[49m\u001b[38;5;241;43m-\u001b[39;49m\u001b[38;5;241;43m1\u001b[39;49m\u001b[43m]\u001b[49m\u001b[43m \u001b[49m\u001b[38;5;241;43m==\u001b[39;49m\u001b[43m \u001b[49m\u001b[38;5;124;43m\"\u001b[39;49m\u001b[38;5;124;43m\"\u001b[39;49m\u001b[43m:\u001b[49m\n\u001b[0;32m    618\u001b[0m \u001b[43m        \u001b[49m\u001b[38;5;66;43;03m# trim trailing empty elements\u001b[39;49;00m\n",
      "File \u001b[1;32mc:\\Users\\hd15639\\AppData\\Local\\anaconda3\\envs\\Bertopic\\Lib\\site-packages\\openpyxl\\worksheet\\_read_only.py:85\u001b[0m, in \u001b[0;36mReadOnlyWorksheet._cells_by_row\u001b[1;34m(self, min_col, min_row, max_col, max_row, values_only)\u001b[0m\n\u001b[0;32m     77\u001b[0m \u001b[38;5;28;01mwith\u001b[39;00m \u001b[38;5;28mself\u001b[39m\u001b[38;5;241m.\u001b[39m_get_source() \u001b[38;5;28;01mas\u001b[39;00m src:\n\u001b[0;32m     78\u001b[0m     parser \u001b[38;5;241m=\u001b[39m WorkSheetParser(src,\n\u001b[0;32m     79\u001b[0m                              \u001b[38;5;28mself\u001b[39m\u001b[38;5;241m.\u001b[39m_shared_strings,\n\u001b[0;32m     80\u001b[0m                              data_only\u001b[38;5;241m=\u001b[39m\u001b[38;5;28mself\u001b[39m\u001b[38;5;241m.\u001b[39mparent\u001b[38;5;241m.\u001b[39mdata_only,\n\u001b[0;32m     81\u001b[0m                              epoch\u001b[38;5;241m=\u001b[39m\u001b[38;5;28mself\u001b[39m\u001b[38;5;241m.\u001b[39mparent\u001b[38;5;241m.\u001b[39mepoch,\n\u001b[0;32m     82\u001b[0m                              date_formats\u001b[38;5;241m=\u001b[39m\u001b[38;5;28mself\u001b[39m\u001b[38;5;241m.\u001b[39mparent\u001b[38;5;241m.\u001b[39m_date_formats,\n\u001b[0;32m     83\u001b[0m                              timedelta_formats\u001b[38;5;241m=\u001b[39m\u001b[38;5;28mself\u001b[39m\u001b[38;5;241m.\u001b[39mparent\u001b[38;5;241m.\u001b[39m_timedelta_formats)\n\u001b[1;32m---> 85\u001b[0m \u001b[43m    \u001b[49m\u001b[38;5;28;43;01mfor\u001b[39;49;00m\u001b[43m \u001b[49m\u001b[43midx\u001b[49m\u001b[43m,\u001b[49m\u001b[43m \u001b[49m\u001b[43mrow\u001b[49m\u001b[43m \u001b[49m\u001b[38;5;129;43;01min\u001b[39;49;00m\u001b[43m \u001b[49m\u001b[43mparser\u001b[49m\u001b[38;5;241;43m.\u001b[39;49m\u001b[43mparse\u001b[49m\u001b[43m(\u001b[49m\u001b[43m)\u001b[49m\u001b[43m:\u001b[49m\n\u001b[0;32m     86\u001b[0m \u001b[43m        \u001b[49m\u001b[38;5;28;43;01mif\u001b[39;49;00m\u001b[43m \u001b[49m\u001b[43mmax_row\u001b[49m\u001b[43m \u001b[49m\u001b[38;5;129;43;01mis\u001b[39;49;00m\u001b[43m \u001b[49m\u001b[38;5;129;43;01mnot\u001b[39;49;00m\u001b[43m \u001b[49m\u001b[38;5;28;43;01mNone\u001b[39;49;00m\u001b[43m \u001b[49m\u001b[38;5;129;43;01mand\u001b[39;49;00m\u001b[43m \u001b[49m\u001b[43midx\u001b[49m\u001b[43m \u001b[49m\u001b[38;5;241;43m>\u001b[39;49m\u001b[43m \u001b[49m\u001b[43mmax_row\u001b[49m\u001b[43m:\u001b[49m\n\u001b[0;32m     87\u001b[0m \u001b[43m            \u001b[49m\u001b[38;5;28;43;01mbreak\u001b[39;49;00m\n",
      "File \u001b[1;32mc:\\Users\\hd15639\\AppData\\Local\\anaconda3\\envs\\Bertopic\\Lib\\site-packages\\openpyxl\\worksheet\\_reader.py:156\u001b[0m, in \u001b[0;36mWorkSheetParser.parse\u001b[1;34m(self)\u001b[0m\n\u001b[0;32m    137\u001b[0m properties \u001b[38;5;241m=\u001b[39m {\n\u001b[0;32m    138\u001b[0m     PRINT_TAG: (\u001b[38;5;124m'\u001b[39m\u001b[38;5;124mprint_options\u001b[39m\u001b[38;5;124m'\u001b[39m, PrintOptions),\n\u001b[0;32m    139\u001b[0m     MARGINS_TAG: (\u001b[38;5;124m'\u001b[39m\u001b[38;5;124mpage_margins\u001b[39m\u001b[38;5;124m'\u001b[39m, PageMargins),\n\u001b[1;32m   (...)\u001b[0m\n\u001b[0;32m    151\u001b[0m \n\u001b[0;32m    152\u001b[0m }\n\u001b[0;32m    154\u001b[0m it \u001b[38;5;241m=\u001b[39m iterparse(\u001b[38;5;28mself\u001b[39m\u001b[38;5;241m.\u001b[39msource) \u001b[38;5;66;03m# add a finaliser to close the source when this becomes possible\u001b[39;00m\n\u001b[1;32m--> 156\u001b[0m \u001b[43m\u001b[49m\u001b[38;5;28;43;01mfor\u001b[39;49;00m\u001b[43m \u001b[49m\u001b[43m_\u001b[49m\u001b[43m,\u001b[49m\u001b[43m \u001b[49m\u001b[43melement\u001b[49m\u001b[43m \u001b[49m\u001b[38;5;129;43;01min\u001b[39;49;00m\u001b[43m \u001b[49m\u001b[43mit\u001b[49m\u001b[43m:\u001b[49m\n\u001b[0;32m    157\u001b[0m \u001b[43m    \u001b[49m\u001b[43mtag_name\u001b[49m\u001b[43m \u001b[49m\u001b[38;5;241;43m=\u001b[39;49m\u001b[43m \u001b[49m\u001b[43melement\u001b[49m\u001b[38;5;241;43m.\u001b[39;49m\u001b[43mtag\u001b[49m\n\u001b[0;32m    158\u001b[0m \u001b[43m    \u001b[49m\u001b[38;5;28;43;01mif\u001b[39;49;00m\u001b[43m \u001b[49m\u001b[43mtag_name\u001b[49m\u001b[43m \u001b[49m\u001b[38;5;129;43;01min\u001b[39;49;00m\u001b[43m \u001b[49m\u001b[43mdispatcher\u001b[49m\u001b[43m:\u001b[49m\n",
      "File \u001b[1;32mc:\\Users\\hd15639\\AppData\\Local\\anaconda3\\envs\\Bertopic\\Lib\\xml\\etree\\ElementTree.py:1238\u001b[0m, in \u001b[0;36miterparse.<locals>.iterator\u001b[1;34m(source)\u001b[0m\n\u001b[0;32m   1236\u001b[0m \u001b[38;5;28;01myield from\u001b[39;00m pullparser\u001b[38;5;241m.\u001b[39mread_events()\n\u001b[0;32m   1237\u001b[0m \u001b[38;5;66;03m# load event buffer\u001b[39;00m\n\u001b[1;32m-> 1238\u001b[0m data \u001b[38;5;241m=\u001b[39m \u001b[43msource\u001b[49m\u001b[38;5;241;43m.\u001b[39;49m\u001b[43mread\u001b[49m\u001b[43m(\u001b[49m\u001b[38;5;241;43m16\u001b[39;49m\u001b[43m \u001b[49m\u001b[38;5;241;43m*\u001b[39;49m\u001b[43m \u001b[49m\u001b[38;5;241;43m1024\u001b[39;49m\u001b[43m)\u001b[49m\n\u001b[0;32m   1239\u001b[0m \u001b[38;5;28;01mif\u001b[39;00m \u001b[38;5;129;01mnot\u001b[39;00m data:\n\u001b[0;32m   1240\u001b[0m     \u001b[38;5;28;01mbreak\u001b[39;00m\n",
      "File \u001b[1;32mc:\\Users\\hd15639\\AppData\\Local\\anaconda3\\envs\\Bertopic\\Lib\\zipfile\\__init__.py:989\u001b[0m, in \u001b[0;36mZipExtFile.read\u001b[1;34m(self, n)\u001b[0m\n\u001b[0;32m    987\u001b[0m \u001b[38;5;28mself\u001b[39m\u001b[38;5;241m.\u001b[39m_offset \u001b[38;5;241m=\u001b[39m \u001b[38;5;241m0\u001b[39m\n\u001b[0;32m    988\u001b[0m \u001b[38;5;28;01mwhile\u001b[39;00m n \u001b[38;5;241m>\u001b[39m \u001b[38;5;241m0\u001b[39m \u001b[38;5;129;01mand\u001b[39;00m \u001b[38;5;129;01mnot\u001b[39;00m \u001b[38;5;28mself\u001b[39m\u001b[38;5;241m.\u001b[39m_eof:\n\u001b[1;32m--> 989\u001b[0m     data \u001b[38;5;241m=\u001b[39m \u001b[38;5;28;43mself\u001b[39;49m\u001b[38;5;241;43m.\u001b[39;49m\u001b[43m_read1\u001b[49m\u001b[43m(\u001b[49m\u001b[43mn\u001b[49m\u001b[43m)\u001b[49m\n\u001b[0;32m    990\u001b[0m     \u001b[38;5;28;01mif\u001b[39;00m n \u001b[38;5;241m<\u001b[39m \u001b[38;5;28mlen\u001b[39m(data):\n\u001b[0;32m    991\u001b[0m         \u001b[38;5;28mself\u001b[39m\u001b[38;5;241m.\u001b[39m_readbuffer \u001b[38;5;241m=\u001b[39m data\n",
      "File \u001b[1;32mc:\\Users\\hd15639\\AppData\\Local\\anaconda3\\envs\\Bertopic\\Lib\\zipfile\\__init__.py:1065\u001b[0m, in \u001b[0;36mZipExtFile._read1\u001b[1;34m(self, n)\u001b[0m\n\u001b[0;32m   1063\u001b[0m \u001b[38;5;28;01melif\u001b[39;00m \u001b[38;5;28mself\u001b[39m\u001b[38;5;241m.\u001b[39m_compress_type \u001b[38;5;241m==\u001b[39m ZIP_DEFLATED:\n\u001b[0;32m   1064\u001b[0m     n \u001b[38;5;241m=\u001b[39m \u001b[38;5;28mmax\u001b[39m(n, \u001b[38;5;28mself\u001b[39m\u001b[38;5;241m.\u001b[39mMIN_READ_SIZE)\n\u001b[1;32m-> 1065\u001b[0m     data \u001b[38;5;241m=\u001b[39m \u001b[38;5;28;43mself\u001b[39;49m\u001b[38;5;241;43m.\u001b[39;49m\u001b[43m_decompressor\u001b[49m\u001b[38;5;241;43m.\u001b[39;49m\u001b[43mdecompress\u001b[49m\u001b[43m(\u001b[49m\u001b[43mdata\u001b[49m\u001b[43m,\u001b[49m\u001b[43m \u001b[49m\u001b[43mn\u001b[49m\u001b[43m)\u001b[49m\n\u001b[0;32m   1066\u001b[0m     \u001b[38;5;28mself\u001b[39m\u001b[38;5;241m.\u001b[39m_eof \u001b[38;5;241m=\u001b[39m (\u001b[38;5;28mself\u001b[39m\u001b[38;5;241m.\u001b[39m_decompressor\u001b[38;5;241m.\u001b[39meof \u001b[38;5;129;01mor\u001b[39;00m\n\u001b[0;32m   1067\u001b[0m                  \u001b[38;5;28mself\u001b[39m\u001b[38;5;241m.\u001b[39m_compress_left \u001b[38;5;241m<\u001b[39m\u001b[38;5;241m=\u001b[39m \u001b[38;5;241m0\u001b[39m \u001b[38;5;129;01mand\u001b[39;00m\n\u001b[0;32m   1068\u001b[0m                  \u001b[38;5;129;01mnot\u001b[39;00m \u001b[38;5;28mself\u001b[39m\u001b[38;5;241m.\u001b[39m_decompressor\u001b[38;5;241m.\u001b[39munconsumed_tail)\n\u001b[0;32m   1069\u001b[0m     \u001b[38;5;28;01mif\u001b[39;00m \u001b[38;5;28mself\u001b[39m\u001b[38;5;241m.\u001b[39m_eof:\n",
      "\u001b[1;31mKeyboardInterrupt\u001b[0m: "
     ]
    }
   ],
   "source": [
    "Name = \"Cold\" # Set this to be one of the following: \"Heat\", \"Cold\", \"Flood\"\n",
    "\n",
    "docs, docs_index, zero_shot_topic_list_major, zero_shot_topic_list_minor = data_loader(Name)\n",
    "print(\"\")\n",
    "\n",
    "# print(\"Example docs: \")\n",
    "# for doc in docs[:15]:\n",
    "#     print(doc)"
   ]
  },
  {
   "cell_type": "markdown",
   "metadata": {},
   "source": [
    "You can remove stop works that include stuff like \"see previous question\" or \"no answer\" this only removes them from the representation of the data, not the actual data.\n",
    "If you remove all the viable representation then you'll still get topic clusters but they'll just have no representation!"
   ]
  },
  {
   "cell_type": "code",
   "execution_count": null,
   "metadata": {},
   "outputs": [
    {
     "name": "stdout",
     "output_type": "stream",
     "text": [
      "['i', 'me', 'my', 'myself', 'we', 'our', 'ours', 'ourselves', 'you', \"you're\"]\n",
      "['me', 'my', 'myself', 'we', 'our', 'ours', 'ourselves', 'you', \"you're\", \"you've\"]\n",
      "['my', 'myself', 'we', 'our', 'ours', 'ourselves', 'you', \"you're\", \"you've\", \"you'll\"]\n",
      "['myself', 'we', 'our', 'ours', 'ourselves', 'you', \"you're\", \"you've\", \"you'll\", \"you'd\"]\n",
      "['we', 'our', 'ours', 'ourselves', 'you', \"you're\", \"you've\", \"you'll\", \"you'd\", 'your']\n"
     ]
    }
   ],
   "source": [
    "import nltk\n",
    "from nltk.corpus import stopwords\n",
    "\n",
    "stop_words = stopwords.words('english')\n",
    "\n",
    "free_s_w = [\"made\", \"sure\"] \n",
    "stop_words.extend(free_s_w)\n",
    "\n",
    "# Print stop words across several lines to make it easier to read\n",
    "for i in range(0, 5):\n",
    "    print(stop_words[i:i+10])"
   ]
  },
  {
   "cell_type": "code",
   "execution_count": null,
   "metadata": {},
   "outputs": [
    {
     "name": "stderr",
     "output_type": "stream",
     "text": [
      "Batches: 100%|██████████| 102/102 [00:03<00:00, 26.04it/s]\n"
     ]
    }
   ],
   "source": [
    "from umap import UMAP\n",
    "from hdbscan import HDBSCAN\n",
    "from sentence_transformers import SentenceTransformer\n",
    "from sklearn.feature_extraction.text import CountVectorizer\n",
    "from sklearn.cluster import KMeans\n",
    "\n",
    "from bertopic import BERTopic\n",
    "from bertopic.representation import KeyBERTInspired, MaximalMarginalRelevance\n",
    "from bertopic.vectorizers import ClassTfidfTransformer\n",
    "\n",
    "\n",
    "# Step 1 - Extract embeddings\n",
    "embedding_model = SentenceTransformer(\"all-MiniLM-L6-v2\")\n",
    "embeddings = embedding_model.encode(docs, show_progress_bar=True)\n",
    "\n",
    "# Step 1 is by far the longest part of the process, so I recommend running this as few times as possible, especially for larger datasets"
   ]
  },
  {
   "cell_type": "code",
   "execution_count": null,
   "metadata": {},
   "outputs": [],
   "source": [
    "# Step 2 - Reduce dimensionality\n",
    "umap_model = UMAP(n_neighbors=20, n_components=5, min_dist=0.0, metric='cosine', random_state=42)\n",
    "# High number of nearest neighbors and low minimum distance can help to preserve local structure\n",
    "\n",
    "# Step 3 - Cluster reduced embeddings\n",
    "hdbscan_model = HDBSCAN(min_cluster_size=60, min_samples=1, metric='euclidean', cluster_selection_method='eom', prediction_data=True)\n",
    "# The parameter \"min_cluster_size\" here lets you indirectly influence the number of clusters by setting a minimum size for each cluster.\n",
    "# Setting \"min_samples\" to a lower value can help you reduce the size of the outliers cluster.\n",
    "\n",
    "# Step 4 - Tokenize topics\n",
    "vectorizer_model = CountVectorizer(stop_words=stop_words, min_df=1, ngram_range=(1,3))\n",
    "\n",
    "# Step 5 - Create topic representation\n",
    "ctfidf_model = ClassTfidfTransformer()\n",
    "\n",
    "# Step 6 - (Optional) Fine-tune topic representations\n",
    "representation_model = MaximalMarginalRelevance(diversity=0.7)\n",
    "# 0 being not diverse, 1 being most diverse\n",
    "\n",
    "# All steps together\n",
    "BERT_model = BERTopic(\n",
    "    embedding_model=embedding_model,          # Step 1 - Extract embeddings\n",
    "    umap_model=umap_model,                    # Step 2 - Reduce dimensionality\n",
    "    hdbscan_model=hdbscan_model,              # Step 3 - Cluster reduced embeddings\n",
    "    vectorizer_model=vectorizer_model,        # Step 4 - Tokenize topics\n",
    "    ctfidf_model=ctfidf_model,                # Step 5 - Extract topic words\n",
    "    representation_model=representation_model, # Step 6 - (Optional) Fine-tune topic representations\n",
    "\n",
    "    #zeroshot_topic_list=zero_shot_topic_list_minor, zeroshot_min_similarity=0.9, # Comment this out if you don't want zero-shot\n",
    "    # 0 similarity = only use my topic lists, 1 similarity = barely pay attention to my topic lists.\n",
    ")"
   ]
  },
  {
   "cell_type": "code",
   "execution_count": null,
   "metadata": {},
   "outputs": [],
   "source": [
    "topics, _ = BERT_model.fit_transform(docs)\n",
    "\n",
    "# You can also reduce outliers after BERTopic has been fitted\n",
    "new_topics = BERT_model.reduce_outliers(docs, topics)\n",
    "\n",
    "# # Reduce outliers with pre-calculate embeddings instead\n",
    "# new_topics = BERT_model.reduce_outliers(docs, topics, strategy=\"embeddings\", embeddings=embeddings)\n"
   ]
  },
  {
   "cell_type": "code",
   "execution_count": null,
   "metadata": {},
   "outputs": [
    {
     "data": {
      "text/html": [
       "<div>\n",
       "<style scoped>\n",
       "    .dataframe tbody tr th:only-of-type {\n",
       "        vertical-align: middle;\n",
       "    }\n",
       "\n",
       "    .dataframe tbody tr th {\n",
       "        vertical-align: top;\n",
       "    }\n",
       "\n",
       "    .dataframe thead th {\n",
       "        text-align: right;\n",
       "    }\n",
       "</style>\n",
       "<table border=\"1\" class=\"dataframe\">\n",
       "  <thead>\n",
       "    <tr style=\"text-align: right;\">\n",
       "      <th></th>\n",
       "      <th>Document</th>\n",
       "      <th>Topic</th>\n",
       "      <th>Name</th>\n",
       "      <th>Representation</th>\n",
       "      <th>Representative_Docs</th>\n",
       "      <th>Top_n_words</th>\n",
       "      <th>Probability</th>\n",
       "      <th>Representative_document</th>\n",
       "      <th>Person_id</th>\n",
       "    </tr>\n",
       "  </thead>\n",
       "  <tbody>\n",
       "    <tr>\n",
       "      <th>0</th>\n",
       "      <td>I did cancel plans as it made me not want to g...</td>\n",
       "      <td>1</td>\n",
       "      <td>1_cancelled_outdoor_appointments_go</td>\n",
       "      <td>[cancelled, outdoor, appointments, go, cycle, ...</td>\n",
       "      <td>[less exercise, Less exercise., Less exercise]</td>\n",
       "      <td>cancelled - outdoor - appointments - go - cycl...</td>\n",
       "      <td>0.567937</td>\n",
       "      <td>False</td>\n",
       "      <td>4</td>\n",
       "    </tr>\n",
       "    <tr>\n",
       "      <th>1</th>\n",
       "      <td>Heating bills were more expensive</td>\n",
       "      <td>13</td>\n",
       "      <td>13_heating bills_worried_gas_bill</td>\n",
       "      <td>[heating bills, worried, gas, bill, due, price...</td>\n",
       "      <td>[Concerned about cost of heating the house,  w...</td>\n",
       "      <td>heating bills - worried - gas - bill - due - p...</td>\n",
       "      <td>1.000000</td>\n",
       "      <td>False</td>\n",
       "      <td>8</td>\n",
       "    </tr>\n",
       "    <tr>\n",
       "      <th>2</th>\n",
       "      <td>tried to heat just the room I was working in</td>\n",
       "      <td>14</td>\n",
       "      <td>14_fan_brought_room bought_extra heaters</td>\n",
       "      <td>[fan, brought, room bought, extra heaters, bou...</td>\n",
       "      <td>[Bought a heater, Bought a heater, Heater ]</td>\n",
       "      <td>fan - brought - room bought - extra heaters - ...</td>\n",
       "      <td>1.000000</td>\n",
       "      <td>False</td>\n",
       "      <td>8</td>\n",
       "    </tr>\n",
       "    <tr>\n",
       "      <th>3</th>\n",
       "      <td>wrapped up in layers.</td>\n",
       "      <td>0</td>\n",
       "      <td>0_layers_extra_gloves_thermal</td>\n",
       "      <td>[layers, extra, gloves, thermal, hat, put, wor...</td>\n",
       "      <td>[I wore warmer clothes, Wore warmer clothes, W...</td>\n",
       "      <td>layers - extra - gloves - thermal - hat - put ...</td>\n",
       "      <td>1.000000</td>\n",
       "      <td>False</td>\n",
       "      <td>8</td>\n",
       "    </tr>\n",
       "    <tr>\n",
       "      <th>4</th>\n",
       "      <td>Draught excluders under doors</td>\n",
       "      <td>15</td>\n",
       "      <td>15_windows_doors_draught_excluders</td>\n",
       "      <td>[windows, doors, draught, excluders, closed cu...</td>\n",
       "      <td>[closed curtains , curtains closed, Curtains c...</td>\n",
       "      <td>windows - doors - draught - excluders - closed...</td>\n",
       "      <td>1.000000</td>\n",
       "      <td>False</td>\n",
       "      <td>21</td>\n",
       "    </tr>\n",
       "  </tbody>\n",
       "</table>\n",
       "</div>"
      ],
      "text/plain": [
       "                                            Document  Topic  \\\n",
       "0  I did cancel plans as it made me not want to g...      1   \n",
       "1                  Heating bills were more expensive     13   \n",
       "2      tried to heat just the room I was working in      14   \n",
       "3                              wrapped up in layers.      0   \n",
       "4                      Draught excluders under doors     15   \n",
       "\n",
       "                                       Name  \\\n",
       "0       1_cancelled_outdoor_appointments_go   \n",
       "1         13_heating bills_worried_gas_bill   \n",
       "2  14_fan_brought_room bought_extra heaters   \n",
       "3             0_layers_extra_gloves_thermal   \n",
       "4        15_windows_doors_draught_excluders   \n",
       "\n",
       "                                      Representation  \\\n",
       "0  [cancelled, outdoor, appointments, go, cycle, ...   \n",
       "1  [heating bills, worried, gas, bill, due, price...   \n",
       "2  [fan, brought, room bought, extra heaters, bou...   \n",
       "3  [layers, extra, gloves, thermal, hat, put, wor...   \n",
       "4  [windows, doors, draught, excluders, closed cu...   \n",
       "\n",
       "                                 Representative_Docs  \\\n",
       "0     [less exercise, Less exercise., Less exercise]   \n",
       "1  [Concerned about cost of heating the house,  w...   \n",
       "2        [Bought a heater, Bought a heater, Heater ]   \n",
       "3  [I wore warmer clothes, Wore warmer clothes, W...   \n",
       "4  [closed curtains , curtains closed, Curtains c...   \n",
       "\n",
       "                                         Top_n_words  Probability  \\\n",
       "0  cancelled - outdoor - appointments - go - cycl...     0.567937   \n",
       "1  heating bills - worried - gas - bill - due - p...     1.000000   \n",
       "2  fan - brought - room bought - extra heaters - ...     1.000000   \n",
       "3  layers - extra - gloves - thermal - hat - put ...     1.000000   \n",
       "4  windows - doors - draught - excluders - closed...     1.000000   \n",
       "\n",
       "   Representative_document  Person_id  \n",
       "0                    False          4  \n",
       "1                    False          8  \n",
       "2                    False          8  \n",
       "3                    False          8  \n",
       "4                    False         21  "
      ]
     },
     "execution_count": 22,
     "metadata": {},
     "output_type": "execute_result"
    }
   ],
   "source": [
    "doc_inf = BERT_model.get_document_info(docs)\n",
    "doc_inf[\"Person_id\"] = docs_index\n",
    "doc_inf.to_csv(f\"BERTModelRawOutputs/{Name}_Document_Info.csv\")\n",
    "doc_inf.head()"
   ]
  },
  {
   "cell_type": "code",
   "execution_count": null,
   "metadata": {},
   "outputs": [
    {
     "data": {
      "text/html": [
       "<div>\n",
       "<style scoped>\n",
       "    .dataframe tbody tr th:only-of-type {\n",
       "        vertical-align: middle;\n",
       "    }\n",
       "\n",
       "    .dataframe tbody tr th {\n",
       "        vertical-align: top;\n",
       "    }\n",
       "\n",
       "    .dataframe thead th {\n",
       "        text-align: right;\n",
       "    }\n",
       "</style>\n",
       "<table border=\"1\" class=\"dataframe\">\n",
       "  <thead>\n",
       "    <tr style=\"text-align: right;\">\n",
       "      <th></th>\n",
       "      <th>Topic</th>\n",
       "      <th>Count</th>\n",
       "      <th>Name</th>\n",
       "      <th>Representation</th>\n",
       "      <th>Representative_Docs</th>\n",
       "      <th>Unique_Person_Count</th>\n",
       "    </tr>\n",
       "  </thead>\n",
       "  <tbody>\n",
       "    <tr>\n",
       "      <th>0</th>\n",
       "      <td>-1</td>\n",
       "      <td>629</td>\n",
       "      <td>-1_put_heating longer_dog_stayed home</td>\n",
       "      <td>[put, heating longer, dog, stayed home, wrappe...</td>\n",
       "      <td>[used hot water bottle,  used a hot water bott...</td>\n",
       "      <td>512</td>\n",
       "    </tr>\n",
       "    <tr>\n",
       "      <th>1</th>\n",
       "      <td>0</td>\n",
       "      <td>609</td>\n",
       "      <td>0_layers_extra_gloves_thermal</td>\n",
       "      <td>[layers, extra, gloves, thermal, hat, put, wor...</td>\n",
       "      <td>[I wore warmer clothes, Wore warmer clothes, W...</td>\n",
       "      <td>484</td>\n",
       "    </tr>\n",
       "    <tr>\n",
       "      <th>2</th>\n",
       "      <td>1</td>\n",
       "      <td>344</td>\n",
       "      <td>1_cancelled_outdoor_appointments_go</td>\n",
       "      <td>[cancelled, outdoor, appointments, go, cycle, ...</td>\n",
       "      <td>[less exercise, Less exercise., Less exercise]</td>\n",
       "      <td>298</td>\n",
       "    </tr>\n",
       "    <tr>\n",
       "      <th>3</th>\n",
       "      <td>2</td>\n",
       "      <td>252</td>\n",
       "      <td>2_weather_go_garden_due</td>\n",
       "      <td>[weather, go, garden, due, days, icy, conditio...</td>\n",
       "      <td>[I love the cold weather &amp; love going for long...</td>\n",
       "      <td>204</td>\n",
       "    </tr>\n",
       "    <tr>\n",
       "      <th>4</th>\n",
       "      <td>3</td>\n",
       "      <td>161</td>\n",
       "      <td>3_extra_bedding_heated_duvet</td>\n",
       "      <td>[extra, bedding, heated, duvet, bought, watchi...</td>\n",
       "      <td>[Electric blanket, Electric blanket, Electric ...</td>\n",
       "      <td>150</td>\n",
       "    </tr>\n",
       "  </tbody>\n",
       "</table>\n",
       "</div>"
      ],
      "text/plain": [
       "   Topic  Count                                   Name  \\\n",
       "0     -1    629  -1_put_heating longer_dog_stayed home   \n",
       "1      0    609          0_layers_extra_gloves_thermal   \n",
       "2      1    344    1_cancelled_outdoor_appointments_go   \n",
       "3      2    252                2_weather_go_garden_due   \n",
       "4      3    161           3_extra_bedding_heated_duvet   \n",
       "\n",
       "                                      Representation  \\\n",
       "0  [put, heating longer, dog, stayed home, wrappe...   \n",
       "1  [layers, extra, gloves, thermal, hat, put, wor...   \n",
       "2  [cancelled, outdoor, appointments, go, cycle, ...   \n",
       "3  [weather, go, garden, due, days, icy, conditio...   \n",
       "4  [extra, bedding, heated, duvet, bought, watchi...   \n",
       "\n",
       "                                 Representative_Docs  Unique_Person_Count  \n",
       "0  [used hot water bottle,  used a hot water bott...                  512  \n",
       "1  [I wore warmer clothes, Wore warmer clothes, W...                  484  \n",
       "2     [less exercise, Less exercise., Less exercise]                  298  \n",
       "3  [I love the cold weather & love going for long...                  204  \n",
       "4  [Electric blanket, Electric blanket, Electric ...                  150  "
      ]
     },
     "execution_count": 23,
     "metadata": {},
     "output_type": "execute_result"
    }
   ],
   "source": [
    "top_inf = BERT_model.get_topic_info()\n",
    "# Calculate the number of unique person IDs per topic\n",
    "unique_person_ids_per_topic = doc_inf.groupby('Topic')['Person_id'].nunique().reset_index()\n",
    "unique_person_ids_per_topic.columns = ['Topic', 'Unique_Person_Count']\n",
    "\n",
    "# Merge with the topic information dataframe\n",
    "top_inf = top_inf.merge(unique_person_ids_per_topic, on='Topic', how='left')\n",
    "top_inf.to_csv(f\"BERTModelRawOutputs/{Name}_Topic_Info.csv\")\n",
    "top_inf.head()\n",
    "\n",
    "# Topic -1 is the \"outlier\" topic"
   ]
  },
  {
   "cell_type": "code",
   "execution_count": null,
   "metadata": {},
   "outputs": [
    {
     "data": {
      "image/png": "[encoded data removed]",
      "text/plain": [
       "<Figure size 640x480 with 1 Axes>"
      ]
     },
     "metadata": {},
     "output_type": "display_data"
    }
   ],
   "source": [
    "ax = doc_inf[\"Name\"].value_counts(ascending=True).plot(kind='barh', xlabel=\"Number of responses\", ylabel=\"Topic\", title=\"Number of responses per topic\")\n",
    "fig3 = ax.get_figure()\n",
    "fig3.savefig(f\"BERTModelRawOutputs/{Name}_Number_of_responses_per_topic.png\", bbox_inches='tight')"
   ]
  },
  {
   "cell_type": "code",
   "execution_count": null,
   "metadata": {},
   "outputs": [
    {
     "data": {
      "image/png": "[encoded data removed]",
      "text/plain": [
       "<Figure size 640x480 with 1 Axes>"
      ]
     },
     "metadata": {},
     "output_type": "display_data"
    }
   ],
   "source": [
    "import seaborn as sns\n",
    "import matplotlib.pyplot as plt\n",
    "# Create the bar plot\n",
    "ax = sns.barplot(x=\"Unique_Person_Count\", y=\"Name\", data=top_inf)\n",
    "\n",
    "# Set the labels and title\n",
    "ax.set(xlabel=\"Number of unique people\", ylabel=\"Topic\", title=\"Number of unique people per topic\")\n",
    "\n",
    "# Show the plot\n",
    "plt.show()\n",
    "fig = ax.get_figure()\n",
    "fig.savefig(f\"BERTModelRawOutputs/{Name}_Number_of_unique_people_per_topic.png\", bbox_inches='tight')"
   ]
  },
  {
   "cell_type": "code",
   "execution_count": null,
   "metadata": {},
   "outputs": [
    {
     "data": {
      "text/plain": [
       "[('put', np.float64(0.029086141647876103)),\n",
       " ('heating longer', np.float64(0.0206986068382957)),\n",
       " ('dog', np.float64(0.020658104508665474)),\n",
       " ('stayed home', np.float64(0.020333043137195198)),\n",
       " ('wrapped', np.float64(0.020178194289861968)),\n",
       " ('used hot', np.float64(0.019461608803585207)),\n",
       " ('hot water bottles', np.float64(0.018805858979243573)),\n",
       " ('indoors', np.float64(0.012324958573263236)),\n",
       " ('times', np.float64(0.011967364804973183)),\n",
       " ('elderly', np.float64(0.011679033343765369))]"
      ]
     },
     "execution_count": 26,
     "metadata": {},
     "output_type": "execute_result"
    }
   ],
   "source": [
    "similar_topics, similarity = BERT_model.find_topics(\"elderly\", top_n=5)\n",
    "BERT_model.get_topic(similar_topics[0])"
   ]
  },
  {
   "cell_type": "code",
   "execution_count": null,
   "metadata": {},
   "outputs": [
    {
     "data": {
      "application/vnd.plotly.v1+json": {
       "config": {
        "plotlyServerURL": "https://plot.ly"
       },
       "data": [
        {
         "customdata": [
          [
           0,
           "layers | extra | gloves | thermal | hat",
           609
          ],
          [
           1,
           "cancelled | outdoor | appointments | go | cycle",
           344
          ],
          [
           2,
           "weather | go | garden | due | days",
           252
          ],
          [
           3,
           "extra | bedding | heated | duvet | bought",
           161
          ],
          [
           4,
           "day | kept | central | settings | changed",
           128
          ],
          [
           5,
           "plans | transport | work | driving | attend",
           119
          ],
          [
           6,
           "necessary | less | house go | much go | leave",
           106
          ],
          [
           7,
           "log burner | logs | stove | enough | fire earlier",
           97
          ],
          [
           8,
           "used | increased | central | heating used heating | home used",
           96
          ],
          [
           9,
           "turned | thermostat | boiler | heating heating | turn heating turned",
           94
          ],
          [
           10,
           "work | left | baby | bed earlier | spent",
           93
          ],
          [
           11,
           "house warm | insulation | stay | could | enough",
           81
          ],
          [
           12,
           "home | worked | work | home work | work home worked",
           80
          ],
          [
           13,
           "heating bills | worried | gas | bill | due",
           78
          ],
          [
           14,
           "fan | brought | room bought | extra heaters | bought electric heater",
           72
          ],
          [
           15,
           "windows | doors | draught | excluders | closed curtains",
           68
          ],
          [
           16,
           "stocked | delivery | bought | plenty food | food house",
           67
          ],
          [
           17,
           "warming | soups | hot | hearty | making",
           63
          ]
         ],
         "hovertemplate": "<b>Topic %{customdata[0]}</b><br>%{customdata[1]}<br>Size: %{customdata[2]}",
         "legendgroup": "",
         "marker": {
          "color": "#B0BEC5",
          "line": {
           "color": "DarkSlateGrey",
           "width": 2
          },
          "size": [
           609,
           344,
           252,
           161,
           128,
           119,
           106,
           97,
           96,
           94,
           93,
           81,
           80,
           78,
           72,
           68,
           67,
           63
          ],
          "sizemode": "area",
          "sizeref": 0.380625,
          "symbol": "circle"
         },
         "mode": "markers",
         "name": "",
         "orientation": "v",
         "showlegend": false,
         "type": "scatter",
         "x": [
          -2.1802780628204346,
          13.001197814941406,
          -1.460767149925232,
          -1.8669238090515137,
          4.86116886138916,
          13.240756034851074,
          13.268177032470703,
          5.906635284423828,
          5.477006435394287,
          4.571187973022461,
          12.510397911071777,
          -1.621347188949585,
          12.18514633178711,
          5.111353874206543,
          5.694761276245117,
          -2.0438997745513916,
          -1.6030006408691406,
          -1.426957607269287
         ],
         "xaxis": "x",
         "y": [
          -11.886287689208984,
          -3.720451831817627,
          -10.93146800994873,
          -11.657658576965332,
          18.86058235168457,
          -4.055573463439941,
          -3.5465660095214844,
          17.585046768188477,
          18.36972427368164,
          19.054052352905273,
          -3.4094529151916504,
          -11.311009407043457,
          -3.5663788318634033,
          18.053638458251953,
          17.864259719848633,
          -10.891961097717285,
          3.0887744426727295,
          2.9151594638824463
         ],
         "yaxis": "y"
        }
       ],
       "layout": {
        "annotations": [
         {
          "showarrow": false,
          "text": "D1",
          "x": -2.507319688796997,
          "y": 4.121464729309082,
          "yshift": 10
         },
         {
          "showarrow": false,
          "text": "D2",
          "x": 6.375542163848877,
          "xshift": 10,
          "y": 21.912160873413086
         }
        ],
        "height": 650,
        "hoverlabel": {
         "bgcolor": "white",
         "font": {
          "family": "Rockwell",
          "size": 16
         }
        },
        "legend": {
         "itemsizing": "constant",
         "tracegroupgap": 0
        },
        "margin": {
         "t": 60
        },
        "shapes": [
         {
          "line": {
           "color": "#CFD8DC",
           "width": 2
          },
          "type": "line",
          "x0": 6.375542163848877,
          "x1": 6.375542163848877,
          "y0": -13.669231414794922,
          "y1": 21.912160873413086
         },
         {
          "line": {
           "color": "#9E9E9E",
           "width": 2
          },
          "type": "line",
          "x0": -2.507319688796997,
          "x1": 15.258403778076172,
          "y0": 4.121464729309082,
          "y1": 4.121464729309082
         }
        ],
        "sliders": [
         {
          "active": 0,
          "pad": {
           "t": 50
          },
          "steps": [
           {
            "args": [
             {
              "marker.color": [
               [
                "red",
                "#B0BEC5",
                "#B0BEC5",
                "#B0BEC5",
                "#B0BEC5",
                "#B0BEC5",
                "#B0BEC5",
                "#B0BEC5",
                "#B0BEC5",
                "#B0BEC5",
                "#B0BEC5",
                "#B0BEC5",
                "#B0BEC5",
                "#B0BEC5",
                "#B0BEC5",
                "#B0BEC5",
                "#B0BEC5",
                "#B0BEC5"
               ]
              ]
             }
            ],
            "label": "Topic 0",
            "method": "update"
           },
           {
            "args": [
             {
              "marker.color": [
               [
                "#B0BEC5",
                "red",
                "#B0BEC5",
                "#B0BEC5",
                "#B0BEC5",
                "#B0BEC5",
                "#B0BEC5",
                "#B0BEC5",
                "#B0BEC5",
                "#B0BEC5",
                "#B0BEC5",
                "#B0BEC5",
                "#B0BEC5",
                "#B0BEC5",
                "#B0BEC5",
                "#B0BEC5",
                "#B0BEC5",
                "#B0BEC5"
               ]
              ]
             }
            ],
            "label": "Topic 1",
            "method": "update"
           },
           {
            "args": [
             {
              "marker.color": [
               [
                "#B0BEC5",
                "#B0BEC5",
                "red",
                "#B0BEC5",
                "#B0BEC5",
                "#B0BEC5",
                "#B0BEC5",
                "#B0BEC5",
                "#B0BEC5",
                "#B0BEC5",
                "#B0BEC5",
                "#B0BEC5",
                "#B0BEC5",
                "#B0BEC5",
                "#B0BEC5",
                "#B0BEC5",
                "#B0BEC5",
                "#B0BEC5"
               ]
              ]
             }
            ],
            "label": "Topic 2",
            "method": "update"
           },
           {
            "args": [
             {
              "marker.color": [
               [
                "#B0BEC5",
                "#B0BEC5",
                "#B0BEC5",
                "red",
                "#B0BEC5",
                "#B0BEC5",
                "#B0BEC5",
                "#B0BEC5",
                "#B0BEC5",
                "#B0BEC5",
                "#B0BEC5",
                "#B0BEC5",
                "#B0BEC5",
                "#B0BEC5",
                "#B0BEC5",
                "#B0BEC5",
                "#B0BEC5",
                "#B0BEC5"
               ]
              ]
             }
            ],
            "label": "Topic 3",
            "method": "update"
           },
           {
            "args": [
             {
              "marker.color": [
               [
                "#B0BEC5",
                "#B0BEC5",
                "#B0BEC5",
                "#B0BEC5",
                "red",
                "#B0BEC5",
                "#B0BEC5",
                "#B0BEC5",
                "#B0BEC5",
                "#B0BEC5",
                "#B0BEC5",
                "#B0BEC5",
                "#B0BEC5",
                "#B0BEC5",
                "#B0BEC5",
                "#B0BEC5",
                "#B0BEC5",
                "#B0BEC5"
               ]
              ]
             }
            ],
            "label": "Topic 4",
            "method": "update"
           },
           {
            "args": [
             {
              "marker.color": [
               [
                "#B0BEC5",
                "#B0BEC5",
                "#B0BEC5",
                "#B0BEC5",
                "#B0BEC5",
                "red",
                "#B0BEC5",
                "#B0BEC5",
                "#B0BEC5",
                "#B0BEC5",
                "#B0BEC5",
                "#B0BEC5",
                "#B0BEC5",
                "#B0BEC5",
                "#B0BEC5",
                "#B0BEC5",
                "#B0BEC5",
                "#B0BEC5"
               ]
              ]
             }
            ],
            "label": "Topic 5",
            "method": "update"
           },
           {
            "args": [
             {
              "marker.color": [
               [
                "#B0BEC5",
                "#B0BEC5",
                "#B0BEC5",
                "#B0BEC5",
                "#B0BEC5",
                "#B0BEC5",
                "red",
                "#B0BEC5",
                "#B0BEC5",
                "#B0BEC5",
                "#B0BEC5",
                "#B0BEC5",
                "#B0BEC5",
                "#B0BEC5",
                "#B0BEC5",
                "#B0BEC5",
                "#B0BEC5",
                "#B0BEC5"
               ]
              ]
             }
            ],
            "label": "Topic 6",
            "method": "update"
           },
           {
            "args": [
             {
              "marker.color": [
               [
                "#B0BEC5",
                "#B0BEC5",
                "#B0BEC5",
                "#B0BEC5",
                "#B0BEC5",
                "#B0BEC5",
                "#B0BEC5",
                "red",
                "#B0BEC5",
                "#B0BEC5",
                "#B0BEC5",
                "#B0BEC5",
                "#B0BEC5",
                "#B0BEC5",
                "#B0BEC5",
                "#B0BEC5",
                "#B0BEC5",
                "#B0BEC5"
               ]
              ]
             }
            ],
            "label": "Topic 7",
            "method": "update"
           },
           {
            "args": [
             {
              "marker.color": [
               [
                "#B0BEC5",
                "#B0BEC5",
                "#B0BEC5",
                "#B0BEC5",
                "#B0BEC5",
                "#B0BEC5",
                "#B0BEC5",
                "#B0BEC5",
                "red",
                "#B0BEC5",
                "#B0BEC5",
                "#B0BEC5",
                "#B0BEC5",
                "#B0BEC5",
                "#B0BEC5",
                "#B0BEC5",
                "#B0BEC5",
                "#B0BEC5"
               ]
              ]
             }
            ],
            "label": "Topic 8",
            "method": "update"
           },
           {
            "args": [
             {
              "marker.color": [
               [
                "#B0BEC5",
                "#B0BEC5",
                "#B0BEC5",
                "#B0BEC5",
                "#B0BEC5",
                "#B0BEC5",
                "#B0BEC5",
                "#B0BEC5",
                "#B0BEC5",
                "red",
                "#B0BEC5",
                "#B0BEC5",
                "#B0BEC5",
                "#B0BEC5",
                "#B0BEC5",
                "#B0BEC5",
                "#B0BEC5",
                "#B0BEC5"
               ]
              ]
             }
            ],
            "label": "Topic 9",
            "method": "update"
           },
           {
            "args": [
             {
              "marker.color": [
               [
                "#B0BEC5",
                "#B0BEC5",
                "#B0BEC5",
                "#B0BEC5",
                "#B0BEC5",
                "#B0BEC5",
                "#B0BEC5",
                "#B0BEC5",
                "#B0BEC5",
                "#B0BEC5",
                "red",
                "#B0BEC5",
                "#B0BEC5",
                "#B0BEC5",
                "#B0BEC5",
                "#B0BEC5",
                "#B0BEC5",
                "#B0BEC5"
               ]
              ]
             }
            ],
            "label": "Topic 10",
            "method": "update"
           },
           {
            "args": [
             {
              "marker.color": [
               [
                "#B0BEC5",
                "#B0BEC5",
                "#B0BEC5",
                "#B0BEC5",
                "#B0BEC5",
                "#B0BEC5",
                "#B0BEC5",
                "#B0BEC5",
                "#B0BEC5",
                "#B0BEC5",
                "#B0BEC5",
                "red",
                "#B0BEC5",
                "#B0BEC5",
                "#B0BEC5",
                "#B0BEC5",
                "#B0BEC5",
                "#B0BEC5"
               ]
              ]
             }
            ],
            "label": "Topic 11",
            "method": "update"
           },
           {
            "args": [
             {
              "marker.color": [
               [
                "#B0BEC5",
                "#B0BEC5",
                "#B0BEC5",
                "#B0BEC5",
                "#B0BEC5",
                "#B0BEC5",
                "#B0BEC5",
                "#B0BEC5",
                "#B0BEC5",
                "#B0BEC5",
                "#B0BEC5",
                "#B0BEC5",
                "red",
                "#B0BEC5",
                "#B0BEC5",
                "#B0BEC5",
                "#B0BEC5",
                "#B0BEC5"
               ]
              ]
             }
            ],
            "label": "Topic 12",
            "method": "update"
           },
           {
            "args": [
             {
              "marker.color": [
               [
                "#B0BEC5",
                "#B0BEC5",
                "#B0BEC5",
                "#B0BEC5",
                "#B0BEC5",
                "#B0BEC5",
                "#B0BEC5",
                "#B0BEC5",
                "#B0BEC5",
                "#B0BEC5",
                "#B0BEC5",
                "#B0BEC5",
                "#B0BEC5",
                "red",
                "#B0BEC5",
                "#B0BEC5",
                "#B0BEC5",
                "#B0BEC5"
               ]
              ]
             }
            ],
            "label": "Topic 13",
            "method": "update"
           },
           {
            "args": [
             {
              "marker.color": [
               [
                "#B0BEC5",
                "#B0BEC5",
                "#B0BEC5",
                "#B0BEC5",
                "#B0BEC5",
                "#B0BEC5",
                "#B0BEC5",
                "#B0BEC5",
                "#B0BEC5",
                "#B0BEC5",
                "#B0BEC5",
                "#B0BEC5",
                "#B0BEC5",
                "#B0BEC5",
                "red",
                "#B0BEC5",
                "#B0BEC5",
                "#B0BEC5"
               ]
              ]
             }
            ],
            "label": "Topic 14",
            "method": "update"
           },
           {
            "args": [
             {
              "marker.color": [
               [
                "#B0BEC5",
                "#B0BEC5",
                "#B0BEC5",
                "#B0BEC5",
                "#B0BEC5",
                "#B0BEC5",
                "#B0BEC5",
                "#B0BEC5",
                "#B0BEC5",
                "#B0BEC5",
                "#B0BEC5",
                "#B0BEC5",
                "#B0BEC5",
                "#B0BEC5",
                "#B0BEC5",
                "red",
                "#B0BEC5",
                "#B0BEC5"
               ]
              ]
             }
            ],
            "label": "Topic 15",
            "method": "update"
           },
           {
            "args": [
             {
              "marker.color": [
               [
                "#B0BEC5",
                "#B0BEC5",
                "#B0BEC5",
                "#B0BEC5",
                "#B0BEC5",
                "#B0BEC5",
                "#B0BEC5",
                "#B0BEC5",
                "#B0BEC5",
                "#B0BEC5",
                "#B0BEC5",
                "#B0BEC5",
                "#B0BEC5",
                "#B0BEC5",
                "#B0BEC5",
                "#B0BEC5",
                "red",
                "#B0BEC5"
               ]
              ]
             }
            ],
            "label": "Topic 16",
            "method": "update"
           },
           {
            "args": [
             {
              "marker.color": [
               [
                "#B0BEC5",
                "#B0BEC5",
                "#B0BEC5",
                "#B0BEC5",
                "#B0BEC5",
                "#B0BEC5",
                "#B0BEC5",
                "#B0BEC5",
                "#B0BEC5",
                "#B0BEC5",
                "#B0BEC5",
                "#B0BEC5",
                "#B0BEC5",
                "#B0BEC5",
                "#B0BEC5",
                "#B0BEC5",
                "#B0BEC5",
                "red"
               ]
              ]
             }
            ],
            "label": "Topic 17",
            "method": "update"
           }
          ]
         }
        ],
        "template": {
         "data": {
          "bar": [
           {
            "error_x": {
             "color": "rgb(36,36,36)"
            },
            "error_y": {
             "color": "rgb(36,36,36)"
            },
            "marker": {
             "line": {
              "color": "white",
              "width": 0.5
             },
             "pattern": {
              "fillmode": "overlay",
              "size": 10,
              "solidity": 0.2
             }
            },
            "type": "bar"
           }
          ],
          "barpolar": [
           {
            "marker": {
             "line": {
              "color": "white",
              "width": 0.5
             },
             "pattern": {
              "fillmode": "overlay",
              "size": 10,
              "solidity": 0.2
             }
            },
            "type": "barpolar"
           }
          ],
          "carpet": [
           {
            "aaxis": {
             "endlinecolor": "rgb(36,36,36)",
             "gridcolor": "white",
             "linecolor": "white",
             "minorgridcolor": "white",
             "startlinecolor": "rgb(36,36,36)"
            },
            "baxis": {
             "endlinecolor": "rgb(36,36,36)",
             "gridcolor": "white",
             "linecolor": "white",
             "minorgridcolor": "white",
             "startlinecolor": "rgb(36,36,36)"
            },
            "type": "carpet"
           }
          ],
          "choropleth": [
           {
            "colorbar": {
             "outlinewidth": 1,
             "tickcolor": "rgb(36,36,36)",
             "ticks": "outside"
            },
            "type": "choropleth"
           }
          ],
          "contour": [
           {
            "colorbar": {
             "outlinewidth": 1,
             "tickcolor": "rgb(36,36,36)",
             "ticks": "outside"
            },
            "colorscale": [
             [
              0,
              "#440154"
             ],
             [
              0.1111111111111111,
              "#482878"
             ],
             [
              0.2222222222222222,
              "#3e4989"
             ],
             [
              0.3333333333333333,
              "#31688e"
             ],
             [
              0.4444444444444444,
              "#26828e"
             ],
             [
              0.5555555555555556,
              "#1f9e89"
             ],
             [
              0.6666666666666666,
              "#35b779"
             ],
             [
              0.7777777777777778,
              "#6ece58"
             ],
             [
              0.8888888888888888,
              "#b5de2b"
             ],
             [
              1,
              "#fde725"
             ]
            ],
            "type": "contour"
           }
          ],
          "contourcarpet": [
           {
            "colorbar": {
             "outlinewidth": 1,
             "tickcolor": "rgb(36,36,36)",
             "ticks": "outside"
            },
            "type": "contourcarpet"
           }
          ],
          "heatmap": [
           {
            "colorbar": {
             "outlinewidth": 1,
             "tickcolor": "rgb(36,36,36)",
             "ticks": "outside"
            },
            "colorscale": [
             [
              0,
              "#440154"
             ],
             [
              0.1111111111111111,
              "#482878"
             ],
             [
              0.2222222222222222,
              "#3e4989"
             ],
             [
              0.3333333333333333,
              "#31688e"
             ],
             [
              0.4444444444444444,
              "#26828e"
             ],
             [
              0.5555555555555556,
              "#1f9e89"
             ],
             [
              0.6666666666666666,
              "#35b779"
             ],
             [
              0.7777777777777778,
              "#6ece58"
             ],
             [
              0.8888888888888888,
              "#b5de2b"
             ],
             [
              1,
              "#fde725"
             ]
            ],
            "type": "heatmap"
           }
          ],
          "heatmapgl": [
           {
            "colorbar": {
             "outlinewidth": 1,
             "tickcolor": "rgb(36,36,36)",
             "ticks": "outside"
            },
            "colorscale": [
             [
              0,
              "#440154"
             ],
             [
              0.1111111111111111,
              "#482878"
             ],
             [
              0.2222222222222222,
              "#3e4989"
             ],
             [
              0.3333333333333333,
              "#31688e"
             ],
             [
              0.4444444444444444,
              "#26828e"
             ],
             [
              0.5555555555555556,
              "#1f9e89"
             ],
             [
              0.6666666666666666,
              "#35b779"
             ],
             [
              0.7777777777777778,
              "#6ece58"
             ],
             [
              0.8888888888888888,
              "#b5de2b"
             ],
             [
              1,
              "#fde725"
             ]
            ],
            "type": "heatmapgl"
           }
          ],
          "histogram": [
           {
            "marker": {
             "line": {
              "color": "white",
              "width": 0.6
             }
            },
            "type": "histogram"
           }
          ],
          "histogram2d": [
           {
            "colorbar": {
             "outlinewidth": 1,
             "tickcolor": "rgb(36,36,36)",
             "ticks": "outside"
            },
            "colorscale": [
             [
              0,
              "#440154"
             ],
             [
              0.1111111111111111,
              "#482878"
             ],
             [
              0.2222222222222222,
              "#3e4989"
             ],
             [
              0.3333333333333333,
              "#31688e"
             ],
             [
              0.4444444444444444,
              "#26828e"
             ],
             [
              0.5555555555555556,
              "#1f9e89"
             ],
             [
              0.6666666666666666,
              "#35b779"
             ],
             [
              0.7777777777777778,
              "#6ece58"
             ],
             [
              0.8888888888888888,
              "#b5de2b"
             ],
             [
              1,
              "#fde725"
             ]
            ],
            "type": "histogram2d"
           }
          ],
          "histogram2dcontour": [
           {
            "colorbar": {
             "outlinewidth": 1,
             "tickcolor": "rgb(36,36,36)",
             "ticks": "outside"
            },
            "colorscale": [
             [
              0,
              "#440154"
             ],
             [
              0.1111111111111111,
              "#482878"
             ],
             [
              0.2222222222222222,
              "#3e4989"
             ],
             [
              0.3333333333333333,
              "#31688e"
             ],
             [
              0.4444444444444444,
              "#26828e"
             ],
             [
              0.5555555555555556,
              "#1f9e89"
             ],
             [
              0.6666666666666666,
              "#35b779"
             ],
             [
              0.7777777777777778,
              "#6ece58"
             ],
             [
              0.8888888888888888,
              "#b5de2b"
             ],
             [
              1,
              "#fde725"
             ]
            ],
            "type": "histogram2dcontour"
           }
          ],
          "mesh3d": [
           {
            "colorbar": {
             "outlinewidth": 1,
             "tickcolor": "rgb(36,36,36)",
             "ticks": "outside"
            },
            "type": "mesh3d"
           }
          ],
          "parcoords": [
           {
            "line": {
             "colorbar": {
              "outlinewidth": 1,
              "tickcolor": "rgb(36,36,36)",
              "ticks": "outside"
             }
            },
            "type": "parcoords"
           }
          ],
          "pie": [
           {
            "automargin": true,
            "type": "pie"
           }
          ],
          "scatter": [
           {
            "fillpattern": {
             "fillmode": "overlay",
             "size": 10,
             "solidity": 0.2
            },
            "type": "scatter"
           }
          ],
          "scatter3d": [
           {
            "line": {
             "colorbar": {
              "outlinewidth": 1,
              "tickcolor": "rgb(36,36,36)",
              "ticks": "outside"
             }
            },
            "marker": {
             "colorbar": {
              "outlinewidth": 1,
              "tickcolor": "rgb(36,36,36)",
              "ticks": "outside"
             }
            },
            "type": "scatter3d"
           }
          ],
          "scattercarpet": [
           {
            "marker": {
             "colorbar": {
              "outlinewidth": 1,
              "tickcolor": "rgb(36,36,36)",
              "ticks": "outside"
             }
            },
            "type": "scattercarpet"
           }
          ],
          "scattergeo": [
           {
            "marker": {
             "colorbar": {
              "outlinewidth": 1,
              "tickcolor": "rgb(36,36,36)",
              "ticks": "outside"
             }
            },
            "type": "scattergeo"
           }
          ],
          "scattergl": [
           {
            "marker": {
             "colorbar": {
              "outlinewidth": 1,
              "tickcolor": "rgb(36,36,36)",
              "ticks": "outside"
             }
            },
            "type": "scattergl"
           }
          ],
          "scattermapbox": [
           {
            "marker": {
             "colorbar": {
              "outlinewidth": 1,
              "tickcolor": "rgb(36,36,36)",
              "ticks": "outside"
             }
            },
            "type": "scattermapbox"
           }
          ],
          "scatterpolar": [
           {
            "marker": {
             "colorbar": {
              "outlinewidth": 1,
              "tickcolor": "rgb(36,36,36)",
              "ticks": "outside"
             }
            },
            "type": "scatterpolar"
           }
          ],
          "scatterpolargl": [
           {
            "marker": {
             "colorbar": {
              "outlinewidth": 1,
              "tickcolor": "rgb(36,36,36)",
              "ticks": "outside"
             }
            },
            "type": "scatterpolargl"
           }
          ],
          "scatterternary": [
           {
            "marker": {
             "colorbar": {
              "outlinewidth": 1,
              "tickcolor": "rgb(36,36,36)",
              "ticks": "outside"
             }
            },
            "type": "scatterternary"
           }
          ],
          "surface": [
           {
            "colorbar": {
             "outlinewidth": 1,
             "tickcolor": "rgb(36,36,36)",
             "ticks": "outside"
            },
            "colorscale": [
             [
              0,
              "#440154"
             ],
             [
              0.1111111111111111,
              "#482878"
             ],
             [
              0.2222222222222222,
              "#3e4989"
             ],
             [
              0.3333333333333333,
              "#31688e"
             ],
             [
              0.4444444444444444,
              "#26828e"
             ],
             [
              0.5555555555555556,
              "#1f9e89"
             ],
             [
              0.6666666666666666,
              "#35b779"
             ],
             [
              0.7777777777777778,
              "#6ece58"
             ],
             [
              0.8888888888888888,
              "#b5de2b"
             ],
             [
              1,
              "#fde725"
             ]
            ],
            "type": "surface"
           }
          ],
          "table": [
           {
            "cells": {
             "fill": {
              "color": "rgb(237,237,237)"
             },
             "line": {
              "color": "white"
             }
            },
            "header": {
             "fill": {
              "color": "rgb(217,217,217)"
             },
             "line": {
              "color": "white"
             }
            },
            "type": "table"
           }
          ]
         },
         "layout": {
          "annotationdefaults": {
           "arrowhead": 0,
           "arrowwidth": 1
          },
          "autotypenumbers": "strict",
          "coloraxis": {
           "colorbar": {
            "outlinewidth": 1,
            "tickcolor": "rgb(36,36,36)",
            "ticks": "outside"
           }
          },
          "colorscale": {
           "diverging": [
            [
             0,
             "rgb(103,0,31)"
            ],
            [
             0.1,
             "rgb(178,24,43)"
            ],
            [
             0.2,
             "rgb(214,96,77)"
            ],
            [
             0.3,
             "rgb(244,165,130)"
            ],
            [
             0.4,
             "rgb(253,219,199)"
            ],
            [
             0.5,
             "rgb(247,247,247)"
            ],
            [
             0.6,
             "rgb(209,229,240)"
            ],
            [
             0.7,
             "rgb(146,197,222)"
            ],
            [
             0.8,
             "rgb(67,147,195)"
            ],
            [
             0.9,
             "rgb(33,102,172)"
            ],
            [
             1,
             "rgb(5,48,97)"
            ]
           ],
           "sequential": [
            [
             0,
             "#440154"
            ],
            [
             0.1111111111111111,
             "#482878"
            ],
            [
             0.2222222222222222,
             "#3e4989"
            ],
            [
             0.3333333333333333,
             "#31688e"
            ],
            [
             0.4444444444444444,
             "#26828e"
            ],
            [
             0.5555555555555556,
             "#1f9e89"
            ],
            [
             0.6666666666666666,
             "#35b779"
            ],
            [
             0.7777777777777778,
             "#6ece58"
            ],
            [
             0.8888888888888888,
             "#b5de2b"
            ],
            [
             1,
             "#fde725"
            ]
           ],
           "sequentialminus": [
            [
             0,
             "#440154"
            ],
            [
             0.1111111111111111,
             "#482878"
            ],
            [
             0.2222222222222222,
             "#3e4989"
            ],
            [
             0.3333333333333333,
             "#31688e"
            ],
            [
             0.4444444444444444,
             "#26828e"
            ],
            [
             0.5555555555555556,
             "#1f9e89"
            ],
            [
             0.6666666666666666,
             "#35b779"
            ],
            [
             0.7777777777777778,
             "#6ece58"
            ],
            [
             0.8888888888888888,
             "#b5de2b"
            ],
            [
             1,
             "#fde725"
            ]
           ]
          },
          "colorway": [
           "#1F77B4",
           "#FF7F0E",
           "#2CA02C",
           "#D62728",
           "#9467BD",
           "#8C564B",
           "#E377C2",
           "#7F7F7F",
           "#BCBD22",
           "#17BECF"
          ],
          "font": {
           "color": "rgb(36,36,36)"
          },
          "geo": {
           "bgcolor": "white",
           "lakecolor": "white",
           "landcolor": "white",
           "showlakes": true,
           "showland": true,
           "subunitcolor": "white"
          },
          "hoverlabel": {
           "align": "left"
          },
          "hovermode": "closest",
          "mapbox": {
           "style": "light"
          },
          "paper_bgcolor": "white",
          "plot_bgcolor": "white",
          "polar": {
           "angularaxis": {
            "gridcolor": "rgb(232,232,232)",
            "linecolor": "rgb(36,36,36)",
            "showgrid": false,
            "showline": true,
            "ticks": "outside"
           },
           "bgcolor": "white",
           "radialaxis": {
            "gridcolor": "rgb(232,232,232)",
            "linecolor": "rgb(36,36,36)",
            "showgrid": false,
            "showline": true,
            "ticks": "outside"
           }
          },
          "scene": {
           "xaxis": {
            "backgroundcolor": "white",
            "gridcolor": "rgb(232,232,232)",
            "gridwidth": 2,
            "linecolor": "rgb(36,36,36)",
            "showbackground": true,
            "showgrid": false,
            "showline": true,
            "ticks": "outside",
            "zeroline": false,
            "zerolinecolor": "rgb(36,36,36)"
           },
           "yaxis": {
            "backgroundcolor": "white",
            "gridcolor": "rgb(232,232,232)",
            "gridwidth": 2,
            "linecolor": "rgb(36,36,36)",
            "showbackground": true,
            "showgrid": false,
            "showline": true,
            "ticks": "outside",
            "zeroline": false,
            "zerolinecolor": "rgb(36,36,36)"
           },
           "zaxis": {
            "backgroundcolor": "white",
            "gridcolor": "rgb(232,232,232)",
            "gridwidth": 2,
            "linecolor": "rgb(36,36,36)",
            "showbackground": true,
            "showgrid": false,
            "showline": true,
            "ticks": "outside",
            "zeroline": false,
            "zerolinecolor": "rgb(36,36,36)"
           }
          },
          "shapedefaults": {
           "fillcolor": "black",
           "line": {
            "width": 0
           },
           "opacity": 0.3
          },
          "ternary": {
           "aaxis": {
            "gridcolor": "rgb(232,232,232)",
            "linecolor": "rgb(36,36,36)",
            "showgrid": false,
            "showline": true,
            "ticks": "outside"
           },
           "baxis": {
            "gridcolor": "rgb(232,232,232)",
            "linecolor": "rgb(36,36,36)",
            "showgrid": false,
            "showline": true,
            "ticks": "outside"
           },
           "bgcolor": "white",
           "caxis": {
            "gridcolor": "rgb(232,232,232)",
            "linecolor": "rgb(36,36,36)",
            "showgrid": false,
            "showline": true,
            "ticks": "outside"
           }
          },
          "title": {
           "x": 0.05
          },
          "xaxis": {
           "automargin": true,
           "gridcolor": "rgb(232,232,232)",
           "linecolor": "rgb(36,36,36)",
           "showgrid": false,
           "showline": true,
           "ticks": "outside",
           "title": {
            "standoff": 15
           },
           "zeroline": false,
           "zerolinecolor": "rgb(36,36,36)"
          },
          "yaxis": {
           "automargin": true,
           "gridcolor": "rgb(232,232,232)",
           "linecolor": "rgb(36,36,36)",
           "showgrid": false,
           "showline": true,
           "ticks": "outside",
           "title": {
            "standoff": 15
           },
           "zeroline": false,
           "zerolinecolor": "rgb(36,36,36)"
          }
         }
        },
        "title": {
         "font": {
          "color": "Black",
          "size": 22
         },
         "text": "<b>Intertopic Distance Map</b>",
         "x": 0.5,
         "xanchor": "center",
         "y": 0.95,
         "yanchor": "top"
        },
        "width": 650,
        "xaxis": {
         "anchor": "y",
         "domain": [
          0,
          1
         ],
         "range": [
          -2.507319688796997,
          15.258403778076172
         ],
         "title": {
          "text": ""
         },
         "visible": false
        },
        "yaxis": {
         "anchor": "x",
         "domain": [
          0,
          1
         ],
         "range": [
          -13.669231414794922,
          21.912160873413086
         ],
         "title": {
          "text": ""
         },
         "visible": false
        }
       }
      }
     },
     "metadata": {},
     "output_type": "display_data"
    }
   ],
   "source": [
    "BERT_model.visualize_topics()"
   ]
  },
  {
   "cell_type": "code",
   "execution_count": null,
   "metadata": {},
   "outputs": [
    {
     "data": {
      "application/vnd.plotly.v1+json": {
       "config": {
        "plotlyServerURL": "https://plot.ly"
       },
       "data": [
        {
         "marker": {
          "color": "#D55E00"
         },
         "orientation": "h",
         "type": "bar",
         "x": [
          0.017883926697092174,
          0.021943774004947285,
          0.02406736503768412,
          0.04239777256271186,
          0.06135330554456655
         ],
         "xaxis": "x",
         "y": [
          "hat  ",
          "thermal  ",
          "gloves  ",
          "extra  ",
          "layers  "
         ],
         "yaxis": "y"
        },
        {
         "marker": {
          "color": "#0072B2"
         },
         "orientation": "h",
         "type": "bar",
         "x": [
          0.022389166095845143,
          0.024185581909556386,
          0.025187811857825784,
          0.026490435805500593,
          0.03765987291733381
         ],
         "xaxis": "x2",
         "y": [
          "cycle  ",
          "go  ",
          "appointments  ",
          "outdoor  ",
          "cancelled  "
         ],
         "yaxis": "y2"
        },
        {
         "marker": {
          "color": "#CC79A7"
         },
         "orientation": "h",
         "type": "bar",
         "x": [
          0.013670686282916124,
          0.014435691407617775,
          0.014506748854885504,
          0.018030191048585185,
          0.043123365521841615
         ],
         "xaxis": "x3",
         "y": [
          "days  ",
          "due  ",
          "garden  ",
          "go  ",
          "weather  "
         ],
         "yaxis": "y3"
        },
        {
         "marker": {
          "color": "#E69F00"
         },
         "orientation": "h",
         "type": "bar",
         "x": [
          0.02646144975625908,
          0.02663934456185073,
          0.030664787617245972,
          0.039373528983117995,
          0.046235535859540565
         ],
         "xaxis": "x4",
         "y": [
          "bought  ",
          "duvet  ",
          "heated  ",
          "bedding  ",
          "extra  "
         ],
         "yaxis": "y4"
        },
        {
         "marker": {
          "color": "#56B4E9"
         },
         "orientation": "h",
         "type": "bar",
         "x": [
          0.01948164977684309,
          0.02535078156115021,
          0.04898813127963518,
          0.05684566944327919,
          0.07960182243898627
         ],
         "xaxis": "x5",
         "y": [
          "changed  ",
          "settings  ",
          "central  ",
          "kept  ",
          "day  "
         ],
         "yaxis": "y5"
        },
        {
         "marker": {
          "color": "#009E73"
         },
         "orientation": "h",
         "type": "bar",
         "x": [
          0.020900065698164858,
          0.04018635611681356,
          0.040201796783875705,
          0.04219931095473031,
          0.06155881883404373
         ],
         "xaxis": "x6",
         "y": [
          "attend  ",
          "driving  ",
          "work  ",
          "transport  ",
          "plans  "
         ],
         "yaxis": "y6"
        },
        {
         "marker": {
          "color": "#F0E442"
         },
         "orientation": "h",
         "type": "bar",
         "x": [
          0.0375915347447744,
          0.043725645479595156,
          0.04481522284131088,
          0.06407294232383977,
          0.0662845664469893
         ],
         "xaxis": "x7",
         "y": [
          "leave  ",
          "much go  ",
          "house go  ",
          "less  ",
          "necessary  "
         ],
         "yaxis": "y7"
        },
        {
         "marker": {
          "color": "#D55E00"
         },
         "orientation": "h",
         "type": "bar",
         "x": [
          0.025054932739685253,
          0.025420575296387565,
          0.034068890013160116,
          0.04684472376809516,
          0.047665542943685024
         ],
         "xaxis": "x8",
         "y": [
          "fire earlier  ",
          "enough  ",
          "stove  ",
          "logs  ",
          "log burner  "
         ],
         "yaxis": "y8"
        }
       ],
       "layout": {
        "annotations": [
         {
          "font": {
           "size": 16
          },
          "showarrow": false,
          "text": "Topic 0",
          "x": 0.0875,
          "xanchor": "center",
          "xref": "paper",
          "y": 1,
          "yanchor": "bottom",
          "yref": "paper"
         },
         {
          "font": {
           "size": 16
          },
          "showarrow": false,
          "text": "Topic 1",
          "x": 0.36250000000000004,
          "xanchor": "center",
          "xref": "paper",
          "y": 1,
          "yanchor": "bottom",
          "yref": "paper"
         },
         {
          "font": {
           "size": 16
          },
          "showarrow": false,
          "text": "Topic 2",
          "x": 0.6375000000000001,
          "xanchor": "center",
          "xref": "paper",
          "y": 1,
          "yanchor": "bottom",
          "yref": "paper"
         },
         {
          "font": {
           "size": 16
          },
          "showarrow": false,
          "text": "Topic 3",
          "x": 0.9125,
          "xanchor": "center",
          "xref": "paper",
          "y": 1,
          "yanchor": "bottom",
          "yref": "paper"
         },
         {
          "font": {
           "size": 16
          },
          "showarrow": false,
          "text": "Topic 4",
          "x": 0.0875,
          "xanchor": "center",
          "xref": "paper",
          "y": 0.4,
          "yanchor": "bottom",
          "yref": "paper"
         },
         {
          "font": {
           "size": 16
          },
          "showarrow": false,
          "text": "Topic 5",
          "x": 0.36250000000000004,
          "xanchor": "center",
          "xref": "paper",
          "y": 0.4,
          "yanchor": "bottom",
          "yref": "paper"
         },
         {
          "font": {
           "size": 16
          },
          "showarrow": false,
          "text": "Topic 6",
          "x": 0.6375000000000001,
          "xanchor": "center",
          "xref": "paper",
          "y": 0.4,
          "yanchor": "bottom",
          "yref": "paper"
         },
         {
          "font": {
           "size": 16
          },
          "showarrow": false,
          "text": "Topic 7",
          "x": 0.9125,
          "xanchor": "center",
          "xref": "paper",
          "y": 0.4,
          "yanchor": "bottom",
          "yref": "paper"
         }
        ],
        "height": 500,
        "hoverlabel": {
         "bgcolor": "white",
         "font": {
          "family": "Rockwell",
          "size": 16
         }
        },
        "showlegend": false,
        "template": {
         "data": {
          "bar": [
           {
            "error_x": {
             "color": "#2a3f5f"
            },
            "error_y": {
             "color": "#2a3f5f"
            },
            "marker": {
             "line": {
              "color": "white",
              "width": 0.5
             },
             "pattern": {
              "fillmode": "overlay",
              "size": 10,
              "solidity": 0.2
             }
            },
            "type": "bar"
           }
          ],
          "barpolar": [
           {
            "marker": {
             "line": {
              "color": "white",
              "width": 0.5
             },
             "pattern": {
              "fillmode": "overlay",
              "size": 10,
              "solidity": 0.2
             }
            },
            "type": "barpolar"
           }
          ],
          "carpet": [
           {
            "aaxis": {
             "endlinecolor": "#2a3f5f",
             "gridcolor": "#C8D4E3",
             "linecolor": "#C8D4E3",
             "minorgridcolor": "#C8D4E3",
             "startlinecolor": "#2a3f5f"
            },
            "baxis": {
             "endlinecolor": "#2a3f5f",
             "gridcolor": "#C8D4E3",
             "linecolor": "#C8D4E3",
             "minorgridcolor": "#C8D4E3",
             "startlinecolor": "#2a3f5f"
            },
            "type": "carpet"
           }
          ],
          "choropleth": [
           {
            "colorbar": {
             "outlinewidth": 0,
             "ticks": ""
            },
            "type": "choropleth"
           }
          ],
          "contour": [
           {
            "colorbar": {
             "outlinewidth": 0,
             "ticks": ""
            },
            "colorscale": [
             [
              0,
              "#0d0887"
             ],
             [
              0.1111111111111111,
              "#46039f"
             ],
             [
              0.2222222222222222,
              "#7201a8"
             ],
             [
              0.3333333333333333,
              "#9c179e"
             ],
             [
              0.4444444444444444,
              "#bd3786"
             ],
             [
              0.5555555555555556,
              "#d8576b"
             ],
             [
              0.6666666666666666,
              "#ed7953"
             ],
             [
              0.7777777777777778,
              "#fb9f3a"
             ],
             [
              0.8888888888888888,
              "#fdca26"
             ],
             [
              1,
              "#f0f921"
             ]
            ],
            "type": "contour"
           }
          ],
          "contourcarpet": [
           {
            "colorbar": {
             "outlinewidth": 0,
             "ticks": ""
            },
            "type": "contourcarpet"
           }
          ],
          "heatmap": [
           {
            "colorbar": {
             "outlinewidth": 0,
             "ticks": ""
            },
            "colorscale": [
             [
              0,
              "#0d0887"
             ],
             [
              0.1111111111111111,
              "#46039f"
             ],
             [
              0.2222222222222222,
              "#7201a8"
             ],
             [
              0.3333333333333333,
              "#9c179e"
             ],
             [
              0.4444444444444444,
              "#bd3786"
             ],
             [
              0.5555555555555556,
              "#d8576b"
             ],
             [
              0.6666666666666666,
              "#ed7953"
             ],
             [
              0.7777777777777778,
              "#fb9f3a"
             ],
             [
              0.8888888888888888,
              "#fdca26"
             ],
             [
              1,
              "#f0f921"
             ]
            ],
            "type": "heatmap"
           }
          ],
          "heatmapgl": [
           {
            "colorbar": {
             "outlinewidth": 0,
             "ticks": ""
            },
            "colorscale": [
             [
              0,
              "#0d0887"
             ],
             [
              0.1111111111111111,
              "#46039f"
             ],
             [
              0.2222222222222222,
              "#7201a8"
             ],
             [
              0.3333333333333333,
              "#9c179e"
             ],
             [
              0.4444444444444444,
              "#bd3786"
             ],
             [
              0.5555555555555556,
              "#d8576b"
             ],
             [
              0.6666666666666666,
              "#ed7953"
             ],
             [
              0.7777777777777778,
              "#fb9f3a"
             ],
             [
              0.8888888888888888,
              "#fdca26"
             ],
             [
              1,
              "#f0f921"
             ]
            ],
            "type": "heatmapgl"
           }
          ],
          "histogram": [
           {
            "marker": {
             "pattern": {
              "fillmode": "overlay",
              "size": 10,
              "solidity": 0.2
             }
            },
            "type": "histogram"
           }
          ],
          "histogram2d": [
           {
            "colorbar": {
             "outlinewidth": 0,
             "ticks": ""
            },
            "colorscale": [
             [
              0,
              "#0d0887"
             ],
             [
              0.1111111111111111,
              "#46039f"
             ],
             [
              0.2222222222222222,
              "#7201a8"
             ],
             [
              0.3333333333333333,
              "#9c179e"
             ],
             [
              0.4444444444444444,
              "#bd3786"
             ],
             [
              0.5555555555555556,
              "#d8576b"
             ],
             [
              0.6666666666666666,
              "#ed7953"
             ],
             [
              0.7777777777777778,
              "#fb9f3a"
             ],
             [
              0.8888888888888888,
              "#fdca26"
             ],
             [
              1,
              "#f0f921"
             ]
            ],
            "type": "histogram2d"
           }
          ],
          "histogram2dcontour": [
           {
            "colorbar": {
             "outlinewidth": 0,
             "ticks": ""
            },
            "colorscale": [
             [
              0,
              "#0d0887"
             ],
             [
              0.1111111111111111,
              "#46039f"
             ],
             [
              0.2222222222222222,
              "#7201a8"
             ],
             [
              0.3333333333333333,
              "#9c179e"
             ],
             [
              0.4444444444444444,
              "#bd3786"
             ],
             [
              0.5555555555555556,
              "#d8576b"
             ],
             [
              0.6666666666666666,
              "#ed7953"
             ],
             [
              0.7777777777777778,
              "#fb9f3a"
             ],
             [
              0.8888888888888888,
              "#fdca26"
             ],
             [
              1,
              "#f0f921"
             ]
            ],
            "type": "histogram2dcontour"
           }
          ],
          "mesh3d": [
           {
            "colorbar": {
             "outlinewidth": 0,
             "ticks": ""
            },
            "type": "mesh3d"
           }
          ],
          "parcoords": [
           {
            "line": {
             "colorbar": {
              "outlinewidth": 0,
              "ticks": ""
             }
            },
            "type": "parcoords"
           }
          ],
          "pie": [
           {
            "automargin": true,
            "type": "pie"
           }
          ],
          "scatter": [
           {
            "fillpattern": {
             "fillmode": "overlay",
             "size": 10,
             "solidity": 0.2
            },
            "type": "scatter"
           }
          ],
          "scatter3d": [
           {
            "line": {
             "colorbar": {
              "outlinewidth": 0,
              "ticks": ""
             }
            },
            "marker": {
             "colorbar": {
              "outlinewidth": 0,
              "ticks": ""
             }
            },
            "type": "scatter3d"
           }
          ],
          "scattercarpet": [
           {
            "marker": {
             "colorbar": {
              "outlinewidth": 0,
              "ticks": ""
             }
            },
            "type": "scattercarpet"
           }
          ],
          "scattergeo": [
           {
            "marker": {
             "colorbar": {
              "outlinewidth": 0,
              "ticks": ""
             }
            },
            "type": "scattergeo"
           }
          ],
          "scattergl": [
           {
            "marker": {
             "colorbar": {
              "outlinewidth": 0,
              "ticks": ""
             }
            },
            "type": "scattergl"
           }
          ],
          "scattermapbox": [
           {
            "marker": {
             "colorbar": {
              "outlinewidth": 0,
              "ticks": ""
             }
            },
            "type": "scattermapbox"
           }
          ],
          "scatterpolar": [
           {
            "marker": {
             "colorbar": {
              "outlinewidth": 0,
              "ticks": ""
             }
            },
            "type": "scatterpolar"
           }
          ],
          "scatterpolargl": [
           {
            "marker": {
             "colorbar": {
              "outlinewidth": 0,
              "ticks": ""
             }
            },
            "type": "scatterpolargl"
           }
          ],
          "scatterternary": [
           {
            "marker": {
             "colorbar": {
              "outlinewidth": 0,
              "ticks": ""
             }
            },
            "type": "scatterternary"
           }
          ],
          "surface": [
           {
            "colorbar": {
             "outlinewidth": 0,
             "ticks": ""
            },
            "colorscale": [
             [
              0,
              "#0d0887"
             ],
             [
              0.1111111111111111,
              "#46039f"
             ],
             [
              0.2222222222222222,
              "#7201a8"
             ],
             [
              0.3333333333333333,
              "#9c179e"
             ],
             [
              0.4444444444444444,
              "#bd3786"
             ],
             [
              0.5555555555555556,
              "#d8576b"
             ],
             [
              0.6666666666666666,
              "#ed7953"
             ],
             [
              0.7777777777777778,
              "#fb9f3a"
             ],
             [
              0.8888888888888888,
              "#fdca26"
             ],
             [
              1,
              "#f0f921"
             ]
            ],
            "type": "surface"
           }
          ],
          "table": [
           {
            "cells": {
             "fill": {
              "color": "#EBF0F8"
             },
             "line": {
              "color": "white"
             }
            },
            "header": {
             "fill": {
              "color": "#C8D4E3"
             },
             "line": {
              "color": "white"
             }
            },
            "type": "table"
           }
          ]
         },
         "layout": {
          "annotationdefaults": {
           "arrowcolor": "#2a3f5f",
           "arrowhead": 0,
           "arrowwidth": 1
          },
          "autotypenumbers": "strict",
          "coloraxis": {
           "colorbar": {
            "outlinewidth": 0,
            "ticks": ""
           }
          },
          "colorscale": {
           "diverging": [
            [
             0,
             "#8e0152"
            ],
            [
             0.1,
             "#c51b7d"
            ],
            [
             0.2,
             "#de77ae"
            ],
            [
             0.3,
             "#f1b6da"
            ],
            [
             0.4,
             "#fde0ef"
            ],
            [
             0.5,
             "#f7f7f7"
            ],
            [
             0.6,
             "#e6f5d0"
            ],
            [
             0.7,
             "#b8e186"
            ],
            [
             0.8,
             "#7fbc41"
            ],
            [
             0.9,
             "#4d9221"
            ],
            [
             1,
             "#276419"
            ]
           ],
           "sequential": [
            [
             0,
             "#0d0887"
            ],
            [
             0.1111111111111111,
             "#46039f"
            ],
            [
             0.2222222222222222,
             "#7201a8"
            ],
            [
             0.3333333333333333,
             "#9c179e"
            ],
            [
             0.4444444444444444,
             "#bd3786"
            ],
            [
             0.5555555555555556,
             "#d8576b"
            ],
            [
             0.6666666666666666,
             "#ed7953"
            ],
            [
             0.7777777777777778,
             "#fb9f3a"
            ],
            [
             0.8888888888888888,
             "#fdca26"
            ],
            [
             1,
             "#f0f921"
            ]
           ],
           "sequentialminus": [
            [
             0,
             "#0d0887"
            ],
            [
             0.1111111111111111,
             "#46039f"
            ],
            [
             0.2222222222222222,
             "#7201a8"
            ],
            [
             0.3333333333333333,
             "#9c179e"
            ],
            [
             0.4444444444444444,
             "#bd3786"
            ],
            [
             0.5555555555555556,
             "#d8576b"
            ],
            [
             0.6666666666666666,
             "#ed7953"
            ],
            [
             0.7777777777777778,
             "#fb9f3a"
            ],
            [
             0.8888888888888888,
             "#fdca26"
            ],
            [
             1,
             "#f0f921"
            ]
           ]
          },
          "colorway": [
           "#636efa",
           "#EF553B",
           "#00cc96",
           "#ab63fa",
           "#FFA15A",
           "#19d3f3",
           "#FF6692",
           "#B6E880",
           "#FF97FF",
           "#FECB52"
          ],
          "font": {
           "color": "#2a3f5f"
          },
          "geo": {
           "bgcolor": "white",
           "lakecolor": "white",
           "landcolor": "white",
           "showlakes": true,
           "showland": true,
           "subunitcolor": "#C8D4E3"
          },
          "hoverlabel": {
           "align": "left"
          },
          "hovermode": "closest",
          "mapbox": {
           "style": "light"
          },
          "paper_bgcolor": "white",
          "plot_bgcolor": "white",
          "polar": {
           "angularaxis": {
            "gridcolor": "#EBF0F8",
            "linecolor": "#EBF0F8",
            "ticks": ""
           },
           "bgcolor": "white",
           "radialaxis": {
            "gridcolor": "#EBF0F8",
            "linecolor": "#EBF0F8",
            "ticks": ""
           }
          },
          "scene": {
           "xaxis": {
            "backgroundcolor": "white",
            "gridcolor": "#DFE8F3",
            "gridwidth": 2,
            "linecolor": "#EBF0F8",
            "showbackground": true,
            "ticks": "",
            "zerolinecolor": "#EBF0F8"
           },
           "yaxis": {
            "backgroundcolor": "white",
            "gridcolor": "#DFE8F3",
            "gridwidth": 2,
            "linecolor": "#EBF0F8",
            "showbackground": true,
            "ticks": "",
            "zerolinecolor": "#EBF0F8"
           },
           "zaxis": {
            "backgroundcolor": "white",
            "gridcolor": "#DFE8F3",
            "gridwidth": 2,
            "linecolor": "#EBF0F8",
            "showbackground": true,
            "ticks": "",
            "zerolinecolor": "#EBF0F8"
           }
          },
          "shapedefaults": {
           "line": {
            "color": "#2a3f5f"
           }
          },
          "ternary": {
           "aaxis": {
            "gridcolor": "#DFE8F3",
            "linecolor": "#A2B1C6",
            "ticks": ""
           },
           "baxis": {
            "gridcolor": "#DFE8F3",
            "linecolor": "#A2B1C6",
            "ticks": ""
           },
           "bgcolor": "white",
           "caxis": {
            "gridcolor": "#DFE8F3",
            "linecolor": "#A2B1C6",
            "ticks": ""
           }
          },
          "title": {
           "x": 0.05
          },
          "xaxis": {
           "automargin": true,
           "gridcolor": "#EBF0F8",
           "linecolor": "#EBF0F8",
           "ticks": "",
           "title": {
            "standoff": 15
           },
           "zerolinecolor": "#EBF0F8",
           "zerolinewidth": 2
          },
          "yaxis": {
           "automargin": true,
           "gridcolor": "#EBF0F8",
           "linecolor": "#EBF0F8",
           "ticks": "",
           "title": {
            "standoff": 15
           },
           "zerolinecolor": "#EBF0F8",
           "zerolinewidth": 2
          }
         }
        },
        "title": {
         "font": {
          "color": "Black",
          "size": 22
         },
         "text": "Topic Word Scores",
         "x": 0.5,
         "xanchor": "center",
         "yanchor": "top"
        },
        "width": 1000,
        "xaxis": {
         "anchor": "y",
         "domain": [
          0,
          0.175
         ],
         "showgrid": true
        },
        "xaxis2": {
         "anchor": "y2",
         "domain": [
          0.275,
          0.45
         ],
         "showgrid": true
        },
        "xaxis3": {
         "anchor": "y3",
         "domain": [
          0.55,
          0.7250000000000001
         ],
         "showgrid": true
        },
        "xaxis4": {
         "anchor": "y4",
         "domain": [
          0.825,
          1
         ],
         "showgrid": true
        },
        "xaxis5": {
         "anchor": "y5",
         "domain": [
          0,
          0.175
         ],
         "showgrid": true
        },
        "xaxis6": {
         "anchor": "y6",
         "domain": [
          0.275,
          0.45
         ],
         "showgrid": true
        },
        "xaxis7": {
         "anchor": "y7",
         "domain": [
          0.55,
          0.7250000000000001
         ],
         "showgrid": true
        },
        "xaxis8": {
         "anchor": "y8",
         "domain": [
          0.825,
          1
         ],
         "showgrid": true
        },
        "yaxis": {
         "anchor": "x",
         "domain": [
          0.6000000000000001,
          1
         ],
         "showgrid": true
        },
        "yaxis2": {
         "anchor": "x2",
         "domain": [
          0.6000000000000001,
          1
         ],
         "showgrid": true
        },
        "yaxis3": {
         "anchor": "x3",
         "domain": [
          0.6000000000000001,
          1
         ],
         "showgrid": true
        },
        "yaxis4": {
         "anchor": "x4",
         "domain": [
          0.6000000000000001,
          1
         ],
         "showgrid": true
        },
        "yaxis5": {
         "anchor": "x5",
         "domain": [
          0,
          0.4
         ],
         "showgrid": true
        },
        "yaxis6": {
         "anchor": "x6",
         "domain": [
          0,
          0.4
         ],
         "showgrid": true
        },
        "yaxis7": {
         "anchor": "x7",
         "domain": [
          0,
          0.4
         ],
         "showgrid": true
        },
        "yaxis8": {
         "anchor": "x8",
         "domain": [
          0,
          0.4
         ],
         "showgrid": true
        }
       }
      }
     },
     "metadata": {},
     "output_type": "display_data"
    }
   ],
   "source": [
    "number_of_topics = len(BERT_model.get_topic_info())\n",
    "fig = BERT_model.visualize_barchart(top_n_topics=number_of_topics)\n",
    "fig"
   ]
  },
  {
   "cell_type": "code",
   "execution_count": null,
   "metadata": {},
   "outputs": [
    {
     "data": {
      "application/vnd.plotly.v1+json": {
       "config": {
        "plotlyServerURL": "https://plot.ly"
       },
       "data": [
        {
         "hoverinfo": "text",
         "marker": {
          "color": "rgb(61,153,112)"
         },
         "mode": "lines",
         "type": "scatter",
         "x": [
          0,
          0.7242353975446852,
          0.7242353975446852,
          0
         ],
         "xaxis": "x",
         "y": [
          -15,
          -15,
          -25,
          -25
         ],
         "yaxis": "y"
        },
        {
         "hoverinfo": "text",
         "marker": {
          "color": "rgb(61,153,112)"
         },
         "mode": "lines",
         "type": "scatter",
         "x": [
          0,
          0.871147403435153,
          0.871147403435153,
          0.7242353975446852
         ],
         "xaxis": "x",
         "y": [
          -5,
          -5,
          -20,
          -20
         ],
         "yaxis": "y"
        },
        {
         "hoverinfo": "text",
         "marker": {
          "color": "rgb(61,153,112)"
         },
         "mode": "lines",
         "type": "scatter",
         "x": [
          0.871147403435153,
          0.9085500466473952,
          0.9085500466473952,
          0
         ],
         "xaxis": "x",
         "y": [
          -12.5,
          -12.5,
          -35,
          -35
         ],
         "yaxis": "y"
        },
        {
         "hoverinfo": "text",
         "marker": {
          "color": "rgb(255,65,54)"
         },
         "mode": "lines",
         "type": "scatter",
         "x": [
          0,
          0.8229186711683841,
          0.8229186711683841,
          0
         ],
         "xaxis": "x",
         "y": [
          -55,
          -55,
          -65,
          -65
         ],
         "yaxis": "y"
        },
        {
         "hoverinfo": "text",
         "marker": {
          "color": "rgb(255,65,54)"
         },
         "mode": "lines",
         "type": "scatter",
         "x": [
          0,
          0.8924013557035809,
          0.8924013557035809,
          0
         ],
         "xaxis": "x",
         "y": [
          -75,
          -75,
          -85,
          -85
         ],
         "yaxis": "y"
        },
        {
         "hoverinfo": "text",
         "marker": {
          "color": "rgb(255,65,54)"
         },
         "mode": "lines",
         "type": "scatter",
         "x": [
          0.8229186711683841,
          0.9222005150902525,
          0.9222005150902525,
          0.8924013557035809
         ],
         "xaxis": "x",
         "y": [
          -60,
          -60,
          -80,
          -80
         ],
         "yaxis": "y"
        },
        {
         "hoverinfo": "text",
         "marker": {
          "color": "rgb(255,65,54)"
         },
         "mode": "lines",
         "type": "scatter",
         "x": [
          0,
          0.9359270716586985,
          0.9359270716586985,
          0.9222005150902525
         ],
         "xaxis": "x",
         "y": [
          -45,
          -45,
          -70,
          -70
         ],
         "yaxis": "y"
        },
        {
         "hoverinfo": "text",
         "marker": {
          "color": "rgb(255,65,54)"
         },
         "mode": "lines",
         "type": "scatter",
         "x": [
          0.9359270716586985,
          0.9902587738286751,
          0.9902587738286751,
          0
         ],
         "xaxis": "x",
         "y": [
          -57.5,
          -57.5,
          -95,
          -95
         ],
         "yaxis": "y"
        },
        {
         "hoverinfo": "text",
         "marker": {
          "color": "rgb(35,205,205)"
         },
         "mode": "lines",
         "type": "scatter",
         "x": [
          0,
          0.9103667761844475,
          0.9103667761844475,
          0
         ],
         "xaxis": "x",
         "y": [
          -105,
          -105,
          -115,
          -115
         ],
         "yaxis": "y"
        },
        {
         "hoverinfo": "text",
         "marker": {
          "color": "rgb(35,205,205)"
         },
         "mode": "lines",
         "type": "scatter",
         "x": [
          0,
          0.9259034679661052,
          0.9259034679661052,
          0
         ],
         "xaxis": "x",
         "y": [
          -135,
          -135,
          -145,
          -145
         ],
         "yaxis": "y"
        },
        {
         "hoverinfo": "text",
         "marker": {
          "color": "rgb(35,205,205)"
         },
         "mode": "lines",
         "type": "scatter",
         "x": [
          0,
          0.9733905935659557,
          0.9733905935659557,
          0.9259034679661052
         ],
         "xaxis": "x",
         "y": [
          -125,
          -125,
          -140,
          -140
         ],
         "yaxis": "y"
        },
        {
         "hoverinfo": "text",
         "marker": {
          "color": "rgb(35,205,205)"
         },
         "mode": "lines",
         "type": "scatter",
         "x": [
          0.9733905935659557,
          0.9832338057576807,
          0.9832338057576807,
          0
         ],
         "xaxis": "x",
         "y": [
          -132.5,
          -132.5,
          -155,
          -155
         ],
         "yaxis": "y"
        },
        {
         "hoverinfo": "text",
         "marker": {
          "color": "rgb(35,205,205)"
         },
         "mode": "lines",
         "type": "scatter",
         "x": [
          0.9103667761844475,
          0.997005216949997,
          0.997005216949997,
          0.9832338057576807
         ],
         "xaxis": "x",
         "y": [
          -110,
          -110,
          -143.75,
          -143.75
         ],
         "yaxis": "y"
        },
        {
         "hoverinfo": "text",
         "marker": {
          "color": "rgb(133,20,75)"
         },
         "mode": "lines",
         "type": "scatter",
         "x": [
          0,
          0.8377979719451822,
          0.8377979719451822,
          0
         ],
         "xaxis": "x",
         "y": [
          -165,
          -165,
          -175,
          -175
         ],
         "yaxis": "y"
        },
        {
         "hoverinfo": "text",
         "marker": {
          "color": "rgb(0,116,217)"
         },
         "mode": "lines",
         "type": "scatter",
         "x": [
          0.997005216949997,
          1.0932156027336255,
          1.0932156027336255,
          0.8377979719451822
         ],
         "xaxis": "x",
         "y": [
          -126.875,
          -126.875,
          -170,
          -170
         ],
         "yaxis": "y"
        },
        {
         "hoverinfo": "text",
         "marker": {
          "color": "rgb(0,116,217)"
         },
         "mode": "lines",
         "type": "scatter",
         "x": [
          0.9902587738286751,
          1.1484865122633885,
          1.1484865122633885,
          1.0932156027336255
         ],
         "xaxis": "x",
         "y": [
          -76.25,
          -76.25,
          -148.4375,
          -148.4375
         ],
         "yaxis": "y"
        },
        {
         "hoverinfo": "text",
         "marker": {
          "color": "rgb(0,116,217)"
         },
         "mode": "lines",
         "type": "scatter",
         "x": [
          0.9085500466473952,
          1.2467380232687661,
          1.2467380232687661,
          1.1484865122633885
         ],
         "xaxis": "x",
         "y": [
          -23.75,
          -23.75,
          -112.34375,
          -112.34375
         ],
         "yaxis": "y"
        }
       ],
       "layout": {
        "autosize": false,
        "height": 470,
        "hoverlabel": {
         "bgcolor": "white",
         "font": {
          "family": "Rockwell",
          "size": 16
         }
        },
        "hovermode": "closest",
        "plot_bgcolor": "#ECEFF1",
        "showlegend": false,
        "template": {
         "data": {
          "bar": [
           {
            "error_x": {
             "color": "#2a3f5f"
            },
            "error_y": {
             "color": "#2a3f5f"
            },
            "marker": {
             "line": {
              "color": "white",
              "width": 0.5
             },
             "pattern": {
              "fillmode": "overlay",
              "size": 10,
              "solidity": 0.2
             }
            },
            "type": "bar"
           }
          ],
          "barpolar": [
           {
            "marker": {
             "line": {
              "color": "white",
              "width": 0.5
             },
             "pattern": {
              "fillmode": "overlay",
              "size": 10,
              "solidity": 0.2
             }
            },
            "type": "barpolar"
           }
          ],
          "carpet": [
           {
            "aaxis": {
             "endlinecolor": "#2a3f5f",
             "gridcolor": "#C8D4E3",
             "linecolor": "#C8D4E3",
             "minorgridcolor": "#C8D4E3",
             "startlinecolor": "#2a3f5f"
            },
            "baxis": {
             "endlinecolor": "#2a3f5f",
             "gridcolor": "#C8D4E3",
             "linecolor": "#C8D4E3",
             "minorgridcolor": "#C8D4E3",
             "startlinecolor": "#2a3f5f"
            },
            "type": "carpet"
           }
          ],
          "choropleth": [
           {
            "colorbar": {
             "outlinewidth": 0,
             "ticks": ""
            },
            "type": "choropleth"
           }
          ],
          "contour": [
           {
            "colorbar": {
             "outlinewidth": 0,
             "ticks": ""
            },
            "colorscale": [
             [
              0,
              "#0d0887"
             ],
             [
              0.1111111111111111,
              "#46039f"
             ],
             [
              0.2222222222222222,
              "#7201a8"
             ],
             [
              0.3333333333333333,
              "#9c179e"
             ],
             [
              0.4444444444444444,
              "#bd3786"
             ],
             [
              0.5555555555555556,
              "#d8576b"
             ],
             [
              0.6666666666666666,
              "#ed7953"
             ],
             [
              0.7777777777777778,
              "#fb9f3a"
             ],
             [
              0.8888888888888888,
              "#fdca26"
             ],
             [
              1,
              "#f0f921"
             ]
            ],
            "type": "contour"
           }
          ],
          "contourcarpet": [
           {
            "colorbar": {
             "outlinewidth": 0,
             "ticks": ""
            },
            "type": "contourcarpet"
           }
          ],
          "heatmap": [
           {
            "colorbar": {
             "outlinewidth": 0,
             "ticks": ""
            },
            "colorscale": [
             [
              0,
              "#0d0887"
             ],
             [
              0.1111111111111111,
              "#46039f"
             ],
             [
              0.2222222222222222,
              "#7201a8"
             ],
             [
              0.3333333333333333,
              "#9c179e"
             ],
             [
              0.4444444444444444,
              "#bd3786"
             ],
             [
              0.5555555555555556,
              "#d8576b"
             ],
             [
              0.6666666666666666,
              "#ed7953"
             ],
             [
              0.7777777777777778,
              "#fb9f3a"
             ],
             [
              0.8888888888888888,
              "#fdca26"
             ],
             [
              1,
              "#f0f921"
             ]
            ],
            "type": "heatmap"
           }
          ],
          "heatmapgl": [
           {
            "colorbar": {
             "outlinewidth": 0,
             "ticks": ""
            },
            "colorscale": [
             [
              0,
              "#0d0887"
             ],
             [
              0.1111111111111111,
              "#46039f"
             ],
             [
              0.2222222222222222,
              "#7201a8"
             ],
             [
              0.3333333333333333,
              "#9c179e"
             ],
             [
              0.4444444444444444,
              "#bd3786"
             ],
             [
              0.5555555555555556,
              "#d8576b"
             ],
             [
              0.6666666666666666,
              "#ed7953"
             ],
             [
              0.7777777777777778,
              "#fb9f3a"
             ],
             [
              0.8888888888888888,
              "#fdca26"
             ],
             [
              1,
              "#f0f921"
             ]
            ],
            "type": "heatmapgl"
           }
          ],
          "histogram": [
           {
            "marker": {
             "pattern": {
              "fillmode": "overlay",
              "size": 10,
              "solidity": 0.2
             }
            },
            "type": "histogram"
           }
          ],
          "histogram2d": [
           {
            "colorbar": {
             "outlinewidth": 0,
             "ticks": ""
            },
            "colorscale": [
             [
              0,
              "#0d0887"
             ],
             [
              0.1111111111111111,
              "#46039f"
             ],
             [
              0.2222222222222222,
              "#7201a8"
             ],
             [
              0.3333333333333333,
              "#9c179e"
             ],
             [
              0.4444444444444444,
              "#bd3786"
             ],
             [
              0.5555555555555556,
              "#d8576b"
             ],
             [
              0.6666666666666666,
              "#ed7953"
             ],
             [
              0.7777777777777778,
              "#fb9f3a"
             ],
             [
              0.8888888888888888,
              "#fdca26"
             ],
             [
              1,
              "#f0f921"
             ]
            ],
            "type": "histogram2d"
           }
          ],
          "histogram2dcontour": [
           {
            "colorbar": {
             "outlinewidth": 0,
             "ticks": ""
            },
            "colorscale": [
             [
              0,
              "#0d0887"
             ],
             [
              0.1111111111111111,
              "#46039f"
             ],
             [
              0.2222222222222222,
              "#7201a8"
             ],
             [
              0.3333333333333333,
              "#9c179e"
             ],
             [
              0.4444444444444444,
              "#bd3786"
             ],
             [
              0.5555555555555556,
              "#d8576b"
             ],
             [
              0.6666666666666666,
              "#ed7953"
             ],
             [
              0.7777777777777778,
              "#fb9f3a"
             ],
             [
              0.8888888888888888,
              "#fdca26"
             ],
             [
              1,
              "#f0f921"
             ]
            ],
            "type": "histogram2dcontour"
           }
          ],
          "mesh3d": [
           {
            "colorbar": {
             "outlinewidth": 0,
             "ticks": ""
            },
            "type": "mesh3d"
           }
          ],
          "parcoords": [
           {
            "line": {
             "colorbar": {
              "outlinewidth": 0,
              "ticks": ""
             }
            },
            "type": "parcoords"
           }
          ],
          "pie": [
           {
            "automargin": true,
            "type": "pie"
           }
          ],
          "scatter": [
           {
            "fillpattern": {
             "fillmode": "overlay",
             "size": 10,
             "solidity": 0.2
            },
            "type": "scatter"
           }
          ],
          "scatter3d": [
           {
            "line": {
             "colorbar": {
              "outlinewidth": 0,
              "ticks": ""
             }
            },
            "marker": {
             "colorbar": {
              "outlinewidth": 0,
              "ticks": ""
             }
            },
            "type": "scatter3d"
           }
          ],
          "scattercarpet": [
           {
            "marker": {
             "colorbar": {
              "outlinewidth": 0,
              "ticks": ""
             }
            },
            "type": "scattercarpet"
           }
          ],
          "scattergeo": [
           {
            "marker": {
             "colorbar": {
              "outlinewidth": 0,
              "ticks": ""
             }
            },
            "type": "scattergeo"
           }
          ],
          "scattergl": [
           {
            "marker": {
             "colorbar": {
              "outlinewidth": 0,
              "ticks": ""
             }
            },
            "type": "scattergl"
           }
          ],
          "scattermapbox": [
           {
            "marker": {
             "colorbar": {
              "outlinewidth": 0,
              "ticks": ""
             }
            },
            "type": "scattermapbox"
           }
          ],
          "scatterpolar": [
           {
            "marker": {
             "colorbar": {
              "outlinewidth": 0,
              "ticks": ""
             }
            },
            "type": "scatterpolar"
           }
          ],
          "scatterpolargl": [
           {
            "marker": {
             "colorbar": {
              "outlinewidth": 0,
              "ticks": ""
             }
            },
            "type": "scatterpolargl"
           }
          ],
          "scatterternary": [
           {
            "marker": {
             "colorbar": {
              "outlinewidth": 0,
              "ticks": ""
             }
            },
            "type": "scatterternary"
           }
          ],
          "surface": [
           {
            "colorbar": {
             "outlinewidth": 0,
             "ticks": ""
            },
            "colorscale": [
             [
              0,
              "#0d0887"
             ],
             [
              0.1111111111111111,
              "#46039f"
             ],
             [
              0.2222222222222222,
              "#7201a8"
             ],
             [
              0.3333333333333333,
              "#9c179e"
             ],
             [
              0.4444444444444444,
              "#bd3786"
             ],
             [
              0.5555555555555556,
              "#d8576b"
             ],
             [
              0.6666666666666666,
              "#ed7953"
             ],
             [
              0.7777777777777778,
              "#fb9f3a"
             ],
             [
              0.8888888888888888,
              "#fdca26"
             ],
             [
              1,
              "#f0f921"
             ]
            ],
            "type": "surface"
           }
          ],
          "table": [
           {
            "cells": {
             "fill": {
              "color": "#EBF0F8"
             },
             "line": {
              "color": "white"
             }
            },
            "header": {
             "fill": {
              "color": "#C8D4E3"
             },
             "line": {
              "color": "white"
             }
            },
            "type": "table"
           }
          ]
         },
         "layout": {
          "annotationdefaults": {
           "arrowcolor": "#2a3f5f",
           "arrowhead": 0,
           "arrowwidth": 1
          },
          "autotypenumbers": "strict",
          "coloraxis": {
           "colorbar": {
            "outlinewidth": 0,
            "ticks": ""
           }
          },
          "colorscale": {
           "diverging": [
            [
             0,
             "#8e0152"
            ],
            [
             0.1,
             "#c51b7d"
            ],
            [
             0.2,
             "#de77ae"
            ],
            [
             0.3,
             "#f1b6da"
            ],
            [
             0.4,
             "#fde0ef"
            ],
            [
             0.5,
             "#f7f7f7"
            ],
            [
             0.6,
             "#e6f5d0"
            ],
            [
             0.7,
             "#b8e186"
            ],
            [
             0.8,
             "#7fbc41"
            ],
            [
             0.9,
             "#4d9221"
            ],
            [
             1,
             "#276419"
            ]
           ],
           "sequential": [
            [
             0,
             "#0d0887"
            ],
            [
             0.1111111111111111,
             "#46039f"
            ],
            [
             0.2222222222222222,
             "#7201a8"
            ],
            [
             0.3333333333333333,
             "#9c179e"
            ],
            [
             0.4444444444444444,
             "#bd3786"
            ],
            [
             0.5555555555555556,
             "#d8576b"
            ],
            [
             0.6666666666666666,
             "#ed7953"
            ],
            [
             0.7777777777777778,
             "#fb9f3a"
            ],
            [
             0.8888888888888888,
             "#fdca26"
            ],
            [
             1,
             "#f0f921"
            ]
           ],
           "sequentialminus": [
            [
             0,
             "#0d0887"
            ],
            [
             0.1111111111111111,
             "#46039f"
            ],
            [
             0.2222222222222222,
             "#7201a8"
            ],
            [
             0.3333333333333333,
             "#9c179e"
            ],
            [
             0.4444444444444444,
             "#bd3786"
            ],
            [
             0.5555555555555556,
             "#d8576b"
            ],
            [
             0.6666666666666666,
             "#ed7953"
            ],
            [
             0.7777777777777778,
             "#fb9f3a"
            ],
            [
             0.8888888888888888,
             "#fdca26"
            ],
            [
             1,
             "#f0f921"
            ]
           ]
          },
          "colorway": [
           "#636efa",
           "#EF553B",
           "#00cc96",
           "#ab63fa",
           "#FFA15A",
           "#19d3f3",
           "#FF6692",
           "#B6E880",
           "#FF97FF",
           "#FECB52"
          ],
          "font": {
           "color": "#2a3f5f"
          },
          "geo": {
           "bgcolor": "white",
           "lakecolor": "white",
           "landcolor": "white",
           "showlakes": true,
           "showland": true,
           "subunitcolor": "#C8D4E3"
          },
          "hoverlabel": {
           "align": "left"
          },
          "hovermode": "closest",
          "mapbox": {
           "style": "light"
          },
          "paper_bgcolor": "white",
          "plot_bgcolor": "white",
          "polar": {
           "angularaxis": {
            "gridcolor": "#EBF0F8",
            "linecolor": "#EBF0F8",
            "ticks": ""
           },
           "bgcolor": "white",
           "radialaxis": {
            "gridcolor": "#EBF0F8",
            "linecolor": "#EBF0F8",
            "ticks": ""
           }
          },
          "scene": {
           "xaxis": {
            "backgroundcolor": "white",
            "gridcolor": "#DFE8F3",
            "gridwidth": 2,
            "linecolor": "#EBF0F8",
            "showbackground": true,
            "ticks": "",
            "zerolinecolor": "#EBF0F8"
           },
           "yaxis": {
            "backgroundcolor": "white",
            "gridcolor": "#DFE8F3",
            "gridwidth": 2,
            "linecolor": "#EBF0F8",
            "showbackground": true,
            "ticks": "",
            "zerolinecolor": "#EBF0F8"
           },
           "zaxis": {
            "backgroundcolor": "white",
            "gridcolor": "#DFE8F3",
            "gridwidth": 2,
            "linecolor": "#EBF0F8",
            "showbackground": true,
            "ticks": "",
            "zerolinecolor": "#EBF0F8"
           }
          },
          "shapedefaults": {
           "line": {
            "color": "#2a3f5f"
           }
          },
          "ternary": {
           "aaxis": {
            "gridcolor": "#DFE8F3",
            "linecolor": "#A2B1C6",
            "ticks": ""
           },
           "baxis": {
            "gridcolor": "#DFE8F3",
            "linecolor": "#A2B1C6",
            "ticks": ""
           },
           "bgcolor": "white",
           "caxis": {
            "gridcolor": "#DFE8F3",
            "linecolor": "#A2B1C6",
            "ticks": ""
           }
          },
          "title": {
           "x": 0.05
          },
          "xaxis": {
           "automargin": true,
           "gridcolor": "#EBF0F8",
           "linecolor": "#EBF0F8",
           "ticks": "",
           "title": {
            "standoff": 15
           },
           "zerolinecolor": "#EBF0F8",
           "zerolinewidth": 2
          },
          "yaxis": {
           "automargin": true,
           "gridcolor": "#EBF0F8",
           "linecolor": "#EBF0F8",
           "ticks": "",
           "title": {
            "standoff": 15
           },
           "zerolinecolor": "#EBF0F8",
           "zerolinewidth": 2
          }
         }
        },
        "title": {
         "font": {
          "color": "Black",
          "size": 22
         },
         "text": "<b>Hierarchical Clustering</b>",
         "x": 0.5,
         "xanchor": "center",
         "yanchor": "top"
        },
        "width": 1000,
        "xaxis": {
         "mirror": "allticks",
         "rangemode": "tozero",
         "showgrid": false,
         "showline": true,
         "showticklabels": true,
         "ticks": "outside",
         "type": "linear",
         "zeroline": false
        },
        "yaxis": {
         "mirror": "allticks",
         "range": [
          -180,
          0
         ],
         "rangemode": "tozero",
         "showgrid": false,
         "showline": true,
         "showticklabels": true,
         "tickmode": "array",
         "ticks": "outside",
         "ticktext": [
          "9_turned_thermostat_boiler",
          "4_day_kept_central",
          "8_used_increased_central",
          "13_heating bills_worried_gas",
          "5_plans_transport_work",
          "6_necessary_less_house go",
          "1_cancelled_outdoor_appoint...",
          "2_weather_go_garden",
          "10_work_left_baby",
          "12_home_worked_work",
          "14_fan_brought_room bought",
          "3_extra_bedding_heated",
          "15_windows_doors_draught",
          "11_house warm_insulation_stay",
          "0_layers_extra_gloves",
          "7_log burner_logs_stove",
          "16_stocked_delivery_bought",
          "17_warming_soups_hot"
         ],
         "tickvals": [
          -5,
          -15,
          -25,
          -35,
          -45,
          -55,
          -65,
          -75,
          -85,
          -95,
          -105,
          -115,
          -125,
          -135,
          -145,
          -155,
          -165,
          -175
         ],
         "type": "linear",
         "zeroline": false
        }
       }
      }
     },
     "metadata": {},
     "output_type": "display_data"
    }
   ],
   "source": [
    "fig2 = BERT_model.visualize_hierarchy()\n",
    "fig2"
   ]
  },
  {
   "cell_type": "code",
   "execution_count": null,
   "metadata": {},
   "outputs": [],
   "source": [
    "# topics_to_merge = [[1, 2]\n",
    "#                    [3, 4]]\n",
    "# BERT_model.merge_topics(docs, topics_to_merge)\n",
    "\n",
    "\n",
    "\n",
    "#BERT_model.reduce_topics(docs, nr_topics=30)\n",
    "\n",
    "\n",
    "# Topics_to_merge = []\n",
    "# merge_list = []\n",
    "# while True:\n",
    "#     print(\"Current merge list: \", merge_list)\n",
    "#     print(\"Current Topics_to_merge: \", Topics_to_merge)\n",
    "#     topic = input(\"Enter topic numbers to merge, 'm' to conclude that merge list and 'q' to quit: \")\n",
    "#     if topic == \"q\":\n",
    "#         break\n",
    "#     elif topic == \"m\":\n",
    "#         if len(merge_list) > 1:\n",
    "#             Topics_to_merge.append(merge_list)\n",
    "#         merge_list = []\n",
    "#     else:\n",
    "#         merge_list.append(int(topic))\n",
    "# if len(Topics_to_merge) > 0:\n",
    "#     print(\"Topics_to_merge: \", Topics_to_merge)\n",
    "#     BERT_model.merge_topics(docs=docs, topics_to_merge=Topics_to_merge)"
   ]
  },
  {
   "cell_type": "code",
   "execution_count": null,
   "metadata": {},
   "outputs": [],
   "source": [
    "# import plotly.graph_objects as go\n",
    "\n",
    "# # Assuming `BERT_model` is already defined\n",
    "# topic_info = BERT_model.get_topic_info()\n",
    "# num_topics = len(topic_info) - 1  # Exclude the outlier topic (-1)\n",
    "\n",
    "# topn_words = 4  # Number of top words to display for each topic\n",
    "\n",
    "# labels = []\n",
    "# parents = []\n",
    "# values = []\n",
    "\n",
    "# # Add topics to the sunburst plot\n",
    "# for i in range(num_topics):\n",
    "#     topic = BERT_model.get_topic(i)\n",
    "#     topic_label = f\"Topic {i+1}\"\n",
    "#     labels.append(topic_label)\n",
    "#     parents.append(\"\")\n",
    "#     values.append(sum([weight for _, weight in topic[:topn_words]]))\n",
    "\n",
    "#     # Add top words for each topic\n",
    "#     for word, weight in topic[:topn_words]:\n",
    "#         labels.append(word)\n",
    "#         parents.append(topic_label)\n",
    "#         values.append(weight)\n",
    "\n",
    "# # Print lists for debugging\n",
    "# print(labels)\n",
    "# print(parents)\n",
    "# print(values)\n",
    "\n",
    "# # Create the sunburst plot\n",
    "# fig = go.Figure(go.Sunburst(\n",
    "#     labels=labels,\n",
    "#     parents=parents,\n",
    "#     values=values,\n",
    "#     branchvalues=\"total\",\n",
    "#     hovertemplate='<b>%{label}</b><br>Weight: %{value:.2f}<extra></extra>',\n",
    "# ))\n",
    "\n",
    "# # Set the layout\n",
    "# fig.update_layout(\n",
    "#     title=\"BERTopic Model Sunburst Plot for Heat Survey\",\n",
    "#     margin=dict(t=50, l=0, r=0, b=0),\n",
    "# )\n",
    "\n",
    "# # Show the plot\n",
    "# fig.show()"
   ]
  }
 ],
 "metadata": {
  "kernelspec": {
   "display_name": "Bertopic",
   "language": "python",
   "name": "python3"
  },
  "language_info": {
   "codemirror_mode": {
    "name": "ipython",
    "version": 3
   },
   "file_extension": ".py",
   "mimetype": "text/x-python",
   "name": "python",
   "nbconvert_exporter": "python",
   "pygments_lexer": "ipython3",
   "version": "3.12.6"
  }
 },
 "nbformat": 4,
 "nbformat_minor": 2
}
